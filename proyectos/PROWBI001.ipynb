{
  "nbformat": 4,
  "nbformat_minor": 0,
  "metadata": {
    "colab": {
      "provenance": []
    },
    "kernelspec": {
      "name": "python3",
      "display_name": "Python 3"
    },
    "language_info": {
      "name": "python"
    }
  },
  "cells": [
    {
      "cell_type": "markdown",
      "source": [
        "# Proyecto: PROWBI001 (Proyecto World Banc Indicators 001)"
      ],
      "metadata": {
        "id": "AaqohPl7Uv0V"
      }
    },
    {
      "cell_type": "markdown",
      "source": [
        "Data source: **Kaggle, World Bank Indicators Collection**  \n",
        "URL        : https://www.kaggle.com/datasets/ploverbrown/world-bank-indicators-collection  \n",
        "Autor      : PLOVER BROWN  \n",
        "Fuente     : **Banco Mundial**  \n",
        "Fichero    : PopulationDataWorldBank.xlsx  \n",
        "\n",
        "## Componentes\n",
        "\n",
        "1. ***Población (seleccionado)***\n",
        "2. ***Densidad de población (seleccionado)***\n",
        "3. ***Crecimiento de la población  (seleccionado)***\n",
        "4. Población femenina\n",
        "5. Población masculina\n",
        "6. ***Educación  (seleccionado)***\n",
        "7. Cambio climático\n",
        "8. Comercio\n",
        "9. Infraestructura\n",
        "10. Pobreza \n",
        "11. Desarrollo social\n",
        "12. Medio ambiente\n",
        "13. Agricultura y medio rural\n",
        "14. ***Desarrollo económico  (seleccionado)***\n",
        "15. ***Salud  (seleccionado)***\n",
        "16. ***Sector privado  (seleccionado)***\n",
        "17. ***Sector público (seleccionado)***\n",
        "18. ***Sector financiero (seleccionado)***\n",
        "19. ***Ciencia y tecnología (seleccionado)***\n",
        "20. ***Deuda externa (seleccionado)***\n",
        "21. ***Metadatos de paises (seleccionado)***\n",
        "22. ***Metadatos de indicadores (seleccionado)***\n",
        "\n",
        "Los conjuntos de datos marcados como ***seleccionado*** serán incluidos en este proyecto.  \n",
        "\n",
        "El presente proyecto solo es un ejercicio de NumPy y Pandas sobre Python en Notebbok en Google Colab."
      ],
      "metadata": {
        "id": "TK1itPZ9U6i5"
      }
    },
    {
      "cell_type": "markdown",
      "source": [
        "***Extracción de datos***"
      ],
      "metadata": {
        "id": "iEqfklEQvf5r"
      }
    },
    {
      "cell_type": "code",
      "source": [
        "# Librerías\n",
        "import numpy  as np\n",
        "import pandas as pd"
      ],
      "metadata": {
        "id": "CzfL1ZJnU4Wf"
      },
      "execution_count": 4,
      "outputs": []
    },
    {
      "cell_type": "code",
      "source": [
        "# Leer conjuntos de datos\n",
        "df01 = pd.read_excel('/content/PopulationDataWorldBank.xlsx','Population Totals')    # Población\n",
        "df02 = pd.read_excel('/content/PopulationDataWorldBank.xlsx','Population Density')   # Densidad de población\n",
        "df03 = pd.read_excel('/content/PopulationDataWorldBank.xlsx','Population Growth')    # Crecimiento de la población\n",
        "df06 = pd.read_excel('/content/PopulationDataWorldBank.xlsx','Education')            # Educación\n",
        "df14 = pd.read_excel('/content/PopulationDataWorldBank.xlsx','Economic Growth')      # Desarrollo económico\n",
        "df15a = pd.read_excel('/content/PopulationDataWorldBank.xlsx','Health1')             # Salud - hoja 1\n",
        "df15b = pd.read_excel('/content/PopulationDataWorldBank.xlsx','Health2')             # Salud - hoja 2\n",
        "df16 = pd.read_excel('/content/PopulationDataWorldBank.xlsx','Private Sector')       # Sector privado\n",
        "df17 = pd.read_excel('/content/PopulationDataWorldBank.xlsx','Public Sector')        # Sector público\n",
        "df18 = pd.read_excel('/content/PopulationDataWorldBank.xlsx','Financial Sector')     # Sector financiero\n",
        "df19 = pd.read_excel('/content/PopulationDataWorldBank.xlsx','Science & Technology') # Ciencia y tecnología \n",
        "df20 = pd.read_excel('/content/PopulationDataWorldBank.xlsx','External Debt')        # Deuda externa\n",
        "df21 = pd.read_excel('/content/PopulationDataWorldBank.xlsx','Country Metadata')     # Metadatos de paises\n",
        "df22 = pd.read_excel('/content/PopulationDataWorldBank.xlsx','Metadata Indicators')  # Metadatos de indicadores"
      ],
      "metadata": {
        "id": "J4a9k1rFb4wL"
      },
      "execution_count": 5,
      "outputs": []
    },
    {
      "cell_type": "markdown",
      "source": [
        "***Transformación de datos (filtrado del original)***"
      ],
      "metadata": {
        "id": "9W5ErTazvxSJ"
      }
    },
    {
      "cell_type": "code",
      "source": [
        "# Comprobamos el DataFrame df01\n",
        "df01.info"
      ],
      "metadata": {
        "colab": {
          "base_uri": "https://localhost:8080/"
        },
        "id": "xsEsRBg5iJmC",
        "outputId": "2b208875-fbaf-41d9-f9ac-42a2ef209049"
      },
      "execution_count": null,
      "outputs": [
        {
          "output_type": "execute_result",
          "data": {
            "text/plain": [
              "<bound method DataFrame.info of      Country Name Country Code     Indicator Name Indicator Code        1960  \\\n",
              "0           Aruba          ABW  Population, total    SP.POP.TOTL     54211.0   \n",
              "1     Afghanistan          AFG  Population, total    SP.POP.TOTL   8996973.0   \n",
              "2          Angola          AGO  Population, total    SP.POP.TOTL   5454933.0   \n",
              "3         Albania          ALB  Population, total    SP.POP.TOTL   1608800.0   \n",
              "4         Andorra          AND  Population, total    SP.POP.TOTL     13411.0   \n",
              "..            ...          ...                ...            ...         ...   \n",
              "259        Kosovo          XKX  Population, total    SP.POP.TOTL    947000.0   \n",
              "260   Yemen, Rep.          YEM  Population, total    SP.POP.TOTL   5315355.0   \n",
              "261  South Africa          ZAF  Population, total    SP.POP.TOTL  17099840.0   \n",
              "262        Zambia          ZMB  Population, total    SP.POP.TOTL   3070776.0   \n",
              "263      Zimbabwe          ZWE  Population, total    SP.POP.TOTL   3776681.0   \n",
              "\n",
              "           1961        1962        1963        1964        1965  ...  \\\n",
              "0       55438.0     56225.0     56695.0     57032.0     57360.0  ...   \n",
              "1     9169410.0   9351441.0   9543205.0   9744781.0   9956320.0  ...   \n",
              "2     5531472.0   5608539.0   5679458.0   5735044.0   5770570.0  ...   \n",
              "3     1659800.0   1711319.0   1762621.0   1814135.0   1864791.0  ...   \n",
              "4       14375.0     15370.0     16412.0     17469.0     18549.0  ...   \n",
              "..          ...         ...         ...         ...         ...  ...   \n",
              "259    966000.0    994000.0   1022000.0   1050000.0   1078000.0  ...   \n",
              "260   5393036.0   5473671.0   5556766.0   5641597.0   5727751.0  ...   \n",
              "261  17524533.0  17965725.0  18423161.0  18896307.0  19384841.0  ...   \n",
              "262   3164329.0   3260650.0   3360104.0   3463213.0   3570464.0  ...   \n",
              "263   3905034.0   4039201.0   4178726.0   4322861.0   4471177.0  ...   \n",
              "\n",
              "           2010        2011        2012        2013        2014        2015  \\\n",
              "0      101669.0    102046.0    102560.0    103159.0    103774.0    104341.0   \n",
              "1    29185507.0  30117413.0  31161376.0  32269589.0  33370794.0  34413603.0   \n",
              "2    23356246.0  24220661.0  25107931.0  26015780.0  26941779.0  27884381.0   \n",
              "3     2913021.0   2905195.0   2900401.0   2895092.0   2889104.0   2880703.0   \n",
              "4       84449.0     83747.0     82427.0     80774.0     79213.0     78011.0   \n",
              "..          ...         ...         ...         ...         ...         ...   \n",
              "259   1775680.0   1791000.0   1807106.0   1818117.0   1812771.0   1788196.0   \n",
              "260  23154855.0  23807588.0  24473178.0  25147109.0  25823485.0  26497889.0   \n",
              "261  51216964.0  52004172.0  52834005.0  53689236.0  54545991.0  55386367.0   \n",
              "262  13605984.0  14023193.0  14465121.0  14926504.0  15399753.0  15879361.0   \n",
              "263  12697723.0  12894316.0  13115131.0  13350356.0  13586681.0  13814629.0   \n",
              "\n",
              "           2016        2017        2018        2019  \n",
              "0      104872.0    105366.0    105845.0    106314.0  \n",
              "1    35383128.0  36296400.0  37172386.0  38041754.0  \n",
              "2    28842484.0  29816748.0  30809762.0  31825295.0  \n",
              "3     2876101.0   2873457.0   2866376.0   2854191.0  \n",
              "4       77297.0     77001.0     77006.0     77142.0  \n",
              "..          ...         ...         ...         ...  \n",
              "259   1777557.0   1791003.0   1797085.0   1794248.0  \n",
              "260  27168210.0  27834821.0  28498687.0  29161922.0  \n",
              "261  56203654.0  57000451.0  57779622.0  58558270.0  \n",
              "262  16363507.0  16853688.0  17351822.0  17861030.0  \n",
              "263  14030390.0  14236745.0  14439018.0  14645468.0  \n",
              "\n",
              "[264 rows x 64 columns]>"
            ]
          },
          "metadata": {},
          "execution_count": 18
        }
      ]
    },
    {
      "cell_type": "code",
      "source": [
        "# Redefinimos la lectura para capturar solamente las columnas que nos interesa de l DataFrame df01\n",
        "# Consideramos solo el indicador en el último año considerado\n",
        "df01 = pd.read_excel('/content/PopulationDataWorldBank.xlsx','Population Totals').loc[:, ('Country Name', 'Country Code', 'Indicator Name', 'Indicator Code', '2019')]\n",
        "df01.info"
      ],
      "metadata": {
        "colab": {
          "base_uri": "https://localhost:8080/"
        },
        "id": "pxYcQd_7l6xu",
        "outputId": "5914711b-fd3d-4dbf-d3f1-aad651658a7d"
      },
      "execution_count": 6,
      "outputs": [
        {
          "output_type": "execute_result",
          "data": {
            "text/plain": [
              "<bound method DataFrame.info of      Country Name Country Code     Indicator Name Indicator Code        2019\n",
              "0           Aruba          ABW  Population, total    SP.POP.TOTL    106314.0\n",
              "1     Afghanistan          AFG  Population, total    SP.POP.TOTL  38041754.0\n",
              "2          Angola          AGO  Population, total    SP.POP.TOTL  31825295.0\n",
              "3         Albania          ALB  Population, total    SP.POP.TOTL   2854191.0\n",
              "4         Andorra          AND  Population, total    SP.POP.TOTL     77142.0\n",
              "..            ...          ...                ...            ...         ...\n",
              "259        Kosovo          XKX  Population, total    SP.POP.TOTL   1794248.0\n",
              "260   Yemen, Rep.          YEM  Population, total    SP.POP.TOTL  29161922.0\n",
              "261  South Africa          ZAF  Population, total    SP.POP.TOTL  58558270.0\n",
              "262        Zambia          ZMB  Population, total    SP.POP.TOTL  17861030.0\n",
              "263      Zimbabwe          ZWE  Population, total    SP.POP.TOTL  14645468.0\n",
              "\n",
              "[264 rows x 5 columns]>"
            ]
          },
          "metadata": {},
          "execution_count": 6
        }
      ]
    },
    {
      "cell_type": "code",
      "source": [
        "# Comprobamos el DataFrame df02\n",
        "df02.info"
      ],
      "metadata": {
        "colab": {
          "base_uri": "https://localhost:8080/"
        },
        "id": "MslkT0h-m9hA",
        "outputId": "6069a3da-fce4-44b3-bfcf-ff2f2b29d6e2"
      },
      "execution_count": 7,
      "outputs": [
        {
          "output_type": "execute_result",
          "data": {
            "text/plain": [
              "<bound method DataFrame.info of      Country Name Country Code  \\\n",
              "0           Aruba          ABW   \n",
              "1     Afghanistan          AFG   \n",
              "2          Angola          AGO   \n",
              "3         Albania          ALB   \n",
              "4         Andorra          AND   \n",
              "..            ...          ...   \n",
              "259        Kosovo          XKX   \n",
              "260   Yemen, Rep.          YEM   \n",
              "261  South Africa          ZAF   \n",
              "262        Zambia          ZMB   \n",
              "263      Zimbabwe          ZWE   \n",
              "\n",
              "                                        Indicator Name Indicator Code  1960  \\\n",
              "0    Population density (people per sq. km of land ...    EN.POP.DNST   NaN   \n",
              "1    Population density (people per sq. km of land ...    EN.POP.DNST   NaN   \n",
              "2    Population density (people per sq. km of land ...    EN.POP.DNST   NaN   \n",
              "3    Population density (people per sq. km of land ...    EN.POP.DNST   NaN   \n",
              "4    Population density (people per sq. km of land ...    EN.POP.DNST   NaN   \n",
              "..                                                 ...            ...   ...   \n",
              "259  Population density (people per sq. km of land ...    EN.POP.DNST   NaN   \n",
              "260  Population density (people per sq. km of land ...    EN.POP.DNST   NaN   \n",
              "261  Population density (people per sq. km of land ...    EN.POP.DNST   NaN   \n",
              "262  Population density (people per sq. km of land ...    EN.POP.DNST   NaN   \n",
              "263  Population density (people per sq. km of land ...    EN.POP.DNST   NaN   \n",
              "\n",
              "           1961        1962        1963        1964        1965  ...  \\\n",
              "0    307.988889  312.361111  314.972222  316.844444  318.666667  ...   \n",
              "1     14.044987   14.323808   14.617537   14.926295   15.250314  ...   \n",
              "2      4.436891    4.498708    4.555593    4.600180    4.628676  ...   \n",
              "3     60.576642   62.456898   64.329234   66.209307   68.058066  ...   \n",
              "4     30.585106   32.702128   34.919149   37.168085   39.465957  ...   \n",
              "..          ...         ...         ...         ...         ...  ...   \n",
              "259   88.729678   91.301552   93.873427   96.445302   99.017176  ...   \n",
              "260   10.214664   10.367390   10.524776   10.685450   10.848630  ...   \n",
              "261   14.446194   14.809886   15.186970   15.577003   15.979722  ...   \n",
              "262    4.256620    4.386190    4.519975    4.658676    4.802949  ...   \n",
              "263   10.094440   10.441259   10.801928   11.174515   11.557909  ...   \n",
              "\n",
              "           2010        2011        2012        2013        2014        2015  \\\n",
              "0    564.827778  566.922222  569.777778  573.105556  576.522222  579.672222   \n",
              "1     44.704082   46.131503   47.730564   49.428038   51.114778   52.712072   \n",
              "2     18.734456   19.427818   20.139513   20.867715   21.610475   22.366553   \n",
              "3    106.314635  106.029015  105.854051  105.660292  105.441752  105.135146   \n",
              "4    179.678723  178.185106  175.376596  171.859575  168.538298  165.980851   \n",
              "..          ...         ...         ...         ...         ...         ...   \n",
              "259  163.100946  164.508129  165.987508  166.998898  166.507853  164.250574   \n",
              "260   43.856384   45.092691   46.353350   47.629807   48.910895   50.188247   \n",
              "261   42.220251   42.869179   43.553244   44.258246   44.964505   45.657261   \n",
              "262   18.302619   18.863844   19.458321   20.078968   20.715577   21.360741   \n",
              "263   32.823376   33.331565   33.902368   34.510420   35.121316   35.710557   \n",
              "\n",
              "           2016        2017        2018  2019  \n",
              "0    582.622222  585.366667  588.027778   NaN  \n",
              "1     54.197114   55.595993   56.937760   NaN  \n",
              "2     23.135064   23.916538   24.713052   NaN  \n",
              "3    104.967190  104.870693  104.612263   NaN  \n",
              "4    164.461702  163.831915  163.842553   NaN  \n",
              "..          ...         ...         ...   ...  \n",
              "259  163.273354  164.508405         NaN   NaN  \n",
              "260   51.457867   52.720459   53.977853   NaN  \n",
              "261   46.330985   46.987817   47.630120   NaN  \n",
              "262   22.012009   22.671395   23.341479   NaN  \n",
              "263   36.268295   36.801719   37.324591   NaN  \n",
              "\n",
              "[264 rows x 64 columns]>"
            ]
          },
          "metadata": {},
          "execution_count": 7
        }
      ]
    },
    {
      "cell_type": "code",
      "source": [
        "# Redefinimos la lectura para capturar solamente las columnas que nos interesa de l DataFrame df02\n",
        "# Consideramos solo el indicador en el último año considerado\n",
        "# Buscaremos substituir (más adelante) los Nan Con datos de otros datasources\n",
        "df02 = pd.read_excel('/content/PopulationDataWorldBank.xlsx','Population Density').loc[:, ('Country Name', 'Country Code', 'Indicator Name', 'Indicator Code', '2019')]\n",
        "df02.info"
      ],
      "metadata": {
        "colab": {
          "base_uri": "https://localhost:8080/"
        },
        "id": "F2jjArnKnc87",
        "outputId": "fa3c6b53-5d1c-49a2-a75f-e04890431d55"
      },
      "execution_count": 8,
      "outputs": [
        {
          "output_type": "execute_result",
          "data": {
            "text/plain": [
              "<bound method DataFrame.info of      Country Name Country Code  \\\n",
              "0           Aruba          ABW   \n",
              "1     Afghanistan          AFG   \n",
              "2          Angola          AGO   \n",
              "3         Albania          ALB   \n",
              "4         Andorra          AND   \n",
              "..            ...          ...   \n",
              "259        Kosovo          XKX   \n",
              "260   Yemen, Rep.          YEM   \n",
              "261  South Africa          ZAF   \n",
              "262        Zambia          ZMB   \n",
              "263      Zimbabwe          ZWE   \n",
              "\n",
              "                                        Indicator Name Indicator Code  2019  \n",
              "0    Population density (people per sq. km of land ...    EN.POP.DNST   NaN  \n",
              "1    Population density (people per sq. km of land ...    EN.POP.DNST   NaN  \n",
              "2    Population density (people per sq. km of land ...    EN.POP.DNST   NaN  \n",
              "3    Population density (people per sq. km of land ...    EN.POP.DNST   NaN  \n",
              "4    Population density (people per sq. km of land ...    EN.POP.DNST   NaN  \n",
              "..                                                 ...            ...   ...  \n",
              "259  Population density (people per sq. km of land ...    EN.POP.DNST   NaN  \n",
              "260  Population density (people per sq. km of land ...    EN.POP.DNST   NaN  \n",
              "261  Population density (people per sq. km of land ...    EN.POP.DNST   NaN  \n",
              "262  Population density (people per sq. km of land ...    EN.POP.DNST   NaN  \n",
              "263  Population density (people per sq. km of land ...    EN.POP.DNST   NaN  \n",
              "\n",
              "[264 rows x 5 columns]>"
            ]
          },
          "metadata": {},
          "execution_count": 8
        }
      ]
    },
    {
      "cell_type": "code",
      "source": [
        "# Comprobamos el DataFrame df03\n",
        "df03.info"
      ],
      "metadata": {
        "colab": {
          "base_uri": "https://localhost:8080/"
        },
        "id": "iUEDxUf0oATq",
        "outputId": "5aa4858b-31f2-409b-b991-1744a055c979"
      },
      "execution_count": 9,
      "outputs": [
        {
          "output_type": "execute_result",
          "data": {
            "text/plain": [
              "<bound method DataFrame.info of      Country Name Country Code                Indicator Name Indicator Code  \\\n",
              "0           Aruba          ABW  Population growth (annual %)    SP.POP.GROW   \n",
              "1     Afghanistan          AFG  Population growth (annual %)    SP.POP.GROW   \n",
              "2          Angola          AGO  Population growth (annual %)    SP.POP.GROW   \n",
              "3         Albania          ALB  Population growth (annual %)    SP.POP.GROW   \n",
              "4         Andorra          AND  Population growth (annual %)    SP.POP.GROW   \n",
              "..            ...          ...                           ...            ...   \n",
              "259        Kosovo          XKX  Population growth (annual %)    SP.POP.GROW   \n",
              "260   Yemen, Rep.          YEM  Population growth (annual %)    SP.POP.GROW   \n",
              "261  South Africa          ZAF  Population growth (annual %)    SP.POP.GROW   \n",
              "262        Zambia          ZMB  Population growth (annual %)    SP.POP.GROW   \n",
              "263      Zimbabwe          ZWE  Population growth (annual %)    SP.POP.GROW   \n",
              "\n",
              "     1960      1961      1962      1963      1964      1965  ...      2010  \\\n",
              "0     NaN  2.238144  1.409622  0.832453  0.592649  0.573468  ...  0.210709   \n",
              "1     NaN  1.898476  1.965751  2.029893  2.090248  2.147567  ...  2.746576   \n",
              "2     NaN  1.393363  1.383629  1.256555  0.973962  0.617544  ...  3.671462   \n",
              "3     NaN  3.120855  3.056731  2.953749  2.880686  2.754021  ... -0.496462   \n",
              "4     NaN  6.941532  6.692697  6.559522  6.241511  5.998800  ... -0.016577   \n",
              "..    ...       ...       ...       ...       ...       ...  ...       ...   \n",
              "259   NaN  1.986474  2.857337  2.777956  2.702867  2.631731  ...  0.803249   \n",
              "260   NaN  1.450869  1.484101  1.506678  1.515090  1.515578  ...  2.795788   \n",
              "261   NaN  2.453268  2.486399  2.514285  2.535788  2.552486  ...  1.455280   \n",
              "262   NaN  3.001073  2.998554  3.004536  3.022485  3.049879  ...  2.914663   \n",
              "263   NaN  3.342091  3.378041  3.395952  3.391104  3.373423  ...  1.353893   \n",
              "\n",
              "         2011      2012      2013      2014      2015      2016      2017  \\\n",
              "0    0.370125  0.502430  0.582349  0.594397  0.544892  0.507618  0.469944   \n",
              "1    3.143126  3.407587  3.494589  3.355582  3.077084  2.778317  2.548347   \n",
              "2    3.634159  3.597774  3.551950  3.497493  3.438851  3.378273  3.322081   \n",
              "3   -0.269017 -0.165151 -0.183211 -0.207047 -0.291206 -0.159880 -0.091972   \n",
              "4   -0.834745 -1.588730 -2.025792 -1.951470 -1.529058 -0.919470 -0.383674   \n",
              "..        ...       ...       ...       ...       ...       ...       ...   \n",
              "259  0.859067  0.895255  0.607468 -0.294474 -1.364932 -0.596734  0.753585   \n",
              "260  2.779988  2.757339  2.716520  2.654141  2.578072  2.498247  2.424025   \n",
              "261  1.525314  1.583107  1.605752  1.583168  1.528926  1.464829  1.407741   \n",
              "262  3.020291  3.102770  3.139812  3.121305  3.066875  3.003346  2.951583   \n",
              "263  1.536391  1.698001  1.777645  1.754692  1.663813  1.549759  1.460061   \n",
              "\n",
              "         2018      2019  \n",
              "0    0.453576  0.442122  \n",
              "1    2.384761  2.311817  \n",
              "2    3.276134  3.242983  \n",
              "3   -0.246732 -0.426007  \n",
              "4    0.006493  0.176454  \n",
              "..        ...       ...  \n",
              "259  0.339011 -0.157992  \n",
              "260  2.357023  2.300580  \n",
              "261  1.357697  1.338617  \n",
              "262  2.912801  2.892373  \n",
              "263  1.410783  1.419681  \n",
              "\n",
              "[264 rows x 64 columns]>"
            ]
          },
          "metadata": {},
          "execution_count": 9
        }
      ]
    },
    {
      "cell_type": "code",
      "source": [
        "# Redefinimos la lectura para capturar solamente las columnas que nos interesa de l DataFrame df03\n",
        "# Consideramos solo el indicador en el último año considerado\n",
        "df03 = pd.read_excel('/content/PopulationDataWorldBank.xlsx','Population Growth').loc[:, ('Country Name', 'Country Code', 'Indicator Name', 'Indicator Code', '2019')]\n",
        "df03.info"
      ],
      "metadata": {
        "colab": {
          "base_uri": "https://localhost:8080/"
        },
        "id": "lPj0ncmsoboZ",
        "outputId": "ecb0a0b7-4e9a-4c1a-8364-6427f930399d"
      },
      "execution_count": 10,
      "outputs": [
        {
          "output_type": "execute_result",
          "data": {
            "text/plain": [
              "<bound method DataFrame.info of      Country Name Country Code                Indicator Name Indicator Code  \\\n",
              "0           Aruba          ABW  Population growth (annual %)    SP.POP.GROW   \n",
              "1     Afghanistan          AFG  Population growth (annual %)    SP.POP.GROW   \n",
              "2          Angola          AGO  Population growth (annual %)    SP.POP.GROW   \n",
              "3         Albania          ALB  Population growth (annual %)    SP.POP.GROW   \n",
              "4         Andorra          AND  Population growth (annual %)    SP.POP.GROW   \n",
              "..            ...          ...                           ...            ...   \n",
              "259        Kosovo          XKX  Population growth (annual %)    SP.POP.GROW   \n",
              "260   Yemen, Rep.          YEM  Population growth (annual %)    SP.POP.GROW   \n",
              "261  South Africa          ZAF  Population growth (annual %)    SP.POP.GROW   \n",
              "262        Zambia          ZMB  Population growth (annual %)    SP.POP.GROW   \n",
              "263      Zimbabwe          ZWE  Population growth (annual %)    SP.POP.GROW   \n",
              "\n",
              "         2019  \n",
              "0    0.442122  \n",
              "1    2.311817  \n",
              "2    3.242983  \n",
              "3   -0.426007  \n",
              "4    0.176454  \n",
              "..        ...  \n",
              "259 -0.157992  \n",
              "260  2.300580  \n",
              "261  1.338617  \n",
              "262  2.892373  \n",
              "263  1.419681  \n",
              "\n",
              "[264 rows x 5 columns]>"
            ]
          },
          "metadata": {},
          "execution_count": 10
        }
      ]
    },
    {
      "cell_type": "code",
      "source": [
        "# Comprobamos el DataFrame df06\n",
        "df06.info"
      ],
      "metadata": {
        "colab": {
          "base_uri": "https://localhost:8080/"
        },
        "id": "28ChbX46owod",
        "outputId": "691830b0-f355-4a73-a458-ccdcdabdbc60"
      },
      "execution_count": 11,
      "outputs": [
        {
          "output_type": "execute_result",
          "data": {
            "text/plain": [
              "<bound method DataFrame.info of       Country Name Country Code  \\\n",
              "0            Aruba          ABW   \n",
              "1            Aruba          ABW   \n",
              "2            Aruba          ABW   \n",
              "3            Aruba          ABW   \n",
              "4            Aruba          ABW   \n",
              "...            ...          ...   \n",
              "42763     Zimbabwe          ZWE   \n",
              "42764     Zimbabwe          ZWE   \n",
              "42765     Zimbabwe          ZWE   \n",
              "42766     Zimbabwe          ZWE   \n",
              "42767     Zimbabwe          ZWE   \n",
              "\n",
              "                                          Indicator Name  \\\n",
              "0          Population ages 15-64 (% of total population)   \n",
              "1           Population ages 0-14 (% of total population)   \n",
              "2      Unemployment, total (% of total labor force) (...   \n",
              "3      Unemployment, male (% of male labor force) (mo...   \n",
              "4      Unemployment, female (% of female labor force)...   \n",
              "...                                                  ...   \n",
              "42763  Literacy rate, adult female (% of females ages...   \n",
              "42764  Literacy rate, youth total (% of people ages 1...   \n",
              "42765  Literacy rate, youth male (% of males ages 15-24)   \n",
              "42766  Literacy rate, youth (ages 15-24), gender pari...   \n",
              "42767  Literacy rate, youth female (% of females ages...   \n",
              "\n",
              "             Indicator Code       1960       1961       1962       1963  \\\n",
              "0         SP.POP.1564.TO.ZS  53.669919  54.056784  54.383281  54.710292   \n",
              "1         SP.POP.0014.TO.ZS  43.847190  43.358346  42.925745  42.488756   \n",
              "2            SL.UEM.TOTL.ZS        NaN        NaN        NaN        NaN   \n",
              "3         SL.UEM.TOTL.MA.ZS        NaN        NaN        NaN        NaN   \n",
              "4         SL.UEM.TOTL.FE.ZS        NaN        NaN        NaN        NaN   \n",
              "...                     ...        ...        ...        ...        ...   \n",
              "42763     SE.ADT.LITR.FE.ZS        NaN        NaN        NaN        NaN   \n",
              "42764     SE.ADT.1524.LT.ZS        NaN        NaN        NaN        NaN   \n",
              "42765  SE.ADT.1524.LT.MA.ZS        NaN        NaN        NaN        NaN   \n",
              "42766  SE.ADT.1524.LT.FM.ZS        NaN        NaN        NaN        NaN   \n",
              "42767  SE.ADT.1524.LT.FE.ZS        NaN        NaN        NaN        NaN   \n",
              "\n",
              "            1964       1965  ...       2011       2012       2013       2014  \\\n",
              "0      55.119933  55.631102  ...  68.885601  68.986934  69.108851  69.181105   \n",
              "1      41.950133  41.290098  ...  20.530937  20.092629  19.593055  19.111724   \n",
              "2            NaN        NaN  ...        NaN        NaN        NaN        NaN   \n",
              "3            NaN        NaN  ...        NaN        NaN        NaN        NaN   \n",
              "4            NaN        NaN  ...        NaN        NaN        NaN        NaN   \n",
              "...          ...        ...  ...        ...        ...        ...        ...   \n",
              "42763        NaN        NaN  ...  80.065659        NaN        NaN  88.283829   \n",
              "42764        NaN        NaN  ...  90.930702        NaN        NaN  90.428123   \n",
              "42765        NaN        NaN  ...  89.590584        NaN        NaN  87.591858   \n",
              "42766        NaN        NaN  ...   1.027510        NaN        NaN   1.060060   \n",
              "42767        NaN        NaN  ...  92.124557        NaN        NaN  93.188347   \n",
              "\n",
              "            2015       2016       2017       2018       2019  2020  \n",
              "0      69.159774  69.137615  68.946339  68.646606  68.321199   NaN  \n",
              "1      18.703098  18.257495  17.980183  17.802447  17.620445   NaN  \n",
              "2            NaN        NaN        NaN        NaN        NaN   NaN  \n",
              "3            NaN        NaN        NaN        NaN        NaN   NaN  \n",
              "4            NaN        NaN        NaN        NaN        NaN   NaN  \n",
              "...          ...        ...        ...        ...        ...   ...  \n",
              "42763        NaN        NaN        NaN        NaN        NaN   NaN  \n",
              "42764        NaN        NaN        NaN        NaN        NaN   NaN  \n",
              "42765        NaN        NaN        NaN        NaN        NaN   NaN  \n",
              "42766        NaN        NaN        NaN        NaN        NaN   NaN  \n",
              "42767        NaN        NaN        NaN        NaN        NaN   NaN  \n",
              "\n",
              "[42768 rows x 65 columns]>"
            ]
          },
          "metadata": {},
          "execution_count": 11
        }
      ]
    },
    {
      "cell_type": "code",
      "source": [
        "# Redefinimos la lectura para capturar solamente las columnas que nos interesa de l DataFrame df06\n",
        "# Consideramos solo el indicador en los últimos dos años considerados\n",
        "df06 = pd.read_excel('/content/PopulationDataWorldBank.xlsx','Education').loc[:, ('Country Name', 'Country Code', 'Indicator Name', 'Indicator Code', '2019', '2020')]\n",
        "df06.info"
      ],
      "metadata": {
        "colab": {
          "base_uri": "https://localhost:8080/"
        },
        "id": "Px_AEa3XpPGf",
        "outputId": "122cf7b1-234a-483b-8c76-ce993fbdfb5a"
      },
      "execution_count": 12,
      "outputs": [
        {
          "output_type": "execute_result",
          "data": {
            "text/plain": [
              "<bound method DataFrame.info of       Country Name Country Code  \\\n",
              "0            Aruba          ABW   \n",
              "1            Aruba          ABW   \n",
              "2            Aruba          ABW   \n",
              "3            Aruba          ABW   \n",
              "4            Aruba          ABW   \n",
              "...            ...          ...   \n",
              "42763     Zimbabwe          ZWE   \n",
              "42764     Zimbabwe          ZWE   \n",
              "42765     Zimbabwe          ZWE   \n",
              "42766     Zimbabwe          ZWE   \n",
              "42767     Zimbabwe          ZWE   \n",
              "\n",
              "                                          Indicator Name  \\\n",
              "0          Population ages 15-64 (% of total population)   \n",
              "1           Population ages 0-14 (% of total population)   \n",
              "2      Unemployment, total (% of total labor force) (...   \n",
              "3      Unemployment, male (% of male labor force) (mo...   \n",
              "4      Unemployment, female (% of female labor force)...   \n",
              "...                                                  ...   \n",
              "42763  Literacy rate, adult female (% of females ages...   \n",
              "42764  Literacy rate, youth total (% of people ages 1...   \n",
              "42765  Literacy rate, youth male (% of males ages 15-24)   \n",
              "42766  Literacy rate, youth (ages 15-24), gender pari...   \n",
              "42767  Literacy rate, youth female (% of females ages...   \n",
              "\n",
              "             Indicator Code       2019  2020  \n",
              "0         SP.POP.1564.TO.ZS  68.321199   NaN  \n",
              "1         SP.POP.0014.TO.ZS  17.620445   NaN  \n",
              "2            SL.UEM.TOTL.ZS        NaN   NaN  \n",
              "3         SL.UEM.TOTL.MA.ZS        NaN   NaN  \n",
              "4         SL.UEM.TOTL.FE.ZS        NaN   NaN  \n",
              "...                     ...        ...   ...  \n",
              "42763     SE.ADT.LITR.FE.ZS        NaN   NaN  \n",
              "42764     SE.ADT.1524.LT.ZS        NaN   NaN  \n",
              "42765  SE.ADT.1524.LT.MA.ZS        NaN   NaN  \n",
              "42766  SE.ADT.1524.LT.FM.ZS        NaN   NaN  \n",
              "42767  SE.ADT.1524.LT.FE.ZS        NaN   NaN  \n",
              "\n",
              "[42768 rows x 6 columns]>"
            ]
          },
          "metadata": {},
          "execution_count": 12
        }
      ]
    },
    {
      "cell_type": "code",
      "source": [
        "# Comprobamos el DataFrame df14\n",
        "df14.info"
      ],
      "metadata": {
        "colab": {
          "base_uri": "https://localhost:8080/"
        },
        "id": "EjcO-EjBp97n",
        "outputId": "b75f8c42-501b-4747-d4ed-fbe1c3203fdd"
      },
      "execution_count": 13,
      "outputs": [
        {
          "output_type": "execute_result",
          "data": {
            "text/plain": [
              "<bound method DataFrame.info of       Country Name Country Code  \\\n",
              "0            Aruba          ABW   \n",
              "1            Aruba          ABW   \n",
              "2            Aruba          ABW   \n",
              "3            Aruba          ABW   \n",
              "4            Aruba          ABW   \n",
              "...            ...          ...   \n",
              "64675     Zimbabwe          ZWE   \n",
              "64676     Zimbabwe          ZWE   \n",
              "64677     Zimbabwe          ZWE   \n",
              "64678     Zimbabwe          ZWE   \n",
              "64679     Zimbabwe          ZWE   \n",
              "\n",
              "                                          Indicator Name     Indicator Code  \\\n",
              "0      PPP conversion factor, private consumption (LC...     PA.NUS.PRVT.PP   \n",
              "1      Price level ratio of PPP conversion factor (GD...     PA.NUS.PPPC.RF   \n",
              "2      PPP conversion factor, GDP (LCU per internatio...         PA.NUS.PPP   \n",
              "3        DEC alternative conversion factor (LCU per US$)        PA.NUS.ATLS   \n",
              "4               Terms of trade adjustment (constant LCU)     NY.TTF.GNFS.KN   \n",
              "...                                                  ...                ...   \n",
              "64675  Insurance and financial services (% of service...     BM.GSR.INSF.ZS   \n",
              "64676   Imports of goods and services (BoP, current US$)     BM.GSR.GNFS.CD   \n",
              "64677         Primary income payments (BoP, current US$)     BM.GSR.FCTY.CD   \n",
              "64678  Communications, computer, etc. (% of service i...     BM.GSR.CMCP.ZS   \n",
              "64679                       Trade in services (% of GDP)  BG.GSR.NFSV.GD.ZS   \n",
              "\n",
              "       1960  1961  1962  1963  1964  1965  ...          2011          2012  \\\n",
              "0       NaN   NaN   NaN   NaN   NaN   NaN  ...  1.637763e+00  1.543367e+00   \n",
              "1       NaN   NaN   NaN   NaN   NaN   NaN  ...  7.278998e-01  7.362019e-01   \n",
              "2       NaN   NaN   NaN   NaN   NaN   NaN  ...  1.302941e+00  1.317801e+00   \n",
              "3       NaN   NaN   NaN   NaN   NaN   NaN  ...  1.790000e+00  1.790000e+00   \n",
              "4       NaN   NaN   NaN   NaN   NaN   NaN  ...           NaN           NaN   \n",
              "...     ...   ...   ...   ...   ...   ...  ...           ...           ...   \n",
              "64675   NaN   NaN   NaN   NaN   NaN   NaN  ...           NaN           NaN   \n",
              "64676   NaN   NaN   NaN   NaN   NaN   NaN  ...  9.272501e+09  8.386153e+09   \n",
              "64677   NaN   NaN   NaN   NaN   NaN   NaN  ...  2.555802e+08  2.972022e+08   \n",
              "64678   NaN   NaN   NaN   NaN   NaN   NaN  ...  3.116783e+01  3.151200e+01   \n",
              "64679   NaN   NaN   NaN   NaN   NaN   NaN  ...  1.532937e+01  1.236697e+01   \n",
              "\n",
              "               2013          2014          2015          2016          2017  \\\n",
              "0      1.513201e+00  1.509406e+00  1.527644e+00  1.496794e+00  1.480481e+00   \n",
              "1      7.179559e-01  7.311971e-01  7.610715e-01  7.570082e-01  7.545752e-01   \n",
              "2      1.285141e+00  1.308843e+00  1.362318e+00  1.355045e+00  1.350690e+00   \n",
              "3      1.790000e+00  1.790000e+00  1.790000e+00  1.790000e+00  1.790000e+00   \n",
              "4               NaN           NaN           NaN           NaN           NaN   \n",
              "...             ...           ...           ...           ...           ...   \n",
              "64675           NaN  0.000000e+00  0.000000e+00  0.000000e+00  1.288252e+01   \n",
              "64676  8.601002e+09  8.187004e+09  7.503865e+09  6.426700e+09  6.559418e+09   \n",
              "64677  2.944554e+08  3.443138e+08  3.695732e+08  3.986379e+08  3.915782e+08   \n",
              "64678  3.208911e+01  3.167977e+01  3.894505e+01  4.466696e+01  3.454522e+01   \n",
              "64679  1.178003e+01  1.188213e+01  9.569889e+00  8.080966e+00  6.858633e+00   \n",
              "\n",
              "           2018      2019  2020  \n",
              "0      1.497584  1.533552   NaN  \n",
              "1           NaN       NaN   NaN  \n",
              "2           NaN       NaN   NaN  \n",
              "3      1.790000  1.790000   NaN  \n",
              "4           NaN       NaN   NaN  \n",
              "...         ...       ...   ...  \n",
              "64675       NaN       NaN   NaN  \n",
              "64676       NaN       NaN   NaN  \n",
              "64677       NaN       NaN   NaN  \n",
              "64678       NaN       NaN   NaN  \n",
              "64679       NaN       NaN   NaN  \n",
              "\n",
              "[64680 rows x 65 columns]>"
            ]
          },
          "metadata": {},
          "execution_count": 13
        }
      ]
    },
    {
      "cell_type": "code",
      "source": [
        "# Redefinimos la lectura para capturar solamente las columnas que nos interesa de l DataFrame df14\n",
        "# Consideramos solo el indicador en los últimos dos años considerados\n",
        "df14 = pd.read_excel('/content/PopulationDataWorldBank.xlsx','Education').loc[:, ('Country Name', 'Country Code', 'Indicator Name', 'Indicator Code', '2019', '2020')]\n",
        "df14.info"
      ],
      "metadata": {
        "colab": {
          "base_uri": "https://localhost:8080/"
        },
        "id": "XUCE6QAaqXOZ",
        "outputId": "252c7d48-bf88-438c-b119-ab5541b61a73"
      },
      "execution_count": 14,
      "outputs": [
        {
          "output_type": "execute_result",
          "data": {
            "text/plain": [
              "<bound method DataFrame.info of       Country Name Country Code  \\\n",
              "0            Aruba          ABW   \n",
              "1            Aruba          ABW   \n",
              "2            Aruba          ABW   \n",
              "3            Aruba          ABW   \n",
              "4            Aruba          ABW   \n",
              "...            ...          ...   \n",
              "42763     Zimbabwe          ZWE   \n",
              "42764     Zimbabwe          ZWE   \n",
              "42765     Zimbabwe          ZWE   \n",
              "42766     Zimbabwe          ZWE   \n",
              "42767     Zimbabwe          ZWE   \n",
              "\n",
              "                                          Indicator Name  \\\n",
              "0          Population ages 15-64 (% of total population)   \n",
              "1           Population ages 0-14 (% of total population)   \n",
              "2      Unemployment, total (% of total labor force) (...   \n",
              "3      Unemployment, male (% of male labor force) (mo...   \n",
              "4      Unemployment, female (% of female labor force)...   \n",
              "...                                                  ...   \n",
              "42763  Literacy rate, adult female (% of females ages...   \n",
              "42764  Literacy rate, youth total (% of people ages 1...   \n",
              "42765  Literacy rate, youth male (% of males ages 15-24)   \n",
              "42766  Literacy rate, youth (ages 15-24), gender pari...   \n",
              "42767  Literacy rate, youth female (% of females ages...   \n",
              "\n",
              "             Indicator Code       2019  2020  \n",
              "0         SP.POP.1564.TO.ZS  68.321199   NaN  \n",
              "1         SP.POP.0014.TO.ZS  17.620445   NaN  \n",
              "2            SL.UEM.TOTL.ZS        NaN   NaN  \n",
              "3         SL.UEM.TOTL.MA.ZS        NaN   NaN  \n",
              "4         SL.UEM.TOTL.FE.ZS        NaN   NaN  \n",
              "...                     ...        ...   ...  \n",
              "42763     SE.ADT.LITR.FE.ZS        NaN   NaN  \n",
              "42764     SE.ADT.1524.LT.ZS        NaN   NaN  \n",
              "42765  SE.ADT.1524.LT.MA.ZS        NaN   NaN  \n",
              "42766  SE.ADT.1524.LT.FM.ZS        NaN   NaN  \n",
              "42767  SE.ADT.1524.LT.FE.ZS        NaN   NaN  \n",
              "\n",
              "[42768 rows x 6 columns]>"
            ]
          },
          "metadata": {},
          "execution_count": 14
        }
      ]
    },
    {
      "cell_type": "code",
      "source": [
        "# Comprobamos el DataFrame df15a\n",
        "df15a.info"
      ],
      "metadata": {
        "colab": {
          "base_uri": "https://localhost:8080/"
        },
        "id": "N0kLzhq0qu2d",
        "outputId": "1b7cc171-6cc8-4005-b10e-dd69874cc305"
      },
      "execution_count": 15,
      "outputs": [
        {
          "output_type": "execute_result",
          "data": {
            "text/plain": [
              "<bound method DataFrame.info of       Country Name Country Code  \\\n",
              "0            Aruba          ABW   \n",
              "1            Aruba          ABW   \n",
              "2            Aruba          ABW   \n",
              "3            Aruba          ABW   \n",
              "4            Aruba          ABW   \n",
              "...            ...          ...   \n",
              "65527       Kosovo          XKX   \n",
              "65528       Kosovo          XKX   \n",
              "65529       Kosovo          XKX   \n",
              "65530       Kosovo          XKX   \n",
              "65531       Kosovo          XKX   \n",
              "\n",
              "                                          Indicator Name     Indicator Code  \\\n",
              "0      Unmet need for contraception (% of married wom...        SP.UWT.TFRT   \n",
              "1      Completeness of death registration with cause-...     SP.REG.DTHS.ZS   \n",
              "2                 Completeness of birth registration (%)     SP.REG.BRTH.ZS   \n",
              "3          Completeness of birth registration, urban (%)  SP.REG.BRTH.UR.ZS   \n",
              "4          Completeness of birth registration, rural (%)  SP.REG.BRTH.RU.ZS   \n",
              "...                                                  ...                ...   \n",
              "65527  Unmet need for contraception (% of married wom...        SP.UWT.TFRT   \n",
              "65528  Completeness of death registration with cause-...     SP.REG.DTHS.ZS   \n",
              "65529             Completeness of birth registration (%)     SP.REG.BRTH.ZS   \n",
              "65530      Completeness of birth registration, urban (%)  SP.REG.BRTH.UR.ZS   \n",
              "65531      Completeness of birth registration, rural (%)  SP.REG.BRTH.RU.ZS   \n",
              "\n",
              "       1960  1961  1962  1963  1964  1965  ...  2011  2012  2013  2014  2015  \\\n",
              "0       NaN   NaN   NaN   NaN   NaN   NaN  ...   NaN   NaN   NaN   NaN   NaN   \n",
              "1       NaN   NaN   NaN   NaN   NaN   NaN  ...   NaN   NaN   NaN   NaN   NaN   \n",
              "2       NaN   NaN   NaN   NaN   NaN   NaN  ...   NaN   NaN   NaN   NaN   NaN   \n",
              "3       NaN   NaN   NaN   NaN   NaN   NaN  ...   NaN   NaN   NaN   NaN   NaN   \n",
              "4       NaN   NaN   NaN   NaN   NaN   NaN  ...   NaN   NaN   NaN   NaN   NaN   \n",
              "...     ...   ...   ...   ...   ...   ...  ...   ...   ...   ...   ...   ...   \n",
              "65527   NaN   NaN   NaN   NaN   NaN   NaN  ...   NaN   NaN   NaN   NaN   NaN   \n",
              "65528   NaN   NaN   NaN   NaN   NaN   NaN  ...   NaN   NaN   NaN   NaN   NaN   \n",
              "65529   NaN   NaN   NaN   NaN   NaN   NaN  ...   NaN   NaN   NaN   NaN   NaN   \n",
              "65530   NaN   NaN   NaN   NaN   NaN   NaN  ...   NaN   NaN   NaN   NaN   NaN   \n",
              "65531   NaN   NaN   NaN   NaN   NaN   NaN  ...   NaN   NaN   NaN   NaN   NaN   \n",
              "\n",
              "       2016  2017  2018  2019  2020  \n",
              "0       NaN   NaN   NaN   NaN   NaN  \n",
              "1       NaN   NaN   NaN   NaN   NaN  \n",
              "2       NaN   NaN   NaN   NaN   NaN  \n",
              "3       NaN   NaN   NaN   NaN   NaN  \n",
              "4       NaN   NaN   NaN   NaN   NaN  \n",
              "...     ...   ...   ...   ...   ...  \n",
              "65527   NaN   NaN   NaN   NaN   NaN  \n",
              "65528   NaN   NaN   NaN   NaN   NaN  \n",
              "65529   NaN   NaN   NaN   NaN   NaN  \n",
              "65530   NaN   NaN   NaN   NaN   NaN  \n",
              "65531   NaN   NaN   NaN   NaN   NaN  \n",
              "\n",
              "[65532 rows x 65 columns]>"
            ]
          },
          "metadata": {},
          "execution_count": 15
        }
      ]
    },
    {
      "cell_type": "code",
      "source": [
        "# Redefinimos la lectura para capturar solamente las columnas que nos interesa de l DataFrame df15a\n",
        "# Consideramos solo el indicador en los últimos dos años considerados\n",
        "df15a = pd.read_excel('/content/PopulationDataWorldBank.xlsx','Health1').loc[:, ('Country Name', 'Country Code', 'Indicator Name', 'Indicator Code', '2019', '2020')]\n",
        "df15a.info"
      ],
      "metadata": {
        "colab": {
          "base_uri": "https://localhost:8080/"
        },
        "id": "FKKfjDx-qzwn",
        "outputId": "bcfb3462-5d1f-4c4f-cf43-4c285513d463"
      },
      "execution_count": 16,
      "outputs": [
        {
          "output_type": "execute_result",
          "data": {
            "text/plain": [
              "<bound method DataFrame.info of       Country Name Country Code  \\\n",
              "0            Aruba          ABW   \n",
              "1            Aruba          ABW   \n",
              "2            Aruba          ABW   \n",
              "3            Aruba          ABW   \n",
              "4            Aruba          ABW   \n",
              "...            ...          ...   \n",
              "65527       Kosovo          XKX   \n",
              "65528       Kosovo          XKX   \n",
              "65529       Kosovo          XKX   \n",
              "65530       Kosovo          XKX   \n",
              "65531       Kosovo          XKX   \n",
              "\n",
              "                                          Indicator Name     Indicator Code  \\\n",
              "0      Unmet need for contraception (% of married wom...        SP.UWT.TFRT   \n",
              "1      Completeness of death registration with cause-...     SP.REG.DTHS.ZS   \n",
              "2                 Completeness of birth registration (%)     SP.REG.BRTH.ZS   \n",
              "3          Completeness of birth registration, urban (%)  SP.REG.BRTH.UR.ZS   \n",
              "4          Completeness of birth registration, rural (%)  SP.REG.BRTH.RU.ZS   \n",
              "...                                                  ...                ...   \n",
              "65527  Unmet need for contraception (% of married wom...        SP.UWT.TFRT   \n",
              "65528  Completeness of death registration with cause-...     SP.REG.DTHS.ZS   \n",
              "65529             Completeness of birth registration (%)     SP.REG.BRTH.ZS   \n",
              "65530      Completeness of birth registration, urban (%)  SP.REG.BRTH.UR.ZS   \n",
              "65531      Completeness of birth registration, rural (%)  SP.REG.BRTH.RU.ZS   \n",
              "\n",
              "       2019  2020  \n",
              "0       NaN   NaN  \n",
              "1       NaN   NaN  \n",
              "2       NaN   NaN  \n",
              "3       NaN   NaN  \n",
              "4       NaN   NaN  \n",
              "...     ...   ...  \n",
              "65527   NaN   NaN  \n",
              "65528   NaN   NaN  \n",
              "65529   NaN   NaN  \n",
              "65530   NaN   NaN  \n",
              "65531   NaN   NaN  \n",
              "\n",
              "[65532 rows x 6 columns]>"
            ]
          },
          "metadata": {},
          "execution_count": 16
        }
      ]
    },
    {
      "cell_type": "code",
      "source": [
        "# Comprobamos el DataFrame df15b\n",
        "df15b.info"
      ],
      "metadata": {
        "colab": {
          "base_uri": "https://localhost:8080/"
        },
        "id": "j3SBw9SPrXsh",
        "outputId": "4d7debf0-845a-41ef-9c92-057b51c585b3"
      },
      "execution_count": 17,
      "outputs": [
        {
          "output_type": "execute_result",
          "data": {
            "text/plain": [
              "<bound method DataFrame.info of      Country Name Country Code  \\\n",
              "0          Kosovo          XKX   \n",
              "1          Kosovo          XKX   \n",
              "2          Kosovo          XKX   \n",
              "3          Kosovo          XKX   \n",
              "4          Kosovo          XKX   \n",
              "...           ...          ...   \n",
              "1255     Zimbabwe          ZWE   \n",
              "1256     Zimbabwe          ZWE   \n",
              "1257     Zimbabwe          ZWE   \n",
              "1258     Zimbabwe          ZWE   \n",
              "1259     Zimbabwe          ZWE   \n",
              "\n",
              "                                         Indicator Name     Indicator Code  \\\n",
              "0          Completeness of birth registration, male (%)  SP.REG.BRTH.MA.ZS   \n",
              "1        Completeness of birth registration, female (%)  SP.REG.BRTH.FE.ZS   \n",
              "2              Population, male (% of total population)  SP.POP.TOTL.MA.ZS   \n",
              "3                                      Population, male  SP.POP.TOTL.MA.IN   \n",
              "4            Population, female (% of total population)  SP.POP.TOTL.FE.ZS   \n",
              "...                                                 ...                ...   \n",
              "1255  Women who believe a husband is justified in be...     SG.VAW.NEGL.ZS   \n",
              "1256  Women who believe a husband is justified in be...     SG.VAW.GOES.ZS   \n",
              "1257  Women who believe a husband is justified in be...     SG.VAW.BURN.ZS   \n",
              "1258  Women who believe a husband is justified in be...     SG.VAW.ARGU.ZS   \n",
              "1259  Proportion of women subjected to physical and/...     SG.VAW.1549.ZS   \n",
              "\n",
              "      1960  1961  1962  1963  1964  1965  ...  2011  2012  2013  2014  2015  \\\n",
              "0      NaN   NaN   NaN   NaN   NaN   NaN  ...   NaN   NaN   NaN   NaN   NaN   \n",
              "1      NaN   NaN   NaN   NaN   NaN   NaN  ...   NaN   NaN   NaN   NaN   NaN   \n",
              "2      NaN   NaN   NaN   NaN   NaN   NaN  ...   NaN   NaN   NaN   NaN   NaN   \n",
              "3      NaN   NaN   NaN   NaN   NaN   NaN  ...   NaN   NaN   NaN   NaN   NaN   \n",
              "4      NaN   NaN   NaN   NaN   NaN   NaN  ...   NaN   NaN   NaN   NaN   NaN   \n",
              "...    ...   ...   ...   ...   ...   ...  ...   ...   ...   ...   ...   ...   \n",
              "1255   NaN   NaN   NaN   NaN   NaN   NaN  ...  21.4   NaN   NaN   NaN  21.4   \n",
              "1256   NaN   NaN   NaN   NaN   NaN   NaN  ...  22.3   NaN   NaN   NaN  22.8   \n",
              "1257   NaN   NaN   NaN   NaN   NaN   NaN  ...   7.5   NaN   NaN   NaN   8.1   \n",
              "1258   NaN   NaN   NaN   NaN   NaN   NaN  ...  15.6   NaN   NaN   NaN  16.7   \n",
              "1259   NaN   NaN   NaN   NaN   NaN   NaN  ...   NaN   NaN   NaN   NaN  19.9   \n",
              "\n",
              "      2016  2017  2018  2019  2020  \n",
              "0      NaN   NaN   NaN   NaN   NaN  \n",
              "1      NaN   NaN   NaN   NaN   NaN  \n",
              "2      NaN   NaN   NaN   NaN   NaN  \n",
              "3      NaN   NaN   NaN   NaN   NaN  \n",
              "4      NaN   NaN   NaN   NaN   NaN  \n",
              "...    ...   ...   ...   ...   ...  \n",
              "1255   NaN   NaN   NaN   NaN   NaN  \n",
              "1256   NaN   NaN   NaN   NaN   NaN  \n",
              "1257   NaN   NaN   NaN   NaN   NaN  \n",
              "1258   NaN   NaN   NaN   NaN   NaN  \n",
              "1259   NaN   NaN   NaN   NaN   NaN  \n",
              "\n",
              "[1260 rows x 65 columns]>"
            ]
          },
          "metadata": {},
          "execution_count": 17
        }
      ]
    },
    {
      "cell_type": "code",
      "source": [
        "# Redefinimos la lectura para capturar solamente las columnas que nos interesa de l DataFrame df15b\n",
        "# Consideramos solo el indicador en los últimos dos años considerados\n",
        "# df15a y df15b se fusionarán en df15\n",
        "df15b = pd.read_excel('/content/PopulationDataWorldBank.xlsx','Health2').loc[:, ('Country Name', 'Country Code', 'Indicator Name', 'Indicator Code', '2019', '2020')]\n",
        "df15b.info"
      ],
      "metadata": {
        "colab": {
          "base_uri": "https://localhost:8080/"
        },
        "id": "txXkQZsVrevF",
        "outputId": "52ad6de2-bf78-4011-efab-cae87bd9b329"
      },
      "execution_count": 18,
      "outputs": [
        {
          "output_type": "execute_result",
          "data": {
            "text/plain": [
              "<bound method DataFrame.info of      Country Name Country Code  \\\n",
              "0          Kosovo          XKX   \n",
              "1          Kosovo          XKX   \n",
              "2          Kosovo          XKX   \n",
              "3          Kosovo          XKX   \n",
              "4          Kosovo          XKX   \n",
              "...           ...          ...   \n",
              "1255     Zimbabwe          ZWE   \n",
              "1256     Zimbabwe          ZWE   \n",
              "1257     Zimbabwe          ZWE   \n",
              "1258     Zimbabwe          ZWE   \n",
              "1259     Zimbabwe          ZWE   \n",
              "\n",
              "                                         Indicator Name     Indicator Code  \\\n",
              "0          Completeness of birth registration, male (%)  SP.REG.BRTH.MA.ZS   \n",
              "1        Completeness of birth registration, female (%)  SP.REG.BRTH.FE.ZS   \n",
              "2              Population, male (% of total population)  SP.POP.TOTL.MA.ZS   \n",
              "3                                      Population, male  SP.POP.TOTL.MA.IN   \n",
              "4            Population, female (% of total population)  SP.POP.TOTL.FE.ZS   \n",
              "...                                                 ...                ...   \n",
              "1255  Women who believe a husband is justified in be...     SG.VAW.NEGL.ZS   \n",
              "1256  Women who believe a husband is justified in be...     SG.VAW.GOES.ZS   \n",
              "1257  Women who believe a husband is justified in be...     SG.VAW.BURN.ZS   \n",
              "1258  Women who believe a husband is justified in be...     SG.VAW.ARGU.ZS   \n",
              "1259  Proportion of women subjected to physical and/...     SG.VAW.1549.ZS   \n",
              "\n",
              "      2019  2020  \n",
              "0      NaN   NaN  \n",
              "1      NaN   NaN  \n",
              "2      NaN   NaN  \n",
              "3      NaN   NaN  \n",
              "4      NaN   NaN  \n",
              "...    ...   ...  \n",
              "1255   NaN   NaN  \n",
              "1256   NaN   NaN  \n",
              "1257   NaN   NaN  \n",
              "1258   NaN   NaN  \n",
              "1259   NaN   NaN  \n",
              "\n",
              "[1260 rows x 6 columns]>"
            ]
          },
          "metadata": {},
          "execution_count": 18
        }
      ]
    },
    {
      "cell_type": "code",
      "source": [
        "# Concatenamos df15a y df15b\n",
        "df15 = pd.concat([df15a,df15b])\n",
        "df15"
      ],
      "metadata": {
        "colab": {
          "base_uri": "https://localhost:8080/",
          "height": 423
        },
        "id": "0NjHbN0YH6xD",
        "outputId": "f2a1c44b-1a0a-4220-c4a8-922ac63fc3b0"
      },
      "execution_count": 20,
      "outputs": [
        {
          "output_type": "execute_result",
          "data": {
            "text/plain": [
              "     Country Name Country Code  \\\n",
              "0           Aruba          ABW   \n",
              "1           Aruba          ABW   \n",
              "2           Aruba          ABW   \n",
              "3           Aruba          ABW   \n",
              "4           Aruba          ABW   \n",
              "...           ...          ...   \n",
              "1255     Zimbabwe          ZWE   \n",
              "1256     Zimbabwe          ZWE   \n",
              "1257     Zimbabwe          ZWE   \n",
              "1258     Zimbabwe          ZWE   \n",
              "1259     Zimbabwe          ZWE   \n",
              "\n",
              "                                         Indicator Name     Indicator Code  \\\n",
              "0     Unmet need for contraception (% of married wom...        SP.UWT.TFRT   \n",
              "1     Completeness of death registration with cause-...     SP.REG.DTHS.ZS   \n",
              "2                Completeness of birth registration (%)     SP.REG.BRTH.ZS   \n",
              "3         Completeness of birth registration, urban (%)  SP.REG.BRTH.UR.ZS   \n",
              "4         Completeness of birth registration, rural (%)  SP.REG.BRTH.RU.ZS   \n",
              "...                                                 ...                ...   \n",
              "1255  Women who believe a husband is justified in be...     SG.VAW.NEGL.ZS   \n",
              "1256  Women who believe a husband is justified in be...     SG.VAW.GOES.ZS   \n",
              "1257  Women who believe a husband is justified in be...     SG.VAW.BURN.ZS   \n",
              "1258  Women who believe a husband is justified in be...     SG.VAW.ARGU.ZS   \n",
              "1259  Proportion of women subjected to physical and/...     SG.VAW.1549.ZS   \n",
              "\n",
              "      2019  2020  \n",
              "0      NaN   NaN  \n",
              "1      NaN   NaN  \n",
              "2      NaN   NaN  \n",
              "3      NaN   NaN  \n",
              "4      NaN   NaN  \n",
              "...    ...   ...  \n",
              "1255   NaN   NaN  \n",
              "1256   NaN   NaN  \n",
              "1257   NaN   NaN  \n",
              "1258   NaN   NaN  \n",
              "1259   NaN   NaN  \n",
              "\n",
              "[66792 rows x 6 columns]"
            ],
            "text/html": [
              "\n",
              "  <div id=\"df-3678b5fa-94b8-48e6-909a-9d1f09c748b2\">\n",
              "    <div class=\"colab-df-container\">\n",
              "      <div>\n",
              "<style scoped>\n",
              "    .dataframe tbody tr th:only-of-type {\n",
              "        vertical-align: middle;\n",
              "    }\n",
              "\n",
              "    .dataframe tbody tr th {\n",
              "        vertical-align: top;\n",
              "    }\n",
              "\n",
              "    .dataframe thead th {\n",
              "        text-align: right;\n",
              "    }\n",
              "</style>\n",
              "<table border=\"1\" class=\"dataframe\">\n",
              "  <thead>\n",
              "    <tr style=\"text-align: right;\">\n",
              "      <th></th>\n",
              "      <th>Country Name</th>\n",
              "      <th>Country Code</th>\n",
              "      <th>Indicator Name</th>\n",
              "      <th>Indicator Code</th>\n",
              "      <th>2019</th>\n",
              "      <th>2020</th>\n",
              "    </tr>\n",
              "  </thead>\n",
              "  <tbody>\n",
              "    <tr>\n",
              "      <th>0</th>\n",
              "      <td>Aruba</td>\n",
              "      <td>ABW</td>\n",
              "      <td>Unmet need for contraception (% of married wom...</td>\n",
              "      <td>SP.UWT.TFRT</td>\n",
              "      <td>NaN</td>\n",
              "      <td>NaN</td>\n",
              "    </tr>\n",
              "    <tr>\n",
              "      <th>1</th>\n",
              "      <td>Aruba</td>\n",
              "      <td>ABW</td>\n",
              "      <td>Completeness of death registration with cause-...</td>\n",
              "      <td>SP.REG.DTHS.ZS</td>\n",
              "      <td>NaN</td>\n",
              "      <td>NaN</td>\n",
              "    </tr>\n",
              "    <tr>\n",
              "      <th>2</th>\n",
              "      <td>Aruba</td>\n",
              "      <td>ABW</td>\n",
              "      <td>Completeness of birth registration (%)</td>\n",
              "      <td>SP.REG.BRTH.ZS</td>\n",
              "      <td>NaN</td>\n",
              "      <td>NaN</td>\n",
              "    </tr>\n",
              "    <tr>\n",
              "      <th>3</th>\n",
              "      <td>Aruba</td>\n",
              "      <td>ABW</td>\n",
              "      <td>Completeness of birth registration, urban (%)</td>\n",
              "      <td>SP.REG.BRTH.UR.ZS</td>\n",
              "      <td>NaN</td>\n",
              "      <td>NaN</td>\n",
              "    </tr>\n",
              "    <tr>\n",
              "      <th>4</th>\n",
              "      <td>Aruba</td>\n",
              "      <td>ABW</td>\n",
              "      <td>Completeness of birth registration, rural (%)</td>\n",
              "      <td>SP.REG.BRTH.RU.ZS</td>\n",
              "      <td>NaN</td>\n",
              "      <td>NaN</td>\n",
              "    </tr>\n",
              "    <tr>\n",
              "      <th>...</th>\n",
              "      <td>...</td>\n",
              "      <td>...</td>\n",
              "      <td>...</td>\n",
              "      <td>...</td>\n",
              "      <td>...</td>\n",
              "      <td>...</td>\n",
              "    </tr>\n",
              "    <tr>\n",
              "      <th>1255</th>\n",
              "      <td>Zimbabwe</td>\n",
              "      <td>ZWE</td>\n",
              "      <td>Women who believe a husband is justified in be...</td>\n",
              "      <td>SG.VAW.NEGL.ZS</td>\n",
              "      <td>NaN</td>\n",
              "      <td>NaN</td>\n",
              "    </tr>\n",
              "    <tr>\n",
              "      <th>1256</th>\n",
              "      <td>Zimbabwe</td>\n",
              "      <td>ZWE</td>\n",
              "      <td>Women who believe a husband is justified in be...</td>\n",
              "      <td>SG.VAW.GOES.ZS</td>\n",
              "      <td>NaN</td>\n",
              "      <td>NaN</td>\n",
              "    </tr>\n",
              "    <tr>\n",
              "      <th>1257</th>\n",
              "      <td>Zimbabwe</td>\n",
              "      <td>ZWE</td>\n",
              "      <td>Women who believe a husband is justified in be...</td>\n",
              "      <td>SG.VAW.BURN.ZS</td>\n",
              "      <td>NaN</td>\n",
              "      <td>NaN</td>\n",
              "    </tr>\n",
              "    <tr>\n",
              "      <th>1258</th>\n",
              "      <td>Zimbabwe</td>\n",
              "      <td>ZWE</td>\n",
              "      <td>Women who believe a husband is justified in be...</td>\n",
              "      <td>SG.VAW.ARGU.ZS</td>\n",
              "      <td>NaN</td>\n",
              "      <td>NaN</td>\n",
              "    </tr>\n",
              "    <tr>\n",
              "      <th>1259</th>\n",
              "      <td>Zimbabwe</td>\n",
              "      <td>ZWE</td>\n",
              "      <td>Proportion of women subjected to physical and/...</td>\n",
              "      <td>SG.VAW.1549.ZS</td>\n",
              "      <td>NaN</td>\n",
              "      <td>NaN</td>\n",
              "    </tr>\n",
              "  </tbody>\n",
              "</table>\n",
              "<p>66792 rows × 6 columns</p>\n",
              "</div>\n",
              "      <button class=\"colab-df-convert\" onclick=\"convertToInteractive('df-3678b5fa-94b8-48e6-909a-9d1f09c748b2')\"\n",
              "              title=\"Convert this dataframe to an interactive table.\"\n",
              "              style=\"display:none;\">\n",
              "        \n",
              "  <svg xmlns=\"http://www.w3.org/2000/svg\" height=\"24px\"viewBox=\"0 0 24 24\"\n",
              "       width=\"24px\">\n",
              "    <path d=\"M0 0h24v24H0V0z\" fill=\"none\"/>\n",
              "    <path d=\"M18.56 5.44l.94 2.06.94-2.06 2.06-.94-2.06-.94-.94-2.06-.94 2.06-2.06.94zm-11 1L8.5 8.5l.94-2.06 2.06-.94-2.06-.94L8.5 2.5l-.94 2.06-2.06.94zm10 10l.94 2.06.94-2.06 2.06-.94-2.06-.94-.94-2.06-.94 2.06-2.06.94z\"/><path d=\"M17.41 7.96l-1.37-1.37c-.4-.4-.92-.59-1.43-.59-.52 0-1.04.2-1.43.59L10.3 9.45l-7.72 7.72c-.78.78-.78 2.05 0 2.83L4 21.41c.39.39.9.59 1.41.59.51 0 1.02-.2 1.41-.59l7.78-7.78 2.81-2.81c.8-.78.8-2.07 0-2.86zM5.41 20L4 18.59l7.72-7.72 1.47 1.35L5.41 20z\"/>\n",
              "  </svg>\n",
              "      </button>\n",
              "      \n",
              "  <style>\n",
              "    .colab-df-container {\n",
              "      display:flex;\n",
              "      flex-wrap:wrap;\n",
              "      gap: 12px;\n",
              "    }\n",
              "\n",
              "    .colab-df-convert {\n",
              "      background-color: #E8F0FE;\n",
              "      border: none;\n",
              "      border-radius: 50%;\n",
              "      cursor: pointer;\n",
              "      display: none;\n",
              "      fill: #1967D2;\n",
              "      height: 32px;\n",
              "      padding: 0 0 0 0;\n",
              "      width: 32px;\n",
              "    }\n",
              "\n",
              "    .colab-df-convert:hover {\n",
              "      background-color: #E2EBFA;\n",
              "      box-shadow: 0px 1px 2px rgba(60, 64, 67, 0.3), 0px 1px 3px 1px rgba(60, 64, 67, 0.15);\n",
              "      fill: #174EA6;\n",
              "    }\n",
              "\n",
              "    [theme=dark] .colab-df-convert {\n",
              "      background-color: #3B4455;\n",
              "      fill: #D2E3FC;\n",
              "    }\n",
              "\n",
              "    [theme=dark] .colab-df-convert:hover {\n",
              "      background-color: #434B5C;\n",
              "      box-shadow: 0px 1px 3px 1px rgba(0, 0, 0, 0.15);\n",
              "      filter: drop-shadow(0px 1px 2px rgba(0, 0, 0, 0.3));\n",
              "      fill: #FFFFFF;\n",
              "    }\n",
              "  </style>\n",
              "\n",
              "      <script>\n",
              "        const buttonEl =\n",
              "          document.querySelector('#df-3678b5fa-94b8-48e6-909a-9d1f09c748b2 button.colab-df-convert');\n",
              "        buttonEl.style.display =\n",
              "          google.colab.kernel.accessAllowed ? 'block' : 'none';\n",
              "\n",
              "        async function convertToInteractive(key) {\n",
              "          const element = document.querySelector('#df-3678b5fa-94b8-48e6-909a-9d1f09c748b2');\n",
              "          const dataTable =\n",
              "            await google.colab.kernel.invokeFunction('convertToInteractive',\n",
              "                                                     [key], {});\n",
              "          if (!dataTable) return;\n",
              "\n",
              "          const docLinkHtml = 'Like what you see? Visit the ' +\n",
              "            '<a target=\"_blank\" href=https://colab.research.google.com/notebooks/data_table.ipynb>data table notebook</a>'\n",
              "            + ' to learn more about interactive tables.';\n",
              "          element.innerHTML = '';\n",
              "          dataTable['output_type'] = 'display_data';\n",
              "          await google.colab.output.renderOutput(dataTable, element);\n",
              "          const docLink = document.createElement('div');\n",
              "          docLink.innerHTML = docLinkHtml;\n",
              "          element.appendChild(docLink);\n",
              "        }\n",
              "      </script>\n",
              "    </div>\n",
              "  </div>\n",
              "  "
            ]
          },
          "metadata": {},
          "execution_count": 20
        }
      ]
    },
    {
      "cell_type": "code",
      "source": [
        "# Comprobamos el DataFrame df16\n",
        "df16.info"
      ],
      "metadata": {
        "colab": {
          "base_uri": "https://localhost:8080/"
        },
        "id": "zWNIJn88r0id",
        "outputId": "6650c1f3-7e88-48d5-acec-d97d1cb565f4"
      },
      "execution_count": 21,
      "outputs": [
        {
          "output_type": "execute_result",
          "data": {
            "text/plain": [
              "<bound method DataFrame.info of       Country Name Country Code  \\\n",
              "0            Aruba          ABW   \n",
              "1            Aruba          ABW   \n",
              "2            Aruba          ABW   \n",
              "3            Aruba          ABW   \n",
              "4            Aruba          ABW   \n",
              "...            ...          ...   \n",
              "43291     Zimbabwe          ZWE   \n",
              "43292     Zimbabwe          ZWE   \n",
              "43293     Zimbabwe          ZWE   \n",
              "43294     Zimbabwe          ZWE   \n",
              "43295     Zimbabwe          ZWE   \n",
              "\n",
              "                                          Indicator Name     Indicator Code  \\\n",
              "0      Travel services (% of commercial service exports)  TX.VAL.TRVL.ZS.WT   \n",
              "1      Transport services (% of commercial service ex...  TX.VAL.TRAN.ZS.WT   \n",
              "2      High-technology exports (% of manufactured exp...  TX.VAL.TECH.MF.ZS   \n",
              "3                  High-technology exports (current US$)     TX.VAL.TECH.CD   \n",
              "4               Commercial service exports (current US$)  TX.VAL.SERV.CD.WT   \n",
              "...                                                  ...                ...   \n",
              "43291  Ease of doing business score (0 = lowest perfo...     IC.BUS.DFRN.XQ   \n",
              "43292       Domestic credit to private sector (% of GDP)  FS.AST.PRVT.GD.ZS   \n",
              "43293  Insurance and financial services (% of service...     BX.GSR.INSF.ZS   \n",
              "43294  Insurance and financial services (% of service...     BM.GSR.INSF.ZS   \n",
              "43295                       Trade in services (% of GDP)  BG.GSR.NFSV.GD.ZS   \n",
              "\n",
              "       1960  1961  1962  1963  1964  1965  ...          2011          2012  \\\n",
              "0       NaN   NaN   NaN   NaN   NaN   NaN  ...  8.124139e+01  8.053648e+01   \n",
              "1       NaN   NaN   NaN   NaN   NaN   NaN  ...  3.919659e+00  3.452480e+00   \n",
              "2       NaN   NaN   NaN   NaN   NaN   NaN  ...  4.790988e+00  1.125918e+01   \n",
              "3       NaN   NaN   NaN   NaN   NaN   NaN  ...  1.269221e+06  3.656986e+06   \n",
              "4       NaN   NaN   NaN   NaN   NaN   NaN  ...  1.663296e+09  1.741117e+09   \n",
              "...     ...   ...   ...   ...   ...   ...  ...           ...           ...   \n",
              "43291   NaN   NaN   NaN   NaN   NaN   NaN  ...           NaN           NaN   \n",
              "43292   NaN   NaN   NaN   NaN   NaN   NaN  ...  1.898324e+01  2.014062e+01   \n",
              "43293   NaN   NaN   NaN   NaN   NaN   NaN  ...           NaN           NaN   \n",
              "43294   NaN   NaN   NaN   NaN   NaN   NaN  ...           NaN           NaN   \n",
              "43295   NaN   NaN   NaN   NaN   NaN   NaN  ...  1.532937e+01  1.236697e+01   \n",
              "\n",
              "               2013          2014          2015          2016          2017  \\\n",
              "0      8.044342e+01  7.954427e+01  7.925388e+01  8.650646e+01  8.637533e+01   \n",
              "1      3.981985e+00  5.603977e+00  5.531637e+00  5.660912e+00  6.077798e+00   \n",
              "2      5.140044e+00  7.322688e+00  4.968986e+00  4.042414e+00  6.540015e+00   \n",
              "3      1.702027e+06  2.236381e+06  1.265878e+06  1.255860e+06  2.011640e+06   \n",
              "4      1.858725e+09  2.018342e+09  2.081725e+09  2.031027e+09  2.147143e+09   \n",
              "...             ...           ...           ...           ...           ...   \n",
              "43291           NaN           NaN  4.780355e+01  4.779435e+01  4.858986e+01   \n",
              "43292  1.873191e+01  1.921037e+01  1.831569e+01  1.709856e+01  1.687511e+01   \n",
              "43293           NaN  0.000000e+00  0.000000e+00  0.000000e+00  0.000000e+00   \n",
              "43294           NaN  0.000000e+00  0.000000e+00  0.000000e+00  1.288252e+01   \n",
              "43295  1.178003e+01  1.188213e+01  9.569889e+00  8.080966e+00  6.858633e+00   \n",
              "\n",
              "               2018          2019  2020  \n",
              "0      8.684691e+01  8.728724e+01   NaN  \n",
              "1      5.941616e+00  5.180361e+00   NaN  \n",
              "2      8.314288e+00  4.353669e+00   NaN  \n",
              "3      2.562959e+06  1.655305e+06   NaN  \n",
              "4      2.336679e+09  2.395338e+09   NaN  \n",
              "...             ...           ...   ...  \n",
              "43291  5.050998e+01  5.446935e+01   NaN  \n",
              "43292  1.669432e+01  5.183152e+01   NaN  \n",
              "43293           NaN           NaN   NaN  \n",
              "43294           NaN           NaN   NaN  \n",
              "43295           NaN           NaN   NaN  \n",
              "\n",
              "[43296 rows x 65 columns]>"
            ]
          },
          "metadata": {},
          "execution_count": 21
        }
      ]
    },
    {
      "cell_type": "code",
      "source": [
        "# Redefinimos la lectura para capturar solamente las columnas que nos interesa de l DataFrame df16\n",
        "# Consideramos solo el indicador en los últimos dos años considerados\n",
        "df16 = pd.read_excel('/content/PopulationDataWorldBank.xlsx','Private Sector').loc[:, ('Country Name', 'Country Code', 'Indicator Name', 'Indicator Code', '2019', '2020')]\n",
        "df16.info"
      ],
      "metadata": {
        "colab": {
          "base_uri": "https://localhost:8080/"
        },
        "id": "mIk7vGJxr7a6",
        "outputId": "6a0dfecd-6049-4a06-cdd5-c9f47f74cc94"
      },
      "execution_count": 22,
      "outputs": [
        {
          "output_type": "execute_result",
          "data": {
            "text/plain": [
              "<bound method DataFrame.info of       Country Name Country Code  \\\n",
              "0            Aruba          ABW   \n",
              "1            Aruba          ABW   \n",
              "2            Aruba          ABW   \n",
              "3            Aruba          ABW   \n",
              "4            Aruba          ABW   \n",
              "...            ...          ...   \n",
              "43291     Zimbabwe          ZWE   \n",
              "43292     Zimbabwe          ZWE   \n",
              "43293     Zimbabwe          ZWE   \n",
              "43294     Zimbabwe          ZWE   \n",
              "43295     Zimbabwe          ZWE   \n",
              "\n",
              "                                          Indicator Name     Indicator Code  \\\n",
              "0      Travel services (% of commercial service exports)  TX.VAL.TRVL.ZS.WT   \n",
              "1      Transport services (% of commercial service ex...  TX.VAL.TRAN.ZS.WT   \n",
              "2      High-technology exports (% of manufactured exp...  TX.VAL.TECH.MF.ZS   \n",
              "3                  High-technology exports (current US$)     TX.VAL.TECH.CD   \n",
              "4               Commercial service exports (current US$)  TX.VAL.SERV.CD.WT   \n",
              "...                                                  ...                ...   \n",
              "43291  Ease of doing business score (0 = lowest perfo...     IC.BUS.DFRN.XQ   \n",
              "43292       Domestic credit to private sector (% of GDP)  FS.AST.PRVT.GD.ZS   \n",
              "43293  Insurance and financial services (% of service...     BX.GSR.INSF.ZS   \n",
              "43294  Insurance and financial services (% of service...     BM.GSR.INSF.ZS   \n",
              "43295                       Trade in services (% of GDP)  BG.GSR.NFSV.GD.ZS   \n",
              "\n",
              "               2019  2020  \n",
              "0      8.728724e+01   NaN  \n",
              "1      5.180361e+00   NaN  \n",
              "2      4.353669e+00   NaN  \n",
              "3      1.655305e+06   NaN  \n",
              "4      2.395338e+09   NaN  \n",
              "...             ...   ...  \n",
              "43291  5.446935e+01   NaN  \n",
              "43292  5.183152e+01   NaN  \n",
              "43293           NaN   NaN  \n",
              "43294           NaN   NaN  \n",
              "43295           NaN   NaN  \n",
              "\n",
              "[43296 rows x 6 columns]>"
            ]
          },
          "metadata": {},
          "execution_count": 22
        }
      ]
    },
    {
      "cell_type": "code",
      "source": [
        "# Comprobamos el DataFrame df17\n",
        "df17.info"
      ],
      "metadata": {
        "colab": {
          "base_uri": "https://localhost:8080/"
        },
        "id": "j34IjHCesUl5",
        "outputId": "c5e6c3cf-9a24-4110-d819-208ec0d68e3b"
      },
      "execution_count": 23,
      "outputs": [
        {
          "output_type": "execute_result",
          "data": {
            "text/plain": [
              "<bound method DataFrame.info of       Country Name Country Code  \\\n",
              "0            Aruba          ABW   \n",
              "1            Aruba          ABW   \n",
              "2            Aruba          ABW   \n",
              "3            Aruba          ABW   \n",
              "4            Aruba          ABW   \n",
              "...            ...          ...   \n",
              "23227     Zimbabwe          ZWE   \n",
              "23228     Zimbabwe          ZWE   \n",
              "23229     Zimbabwe          ZWE   \n",
              "23230     Zimbabwe          ZWE   \n",
              "23231     Zimbabwe          ZWE   \n",
              "\n",
              "                                          Indicator Name     Indicator Code  \\\n",
              "0             Intentional homicides (per 100,000 people)     VC.IHR.PSRC.P5   \n",
              "1      Internally displaced persons, total displaced ...        VC.IDP.TOCV   \n",
              "2      Internally displaced persons, new displacement...        VC.IDP.NWDS   \n",
              "3      Internally displaced persons, new displacement...        VC.IDP.NWCV   \n",
              "4               Battle-related deaths (number of people)        VC.BTL.DETH   \n",
              "...                                                  ...                ...   \n",
              "23227  Net incurrence of liabilities, total (current ...     GC.LBL.TOTL.CN   \n",
              "23228          Central government debt, total (% of GDP)  GC.DOD.TOTL.GD.ZS   \n",
              "23229       Central government debt, total (current LCU)     GC.DOD.TOTL.CN   \n",
              "23230     Net acquisition of financial assets (% of GDP)  GC.AST.TOTL.GD.ZS   \n",
              "23231  Net acquisition of financial assets (current LCU)     GC.AST.TOTL.CN   \n",
              "\n",
              "       1960  1961  1962  1963  1964  1965  ...      2011      2012      2013  \\\n",
              "0       NaN   NaN   NaN   NaN   NaN   NaN  ...  1.959824  3.899966  5.815926   \n",
              "1       NaN   NaN   NaN   NaN   NaN   NaN  ...       NaN       NaN       NaN   \n",
              "2       NaN   NaN   NaN   NaN   NaN   NaN  ...       NaN       NaN       NaN   \n",
              "3       NaN   NaN   NaN   NaN   NaN   NaN  ...       NaN       NaN       NaN   \n",
              "4       NaN   NaN   NaN   NaN   NaN   NaN  ...       NaN       NaN       NaN   \n",
              "...     ...   ...   ...   ...   ...   ...  ...       ...       ...       ...   \n",
              "23227   NaN   NaN   NaN   NaN   NaN   NaN  ...       NaN       NaN       NaN   \n",
              "23228   NaN   NaN   NaN   NaN   NaN   NaN  ...       NaN       NaN       NaN   \n",
              "23229   NaN   NaN   NaN   NaN   NaN   NaN  ...       NaN       NaN       NaN   \n",
              "23230   NaN   NaN   NaN   NaN   NaN   NaN  ...       NaN       NaN       NaN   \n",
              "23231   NaN   NaN   NaN   NaN   NaN   NaN  ...       NaN       NaN       NaN   \n",
              "\n",
              "           2014          2015          2016          2017          2018  2019  \\\n",
              "0      1.927228           NaN           NaN           NaN           NaN   NaN   \n",
              "1           NaN           NaN           NaN           NaN           NaN   NaN   \n",
              "2           NaN           NaN           NaN           NaN           NaN   NaN   \n",
              "3           NaN           NaN           NaN           NaN           NaN   NaN   \n",
              "4           NaN           NaN           NaN           NaN           NaN   NaN   \n",
              "...         ...           ...           ...           ...           ...   ...   \n",
              "23227       NaN  1.079351e+09  2.119325e+09  2.819527e+09  2.140403e+09   NaN   \n",
              "23228       NaN           NaN           NaN           NaN           NaN   NaN   \n",
              "23229       NaN           NaN           NaN           NaN           NaN   NaN   \n",
              "23230       NaN  1.310408e+00  1.636492e+00  2.038874e+00 -6.818301e-01   NaN   \n",
              "23231       NaN  2.615983e+08  3.362775e+08  4.493862e+08 -1.657635e+08   NaN   \n",
              "\n",
              "       2020  \n",
              "0       NaN  \n",
              "1       NaN  \n",
              "2       NaN  \n",
              "3       NaN  \n",
              "4       NaN  \n",
              "...     ...  \n",
              "23227   NaN  \n",
              "23228   NaN  \n",
              "23229   NaN  \n",
              "23230   NaN  \n",
              "23231   NaN  \n",
              "\n",
              "[23232 rows x 65 columns]>"
            ]
          },
          "metadata": {},
          "execution_count": 23
        }
      ]
    },
    {
      "cell_type": "code",
      "source": [
        "# Redefinimos la lectura para capturar solamente las columnas que nos interesa de l DataFrame df17\n",
        "# Consideramos solo el indicador en los últimos dos años considerados\n",
        "df17 = pd.read_excel('/content/PopulationDataWorldBank.xlsx','Public Sector').loc[:, ('Country Name', 'Country Code', 'Indicator Name', 'Indicator Code', '2019', '2020')]\n",
        "df17.info"
      ],
      "metadata": {
        "colab": {
          "base_uri": "https://localhost:8080/"
        },
        "id": "smGT7B3dskR_",
        "outputId": "c5cb10a7-5f59-403a-8fcd-2a3f1284aead"
      },
      "execution_count": 24,
      "outputs": [
        {
          "output_type": "execute_result",
          "data": {
            "text/plain": [
              "<bound method DataFrame.info of       Country Name Country Code  \\\n",
              "0            Aruba          ABW   \n",
              "1            Aruba          ABW   \n",
              "2            Aruba          ABW   \n",
              "3            Aruba          ABW   \n",
              "4            Aruba          ABW   \n",
              "...            ...          ...   \n",
              "23227     Zimbabwe          ZWE   \n",
              "23228     Zimbabwe          ZWE   \n",
              "23229     Zimbabwe          ZWE   \n",
              "23230     Zimbabwe          ZWE   \n",
              "23231     Zimbabwe          ZWE   \n",
              "\n",
              "                                          Indicator Name     Indicator Code  \\\n",
              "0             Intentional homicides (per 100,000 people)     VC.IHR.PSRC.P5   \n",
              "1      Internally displaced persons, total displaced ...        VC.IDP.TOCV   \n",
              "2      Internally displaced persons, new displacement...        VC.IDP.NWDS   \n",
              "3      Internally displaced persons, new displacement...        VC.IDP.NWCV   \n",
              "4               Battle-related deaths (number of people)        VC.BTL.DETH   \n",
              "...                                                  ...                ...   \n",
              "23227  Net incurrence of liabilities, total (current ...     GC.LBL.TOTL.CN   \n",
              "23228          Central government debt, total (% of GDP)  GC.DOD.TOTL.GD.ZS   \n",
              "23229       Central government debt, total (current LCU)     GC.DOD.TOTL.CN   \n",
              "23230     Net acquisition of financial assets (% of GDP)  GC.AST.TOTL.GD.ZS   \n",
              "23231  Net acquisition of financial assets (current LCU)     GC.AST.TOTL.CN   \n",
              "\n",
              "       2019  2020  \n",
              "0       NaN   NaN  \n",
              "1       NaN   NaN  \n",
              "2       NaN   NaN  \n",
              "3       NaN   NaN  \n",
              "4       NaN   NaN  \n",
              "...     ...   ...  \n",
              "23227   NaN   NaN  \n",
              "23228   NaN   NaN  \n",
              "23229   NaN   NaN  \n",
              "23230   NaN   NaN  \n",
              "23231   NaN   NaN  \n",
              "\n",
              "[23232 rows x 6 columns]>"
            ]
          },
          "metadata": {},
          "execution_count": 24
        }
      ]
    },
    {
      "cell_type": "code",
      "source": [
        "# Comprobamos el DataFrame df18\n",
        "df18.info"
      ],
      "metadata": {
        "colab": {
          "base_uri": "https://localhost:8080/"
        },
        "id": "xPzDPORItwuf",
        "outputId": "6ee19b20-7f7a-49d9-906d-402d85f4cbf5"
      },
      "execution_count": 25,
      "outputs": [
        {
          "output_type": "execute_result",
          "data": {
            "text/plain": [
              "<bound method DataFrame.info of       Country Name Country Code  \\\n",
              "0            Aruba          ABW   \n",
              "1            Aruba          ABW   \n",
              "2            Aruba          ABW   \n",
              "3            Aruba          ABW   \n",
              "4            Aruba          ABW   \n",
              "...            ...          ...   \n",
              "16891     Zimbabwe          ZWE   \n",
              "16892     Zimbabwe          ZWE   \n",
              "16893     Zimbabwe          ZWE   \n",
              "16894     Zimbabwe          ZWE   \n",
              "16895     Zimbabwe          ZWE   \n",
              "\n",
              "                                          Indicator Name  \\\n",
              "0          International migrant stock (% of population)   \n",
              "1                     International migrant stock, total   \n",
              "2                                          Net migration   \n",
              "3        Real effective exchange rate index (2010 = 100)   \n",
              "4      Official exchange rate (LCU per US$, period av...   \n",
              "...                                                  ...   \n",
              "16891       Portfolio investment, net (BoP, current US$)   \n",
              "16892  Foreign direct investment, net (BoP, current US$)   \n",
              "16893           Personal remittances, paid (current US$)   \n",
              "16894  Foreign direct investment, net outflows (% of ...   \n",
              "16895  Foreign direct investment, net outflows (BoP, ...   \n",
              "\n",
              "             Indicator Code    1960  1961    1962  1963  1964    1965  ...  \\\n",
              "0            SM.POP.TOTL.ZS     NaN   NaN     NaN   NaN   NaN     NaN  ...   \n",
              "1               SM.POP.TOTL  7893.0   NaN     NaN   NaN   NaN  7677.0  ...   \n",
              "2               SM.POP.NETM     NaN   NaN -4323.0   NaN   NaN     NaN  ...   \n",
              "3               PX.REX.REER     NaN   NaN     NaN   NaN   NaN     NaN  ...   \n",
              "4               PA.NUS.FCRF     NaN   NaN     NaN   NaN   NaN     NaN  ...   \n",
              "...                     ...     ...   ...     ...   ...   ...     ...  ...   \n",
              "16891        BN.KLT.PTXL.CD     NaN   NaN     NaN   NaN   NaN     NaN  ...   \n",
              "16892        BN.KLT.DINV.CD     NaN   NaN     NaN   NaN   NaN     NaN  ...   \n",
              "16893     BM.TRF.PWKR.CD.DT     NaN   NaN     NaN   NaN   NaN     NaN  ...   \n",
              "16894  BM.KLT.DINV.WD.GD.ZS     NaN   NaN     NaN   NaN   NaN     NaN  ...   \n",
              "16895     BM.KLT.DINV.CD.WD     NaN   NaN     NaN   NaN   NaN     NaN  ...   \n",
              "\n",
              "               2011          2012          2013          2014          2015  \\\n",
              "0               NaN           NaN           NaN           NaN  3.476210e+01   \n",
              "1               NaN           NaN           NaN           NaN  3.611400e+04   \n",
              "2               NaN  1.253000e+03           NaN           NaN           NaN   \n",
              "3               NaN           NaN           NaN           NaN           NaN   \n",
              "4      1.790000e+00  1.790000e+00  1.790000e+00  1.790000e+00  1.790000e+00   \n",
              "...             ...           ...           ...           ...           ...   \n",
              "16891 -1.000000e+07 -9.920000e+07 -1.142000e+08 -1.303000e+08 -1.228000e+08   \n",
              "16892 -3.443000e+08 -3.498500e+08 -3.730500e+08 -4.728000e+08 -3.992000e+08   \n",
              "16893  9.445521e+06  9.889461e+06  1.035427e+07  1.084092e+07  1.135044e+07   \n",
              "16894  3.027956e-01  2.863011e-01  1.414277e-01  3.693156e-01  1.102032e-01   \n",
              "16895  4.270000e+07  4.900000e+07  2.700000e+07  7.200000e+07  2.200000e+07   \n",
              "\n",
              "               2016          2017          2018          2019  2020  \n",
              "0               NaN           NaN           NaN           NaN   NaN  \n",
              "1               NaN           NaN           NaN           NaN   NaN  \n",
              "2               NaN  1.004000e+03           NaN           NaN   NaN  \n",
              "3               NaN           NaN           NaN           NaN   NaN  \n",
              "4      1.790000e+00  1.790000e+00  1.790000e+00  1.790000e+00   NaN  \n",
              "...             ...           ...           ...           ...   ...  \n",
              "16891  8.006134e+07  1.008818e+08           NaN           NaN   NaN  \n",
              "16892 -3.430138e+08 -2.471877e+08           NaN           NaN   NaN  \n",
              "16893  1.384487e+07  1.857500e+07           NaN           NaN   NaN  \n",
              "16894  1.401389e-01  1.916067e-01  1.101199e-01  1.554671e-01   NaN  \n",
              "16895  2.879669e+07  4.223184e+07  2.677188e+07  3.333333e+07   NaN  \n",
              "\n",
              "[16896 rows x 65 columns]>"
            ]
          },
          "metadata": {},
          "execution_count": 25
        }
      ]
    },
    {
      "cell_type": "code",
      "source": [
        "# Redefinimos la lectura para capturar solamente las columnas que nos interesa de l DataFrame df18\n",
        "# Consideramos solo el indicador en los últimos dos años considerados\n",
        "df18 = pd.read_excel('/content/PopulationDataWorldBank.xlsx','Financial Sector').loc[:, ('Country Name', 'Country Code', 'Indicator Name', 'Indicator Code', '2019', '2020')]\n",
        "df18.info"
      ],
      "metadata": {
        "colab": {
          "base_uri": "https://localhost:8080/"
        },
        "id": "KjbN8wRWt8OP",
        "outputId": "736f00c3-8c1f-4b30-ed00-34dd5ce92bac"
      },
      "execution_count": 26,
      "outputs": [
        {
          "output_type": "execute_result",
          "data": {
            "text/plain": [
              "<bound method DataFrame.info of       Country Name Country Code  \\\n",
              "0            Aruba          ABW   \n",
              "1            Aruba          ABW   \n",
              "2            Aruba          ABW   \n",
              "3            Aruba          ABW   \n",
              "4            Aruba          ABW   \n",
              "...            ...          ...   \n",
              "16891     Zimbabwe          ZWE   \n",
              "16892     Zimbabwe          ZWE   \n",
              "16893     Zimbabwe          ZWE   \n",
              "16894     Zimbabwe          ZWE   \n",
              "16895     Zimbabwe          ZWE   \n",
              "\n",
              "                                          Indicator Name  \\\n",
              "0          International migrant stock (% of population)   \n",
              "1                     International migrant stock, total   \n",
              "2                                          Net migration   \n",
              "3        Real effective exchange rate index (2010 = 100)   \n",
              "4      Official exchange rate (LCU per US$, period av...   \n",
              "...                                                  ...   \n",
              "16891       Portfolio investment, net (BoP, current US$)   \n",
              "16892  Foreign direct investment, net (BoP, current US$)   \n",
              "16893           Personal remittances, paid (current US$)   \n",
              "16894  Foreign direct investment, net outflows (% of ...   \n",
              "16895  Foreign direct investment, net outflows (BoP, ...   \n",
              "\n",
              "             Indicator Code          2019  2020  \n",
              "0            SM.POP.TOTL.ZS           NaN   NaN  \n",
              "1               SM.POP.TOTL           NaN   NaN  \n",
              "2               SM.POP.NETM           NaN   NaN  \n",
              "3               PX.REX.REER           NaN   NaN  \n",
              "4               PA.NUS.FCRF  1.790000e+00   NaN  \n",
              "...                     ...           ...   ...  \n",
              "16891        BN.KLT.PTXL.CD           NaN   NaN  \n",
              "16892        BN.KLT.DINV.CD           NaN   NaN  \n",
              "16893     BM.TRF.PWKR.CD.DT           NaN   NaN  \n",
              "16894  BM.KLT.DINV.WD.GD.ZS  1.554671e-01   NaN  \n",
              "16895     BM.KLT.DINV.CD.WD  3.333333e+07   NaN  \n",
              "\n",
              "[16896 rows x 6 columns]>"
            ]
          },
          "metadata": {},
          "execution_count": 26
        }
      ]
    },
    {
      "cell_type": "code",
      "source": [
        "# Comprobamos el DataFrame df19\n",
        "df19.info"
      ],
      "metadata": {
        "colab": {
          "base_uri": "https://localhost:8080/"
        },
        "id": "zyNcI1dDufnD",
        "outputId": "996ca3d8-040d-4880-fc3c-a5eb08f02ca9"
      },
      "execution_count": 27,
      "outputs": [
        {
          "output_type": "execute_result",
          "data": {
            "text/plain": [
              "<bound method DataFrame.info of      Country Name Country Code  \\\n",
              "0           Aruba          ABW   \n",
              "1           Aruba          ABW   \n",
              "2           Aruba          ABW   \n",
              "3           Aruba          ABW   \n",
              "4           Aruba          ABW   \n",
              "...           ...          ...   \n",
              "3427     Zimbabwe          ZWE   \n",
              "3428     Zimbabwe          ZWE   \n",
              "3429     Zimbabwe          ZWE   \n",
              "3430     Zimbabwe          ZWE   \n",
              "3431     Zimbabwe          ZWE   \n",
              "\n",
              "                                         Indicator Name     Indicator Code  \\\n",
              "0     High-technology exports (% of manufactured exp...  TX.VAL.TECH.MF.ZS   \n",
              "1                 High-technology exports (current US$)     TX.VAL.TECH.CD   \n",
              "2               Technicians in R&D (per million people)  SP.POP.TECH.RD.P6   \n",
              "3               Researchers in R&D (per million people)  SP.POP.SCIE.RD.P6   \n",
              "4                         Trademark applications, total        IP.TMK.TOTL   \n",
              "...                                                 ...                ...   \n",
              "3427                  Patent applications, nonresidents        IP.PAT.NRES   \n",
              "3428          Scientific and technical journal articles     IP.JRN.ARTC.SC   \n",
              "3429    Research and development expenditure (% of GDP)  GB.XPD.RSDV.GD.ZS   \n",
              "3430  Charges for the use of intellectual property, ...     BX.GSR.ROYL.CD   \n",
              "3431  Charges for the use of intellectual property, ...     BM.GSR.ROYL.CD   \n",
              "\n",
              "      1960  1961  1962  1963  1964  1965  ...          2011          2012  \\\n",
              "0      NaN   NaN   NaN   NaN   NaN   NaN  ...  4.790988e+00  1.125918e+01   \n",
              "1      NaN   NaN   NaN   NaN   NaN   NaN  ...  1.269221e+06  3.656986e+06   \n",
              "2      NaN   NaN   NaN   NaN   NaN   NaN  ...           NaN           NaN   \n",
              "3      NaN   NaN   NaN   NaN   NaN   NaN  ...           NaN           NaN   \n",
              "4      NaN   NaN   NaN   NaN   NaN   NaN  ...           NaN           NaN   \n",
              "...    ...   ...   ...   ...   ...   ...  ...           ...           ...   \n",
              "3427   NaN   NaN   NaN   NaN   NaN   NaN  ...           NaN           NaN   \n",
              "3428   NaN   NaN   NaN   NaN   NaN   NaN  ...  1.470700e+02  2.029400e+02   \n",
              "3429   NaN   NaN   NaN   NaN   NaN   NaN  ...           NaN           NaN   \n",
              "3430   NaN   NaN   NaN   NaN   NaN   NaN  ...  1.894514e+06  1.981662e+06   \n",
              "3431   NaN   NaN   NaN   NaN   NaN   NaN  ...  8.847845e+06  9.305787e+06   \n",
              "\n",
              "              2013          2014          2015          2016          2017  \\\n",
              "0     5.140044e+00  7.322688e+00  4.968986e+00  4.042414e+00  6.540015e+00   \n",
              "1     1.702027e+06  2.236381e+06  1.265878e+06  1.255860e+06  2.011640e+06   \n",
              "2              NaN           NaN           NaN           NaN           NaN   \n",
              "3              NaN           NaN           NaN           NaN           NaN   \n",
              "4              NaN           NaN           NaN           NaN           NaN   \n",
              "...            ...           ...           ...           ...           ...   \n",
              "3427           NaN           NaN  1.900000e+01  5.000000e+00           NaN   \n",
              "3428  2.235800e+02  2.730000e+02  2.689800e+02  3.138000e+02  3.404500e+02   \n",
              "3429           NaN           NaN           NaN           NaN           NaN   \n",
              "3430  2.072818e+06  2.168168e+06  2.267903e+06  2.372227e+06  0.000000e+00   \n",
              "3431  1.783015e+07  1.866817e+07  1.954557e+07  1.037293e+07  4.322232e+06   \n",
              "\n",
              "              2018          2019  2020  \n",
              "0     8.314288e+00  4.353669e+00   NaN  \n",
              "1     2.562959e+06  1.655305e+06   NaN  \n",
              "2              NaN           NaN   NaN  \n",
              "3              NaN           NaN   NaN  \n",
              "4              NaN           NaN   NaN  \n",
              "...            ...           ...   ...  \n",
              "3427           NaN           NaN   NaN  \n",
              "3428  3.593300e+02           NaN   NaN  \n",
              "3429           NaN           NaN   NaN  \n",
              "3430           NaN           NaN   NaN  \n",
              "3431           NaN           NaN   NaN  \n",
              "\n",
              "[3432 rows x 65 columns]>"
            ]
          },
          "metadata": {},
          "execution_count": 27
        }
      ]
    },
    {
      "cell_type": "code",
      "source": [
        "# Redefinimos la lectura para capturar solamente las columnas que nos interesa de l DataFrame df19\n",
        "# Consideramos solo el indicador en los últimos dos años considerados\n",
        "df19 = pd.read_excel('/content/PopulationDataWorldBank.xlsx','Science & Technology').loc[:, ('Country Name', 'Country Code', 'Indicator Name', 'Indicator Code', '2019', '2020')]\n",
        "df19.info"
      ],
      "metadata": {
        "colab": {
          "base_uri": "https://localhost:8080/"
        },
        "id": "1KcWF_L6umwp",
        "outputId": "c57914b3-0416-4cfd-d8db-ba4886c2353a"
      },
      "execution_count": 28,
      "outputs": [
        {
          "output_type": "execute_result",
          "data": {
            "text/plain": [
              "<bound method DataFrame.info of      Country Name Country Code  \\\n",
              "0           Aruba          ABW   \n",
              "1           Aruba          ABW   \n",
              "2           Aruba          ABW   \n",
              "3           Aruba          ABW   \n",
              "4           Aruba          ABW   \n",
              "...           ...          ...   \n",
              "3427     Zimbabwe          ZWE   \n",
              "3428     Zimbabwe          ZWE   \n",
              "3429     Zimbabwe          ZWE   \n",
              "3430     Zimbabwe          ZWE   \n",
              "3431     Zimbabwe          ZWE   \n",
              "\n",
              "                                         Indicator Name     Indicator Code  \\\n",
              "0     High-technology exports (% of manufactured exp...  TX.VAL.TECH.MF.ZS   \n",
              "1                 High-technology exports (current US$)     TX.VAL.TECH.CD   \n",
              "2               Technicians in R&D (per million people)  SP.POP.TECH.RD.P6   \n",
              "3               Researchers in R&D (per million people)  SP.POP.SCIE.RD.P6   \n",
              "4                         Trademark applications, total        IP.TMK.TOTL   \n",
              "...                                                 ...                ...   \n",
              "3427                  Patent applications, nonresidents        IP.PAT.NRES   \n",
              "3428          Scientific and technical journal articles     IP.JRN.ARTC.SC   \n",
              "3429    Research and development expenditure (% of GDP)  GB.XPD.RSDV.GD.ZS   \n",
              "3430  Charges for the use of intellectual property, ...     BX.GSR.ROYL.CD   \n",
              "3431  Charges for the use of intellectual property, ...     BM.GSR.ROYL.CD   \n",
              "\n",
              "              2019  2020  \n",
              "0     4.353669e+00   NaN  \n",
              "1     1.655305e+06   NaN  \n",
              "2              NaN   NaN  \n",
              "3              NaN   NaN  \n",
              "4              NaN   NaN  \n",
              "...            ...   ...  \n",
              "3427           NaN   NaN  \n",
              "3428           NaN   NaN  \n",
              "3429           NaN   NaN  \n",
              "3430           NaN   NaN  \n",
              "3431           NaN   NaN  \n",
              "\n",
              "[3432 rows x 6 columns]>"
            ]
          },
          "metadata": {},
          "execution_count": 28
        }
      ]
    },
    {
      "cell_type": "code",
      "source": [
        "# Comprobamos el DataFrame df20\n",
        "df20.info"
      ],
      "metadata": {
        "colab": {
          "base_uri": "https://localhost:8080/"
        },
        "id": "Vfv8LTX8uzYi",
        "outputId": "051d5556-aa12-4ada-a810-d7d3f52a8d95"
      },
      "execution_count": 29,
      "outputs": [
        {
          "output_type": "execute_result",
          "data": {
            "text/plain": [
              "<bound method DataFrame.info of       Country Name Country Code  \\\n",
              "0            Aruba          ABW   \n",
              "1            Aruba          ABW   \n",
              "2            Aruba          ABW   \n",
              "3            Aruba          ABW   \n",
              "4            Aruba          ABW   \n",
              "...            ...          ...   \n",
              "16099     Zimbabwe          ZWE   \n",
              "16100     Zimbabwe          ZWE   \n",
              "16101     Zimbabwe          ZWE   \n",
              "16102     Zimbabwe          ZWE   \n",
              "16103     Zimbabwe          ZWE   \n",
              "\n",
              "                                          Indicator Name     Indicator Code  \\\n",
              "0                                      GNI (current US$)     NY.GNP.MKTP.CD   \n",
              "1                    Total reserves in months of imports     FI.RES.TOTL.MO   \n",
              "2              Total reserves (% of total external debt)  FI.RES.TOTL.DT.ZS   \n",
              "3            Total reserves (includes gold, current US$)     FI.RES.TOTL.CD   \n",
              "4      Multilateral debt service (% of public and pub...  DT.TDS.MLAT.PG.ZS   \n",
              "...                                                  ...                ...   \n",
              "16099  Exports of goods, services and primary income ...     BX.GSR.TOTL.CD   \n",
              "16100    Technical cooperation grants (BoP, current US$)  BX.GRT.TECH.CD.WD   \n",
              "16101  Grants, excluding technical cooperation (BoP, ...  BX.GRT.EXTA.CD.WD   \n",
              "16102         Current account balance (BoP, current US$)     BN.CAB.XOKA.CD   \n",
              "16103  Imports of goods, services and primary income ...     BM.GSR.TOTL.CD   \n",
              "\n",
              "       1960     1961  1962     1963       1964       1965  ...          2011  \\\n",
              "0       NaN      NaN   NaN      NaN        NaN        NaN  ...  2.302793e+09   \n",
              "1       NaN      NaN   NaN      NaN        NaN        NaN  ...  1.174720e+00   \n",
              "2       NaN      NaN   NaN      NaN        NaN        NaN  ...           NaN   \n",
              "3       NaN      NaN   NaN      NaN        NaN        NaN  ...  6.897760e+08   \n",
              "4       NaN      NaN   NaN      NaN        NaN        NaN  ...           NaN   \n",
              "...     ...      ...   ...      ...        ...        ...  ...           ...   \n",
              "16099   NaN      NaN   NaN      NaN        NaN        NaN  ...  5.095932e+09   \n",
              "16100   NaN      NaN   NaN      NaN   140000.0   150000.0  ...  8.697000e+07   \n",
              "16101   NaN  10000.0   NaN  70000.0  6560000.0  6030000.0  ...  6.374800e+08   \n",
              "16102   NaN      NaN   NaN      NaN        NaN        NaN  ... -2.431844e+09   \n",
              "16103   NaN      NaN   NaN      NaN        NaN        NaN  ...  9.528082e+09   \n",
              "\n",
              "               2012          2013          2014          2015          2016  \\\n",
              "0      2.418547e+09  2.537095e+09  2.662514e+09  2.794804e+09  2.830726e+09   \n",
              "1      3.053451e+00  3.171215e+00  3.387887e+00  4.244713e+00  5.036316e+00   \n",
              "2               NaN           NaN           NaN           NaN           NaN   \n",
              "3      7.686223e+08  6.531707e+08  6.803510e+08  8.158006e+08  9.225509e+08   \n",
              "4               NaN           NaN           NaN           NaN           NaN   \n",
              "...             ...           ...           ...           ...           ...   \n",
              "16099  4.647509e+09  4.390842e+09  4.246621e+09  4.174925e+09  4.279921e+09   \n",
              "16100  9.285000e+07  6.821000e+07  5.262000e+07  4.036000e+07  5.980000e+07   \n",
              "16101  9.195500e+08  7.772000e+08  7.074700e+08  7.746000e+08  6.933500e+08   \n",
              "16102 -1.835949e+09 -2.525719e+09 -2.405182e+09 -1.678451e+09 -7.179652e+08   \n",
              "16103  8.683356e+09  8.895458e+09  8.531318e+09  7.873438e+09  6.825338e+09   \n",
              "\n",
              "               2017          2018          2019  2020  \n",
              "0      2.885754e+09           NaN           NaN   NaN  \n",
              "1      4.801479e+00  4.618731e+00  4.715359e+00   NaN  \n",
              "2               NaN           NaN           NaN   NaN  \n",
              "3      9.071115e+08  9.802477e+08  9.823000e+08   NaN  \n",
              "4               NaN           NaN           NaN   NaN  \n",
              "...             ...           ...           ...   ...  \n",
              "16099  4.945834e+09           NaN           NaN   NaN  \n",
              "16100  5.249000e+07  5.442000e+07  6.704000e+07   NaN  \n",
              "16101  6.758300e+08  7.390300e+08  9.239100e+08   NaN  \n",
              "16102 -3.078109e+08           NaN           NaN   NaN  \n",
              "16103  6.950997e+09           NaN           NaN   NaN  \n",
              "\n",
              "[16104 rows x 65 columns]>"
            ]
          },
          "metadata": {},
          "execution_count": 29
        }
      ]
    },
    {
      "cell_type": "code",
      "source": [
        "# Redefinimos la lectura para capturar solamente las columnas que nos interesa de l DataFrame df20\n",
        "# Consideramos solo el indicador en los últimos dos años considerados\n",
        "df20 = pd.read_excel('/content/PopulationDataWorldBank.xlsx','External Debt').loc[:, ('Country Name', 'Country Code', 'Indicator Name', 'Indicator Code', '2019', '2020')]\n",
        "df20.info"
      ],
      "metadata": {
        "colab": {
          "base_uri": "https://localhost:8080/"
        },
        "id": "wnKvHTS4u69Y",
        "outputId": "7dc75d97-6d4e-4441-96af-a4f21a80295e"
      },
      "execution_count": 30,
      "outputs": [
        {
          "output_type": "execute_result",
          "data": {
            "text/plain": [
              "<bound method DataFrame.info of       Country Name Country Code  \\\n",
              "0            Aruba          ABW   \n",
              "1            Aruba          ABW   \n",
              "2            Aruba          ABW   \n",
              "3            Aruba          ABW   \n",
              "4            Aruba          ABW   \n",
              "...            ...          ...   \n",
              "16099     Zimbabwe          ZWE   \n",
              "16100     Zimbabwe          ZWE   \n",
              "16101     Zimbabwe          ZWE   \n",
              "16102     Zimbabwe          ZWE   \n",
              "16103     Zimbabwe          ZWE   \n",
              "\n",
              "                                          Indicator Name     Indicator Code  \\\n",
              "0                                      GNI (current US$)     NY.GNP.MKTP.CD   \n",
              "1                    Total reserves in months of imports     FI.RES.TOTL.MO   \n",
              "2              Total reserves (% of total external debt)  FI.RES.TOTL.DT.ZS   \n",
              "3            Total reserves (includes gold, current US$)     FI.RES.TOTL.CD   \n",
              "4      Multilateral debt service (% of public and pub...  DT.TDS.MLAT.PG.ZS   \n",
              "...                                                  ...                ...   \n",
              "16099  Exports of goods, services and primary income ...     BX.GSR.TOTL.CD   \n",
              "16100    Technical cooperation grants (BoP, current US$)  BX.GRT.TECH.CD.WD   \n",
              "16101  Grants, excluding technical cooperation (BoP, ...  BX.GRT.EXTA.CD.WD   \n",
              "16102         Current account balance (BoP, current US$)     BN.CAB.XOKA.CD   \n",
              "16103  Imports of goods, services and primary income ...     BM.GSR.TOTL.CD   \n",
              "\n",
              "               2019  2020  \n",
              "0               NaN   NaN  \n",
              "1      4.715359e+00   NaN  \n",
              "2               NaN   NaN  \n",
              "3      9.823000e+08   NaN  \n",
              "4               NaN   NaN  \n",
              "...             ...   ...  \n",
              "16099           NaN   NaN  \n",
              "16100  6.704000e+07   NaN  \n",
              "16101  9.239100e+08   NaN  \n",
              "16102           NaN   NaN  \n",
              "16103           NaN   NaN  \n",
              "\n",
              "[16104 rows x 6 columns]>"
            ]
          },
          "metadata": {},
          "execution_count": 30
        }
      ]
    },
    {
      "cell_type": "code",
      "source": [
        "# Comprobamos el DataFrame df21. Todas las columnas son necesarias\n",
        "df21.info"
      ],
      "metadata": {
        "colab": {
          "base_uri": "https://localhost:8080/"
        },
        "id": "lEcrc3KlyUxt",
        "outputId": "1a1de833-cc27-4c6c-c18d-d585d02d05e5"
      },
      "execution_count": 31,
      "outputs": [
        {
          "output_type": "execute_result",
          "data": {
            "text/plain": [
              "<bound method DataFrame.info of     Country Code                      Region          IncomeGroup  \\\n",
              "0            ABW   Latin America & Caribbean          High income   \n",
              "1            AFG                  South Asia           Low income   \n",
              "2            AGO          Sub-Saharan Africa  Lower middle income   \n",
              "3            ALB       Europe & Central Asia  Upper middle income   \n",
              "4            AND       Europe & Central Asia          High income   \n",
              "..           ...                         ...                  ...   \n",
              "258          XKX       Europe & Central Asia  Upper middle income   \n",
              "259          YEM  Middle East & North Africa           Low income   \n",
              "260          ZAF          Sub-Saharan Africa  Upper middle income   \n",
              "261          ZMB          Sub-Saharan Africa  Lower middle income   \n",
              "262          ZWE          Sub-Saharan Africa  Lower middle income   \n",
              "\n",
              "                                          SpecialNotes     TableName  \n",
              "0                                                  NaN         Aruba  \n",
              "1                                                  NaN   Afghanistan  \n",
              "2                                                  NaN        Angola  \n",
              "3                                                  NaN       Albania  \n",
              "4                                                  NaN       Andorra  \n",
              "..                                                 ...           ...  \n",
              "258                                                NaN        Kosovo  \n",
              "259                                                NaN   Yemen, Rep.  \n",
              "260  Fiscal year end: March 31; reporting period fo...  South Africa  \n",
              "261  National accounts data were rebased to reflect...        Zambia  \n",
              "262                                                NaN      Zimbabwe  \n",
              "\n",
              "[263 rows x 5 columns]>"
            ]
          },
          "metadata": {},
          "execution_count": 31
        }
      ]
    },
    {
      "cell_type": "code",
      "source": [
        "# Comprobamos el DataFrame df21\n",
        "df22.info"
      ],
      "metadata": {
        "colab": {
          "base_uri": "https://localhost:8080/"
        },
        "id": "TycBwbJPyhJf",
        "outputId": "48017f3e-a414-4626-e2c4-d82adf43de54"
      },
      "execution_count": 32,
      "outputs": [
        {
          "output_type": "execute_result",
          "data": {
            "text/plain": [
              "<bound method DataFrame.info of          INDICATOR_CODE                                     INDICATOR_NAME  \\\n",
              "0           SP.POP.GROW                       Population growth (annual %)   \n",
              "1           SP.POP.TOTL                                  Population, total   \n",
              "2           EN.POP.DNST  Population density (people per sq. km of land ...   \n",
              "3     SP.POP.TOTL.FE.IN                                 Population, female   \n",
              "4     SP.POP.TOTL.MA.IN                                   Population, male   \n",
              "...                 ...                                                ...   \n",
              "1211     DT.DOD.DSTC.CD  External debt stocks, short-term (DOD, current...   \n",
              "1212     DT.DOD.DPPG.CD  External debt stocks, public and publicly guar...   \n",
              "1213     DT.DOD.DPNG.CD  External debt stocks, private nonguaranteed (P...   \n",
              "1214     DT.DOD.DLXF.CD  External debt stocks, long-term (DOD, current ...   \n",
              "1215     DT.DOD.DIMF.CD               Use of IMF credit (DOD, current US$)   \n",
              "\n",
              "                                            SOURCE_NOTE  \\\n",
              "0     Annual population growth rate for year t is th...   \n",
              "1     Total population is based on the de facto defi...   \n",
              "2     Population density is midyear population divid...   \n",
              "3     Female population is based on the de facto def...   \n",
              "4     Male population is based on the de facto defin...   \n",
              "...                                                 ...   \n",
              "1211  Short-term external debt is defined as debt th...   \n",
              "1212  Public and publicly guaranteed debt comprises ...   \n",
              "1213  Private nonguaranteed external debt comprises ...   \n",
              "1214  Long-term debt is debt that has an original or...   \n",
              "1215  Use of IMF Credit: Data related to the operati...   \n",
              "\n",
              "                                    SOURCE_ORGANIZATION  \n",
              "0     Derived from total population. Population sour...  \n",
              "1     (1) United Nations Population Division. World ...  \n",
              "2     Food and Agriculture Organization and World Ba...  \n",
              "3     World Bank staff estimates using the World Ban...  \n",
              "4     World Bank staff estimates using the World Ban...  \n",
              "...                                                 ...  \n",
              "1211         World Bank, International Debt Statistics.  \n",
              "1212         World Bank, International Debt Statistics.  \n",
              "1213         World Bank, International Debt Statistics.  \n",
              "1214         World Bank, International Debt Statistics.  \n",
              "1215         World Bank, International Debt Statistics.  \n",
              "\n",
              "[1216 rows x 4 columns]>"
            ]
          },
          "metadata": {},
          "execution_count": 32
        }
      ]
    },
    {
      "cell_type": "code",
      "source": [
        "# Redefinimos la lectura para capturar solamente las columnas que nos interesa de l DataFrame df22\n",
        "# Consideramos solo el indicador y el descriptivo\n",
        "df22 = pd.read_excel('/content/PopulationDataWorldBank.xlsx','Metadata Indicators').loc[:, ('INDICATOR_CODE', 'INDICATOR_NAME')]\n",
        "df22.info"
      ],
      "metadata": {
        "colab": {
          "base_uri": "https://localhost:8080/"
        },
        "id": "xwESFxZ6z0Lh",
        "outputId": "6c6352ba-00b8-482d-f696-8b4e5b19da24"
      },
      "execution_count": 33,
      "outputs": [
        {
          "output_type": "execute_result",
          "data": {
            "text/plain": [
              "<bound method DataFrame.info of          INDICATOR_CODE                                     INDICATOR_NAME\n",
              "0           SP.POP.GROW                       Population growth (annual %)\n",
              "1           SP.POP.TOTL                                  Population, total\n",
              "2           EN.POP.DNST  Population density (people per sq. km of land ...\n",
              "3     SP.POP.TOTL.FE.IN                                 Population, female\n",
              "4     SP.POP.TOTL.MA.IN                                   Population, male\n",
              "...                 ...                                                ...\n",
              "1211     DT.DOD.DSTC.CD  External debt stocks, short-term (DOD, current...\n",
              "1212     DT.DOD.DPPG.CD  External debt stocks, public and publicly guar...\n",
              "1213     DT.DOD.DPNG.CD  External debt stocks, private nonguaranteed (P...\n",
              "1214     DT.DOD.DLXF.CD  External debt stocks, long-term (DOD, current ...\n",
              "1215     DT.DOD.DIMF.CD               Use of IMF credit (DOD, current US$)\n",
              "\n",
              "[1216 rows x 2 columns]>"
            ]
          },
          "metadata": {},
          "execution_count": 33
        }
      ]
    },
    {
      "cell_type": "markdown",
      "source": [
        "***Transformación de datos (fusión de DataFrames)***"
      ],
      "metadata": {
        "id": "EiNINMhvwB7y"
      }
    },
    {
      "cell_type": "code",
      "source": [
        "# Debemos fusionar los df15a y df15b en uno solo (df15) de Salud\n"
      ],
      "metadata": {
        "id": "vA6qcx6TvcCH"
      },
      "execution_count": null,
      "outputs": []
    }
  ]
}