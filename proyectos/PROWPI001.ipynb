{
  "nbformat": 4,
  "nbformat_minor": 0,
  "metadata": {
    "colab": {
      "provenance": []
    },
    "kernelspec": {
      "name": "python3",
      "display_name": "Python 3"
    },
    "language_info": {
      "name": "python"
    }
  },
  "cells": [
    {
      "cell_type": "markdown",
      "source": [
        "# Proyecto: PROWPI001 (Proyecto World Population Indicators 001)"
      ],
      "metadata": {
        "id": "AaqohPl7Uv0V"
      }
    },
    {
      "cell_type": "markdown",
      "source": [
        "Data source: **Kaggle, World Bank Indicators Collection**  \n",
        "URL        : https://www.kaggle.com/datasets/ploverbrown/world-bank-indicators-collection  \n",
        "Autor      : PLOVER BROWN  \n",
        "Fuente     : **Banco Mundial**  \n",
        "Fichero    : PopulationDataWorldBank.xlsx  \n",
        "\n",
        "## Componentes\n",
        "\n",
        "1. ***Población (seleccionado)***\n",
        "2. ***Densidad de población (seleccionado)***\n",
        "3. ***Crecimiento de la población  (seleccionado)***\n",
        "4. Población femenina\n",
        "5. Población masculina\n",
        "6. ***Educación  (seleccionado)***\n",
        "7. Cambio climático\n",
        "8. Comercio\n",
        "9. Infraestructura\n",
        "10. Pobreza \n",
        "11. Desarrollo social\n",
        "12. Medio ambiente\n",
        "13. Agricultura y medio rural\n",
        "14. ***Desarrollo económico  (seleccionado)***\n",
        "15. ***Salud  (seleccionado)***\n",
        "16. Sector privado\n",
        "17. Sector público\n",
        "18. Sector financiero\n",
        "19. Ciencia y tecnología\n",
        "20. ***Deuda externa (seleccionado)***\n",
        "21. ***Metadatos de paises (seleccionado)***\n",
        "22. ***Metadatos de indicadores (seleccionado)***\n",
        "\n",
        "Los conjuntos de datos marcados como ***seleccionado*** serán incluidos en este proyecto. Caso que no tengan calodad los datasets, se buscarán datasets alternativos.  \n",
        "\n",
        "El presente proyecto solo es un ejercicio de NumPy y Pandas sobre Python en Notebbok en Google Colab. **No tiene más pretensiones**.  \n",
        "\n",
        "## Objetivos  \n",
        "\n",
        "Aunque, **el presente notebook es un ejercicio de un curso**, como se pretende hacer un análisis de datos, es imprescindible definir ***objetivos claros***. Estos son:  \n",
        "\n",
        "1. Los datasets, que se convertirán en nuestros datasources, deben ser completos y consistentes. Es decir:  \n",
        "  * No deben tener datos nulos o estos deben ser una minoría justificable.  \n",
        "  * Cogeremos un año como referencia del estudio. En nuestro caso será el 2021 (lo escogemos arbitráriamente y si no es posible obtenerlo, se buscará el año anterior).  \n",
        "2. Datos e indicadores buscados:  \n",
        "  * País, código alfanumérico estándard (ISO -iso3-). Deben haber 193 paises (reconocidos por la ONU) en 2021.\n",
        "  * Nombre país (de todos los paises del mundo en el año seleccionado -2021-).  \n",
        "  * Población total por país.  \n",
        "  * Densidad de población (nº de habitantes/Km2).  \n",
        "  * Tasa anual de crecimiento poblacional (confiaremos en el resultado que nos proporcionen los datasets).Siendo las fórmulas correctas:  \n",
        "      * Crecimiento = (nacimientos – defunciones) + (inmigraciones – emigraciones)  \n",
        "      * Tasa de crecimento anual = crecimiento anual / población media anual * 100\n",
        "      * Unidad de medida = %  \n",
        "  * Superfice (Km2).  \n",
        "\n",
        "\n",
        "\n",
        "  ***Nota***: Algunos estudios de prospectiva indican que el 16 de abril de 2023 India habra superado a China como el país más poblado del mundo. ¿Será verdad? ;-)"
      ],
      "metadata": {
        "id": "TK1itPZ9U6i5"
      }
    },
    {
      "cell_type": "markdown",
      "source": [
        "***Extracción de datos***"
      ],
      "metadata": {
        "id": "iEqfklEQvf5r"
      }
    },
    {
      "cell_type": "code",
      "source": [
        "# Librerías\n",
        "import numpy  as np\n",
        "import pandas as pd"
      ],
      "metadata": {
        "id": "CzfL1ZJnU4Wf"
      },
      "execution_count": 1,
      "outputs": []
    },
    {
      "cell_type": "code",
      "source": [
        "# Leer conjuntos de datos\n",
        "df_pob = pd.read_excel('/content/PopulationDataWorldBank.xlsx','Population Totals')    # Población\n",
        "df_den = pd.read_excel('/content/PopulationDataWorldBank.xlsx','Population Density')   # Densidad de población\n",
        "df_cre = pd.read_excel('/content/PopulationDataWorldBank.xlsx','Population Growth')    # Crecimiento de la población\n",
        "df_edu = pd.read_excel('/content/PopulationDataWorldBank.xlsx','Education')            # Educación\n",
        "df_des = pd.read_excel('/content/PopulationDataWorldBank.xlsx','Economic Growth')      # Desarrollo económico\n",
        "df_sal_a = pd.read_excel('/content/PopulationDataWorldBank.xlsx','Health1')            # Salud - hoja 1\n",
        "df_sal_b = pd.read_excel('/content/PopulationDataWorldBank.xlsx','Health2')            # Salud - hoja 2\n",
        "df_deu = pd.read_excel('/content/PopulationDataWorldBank.xlsx','External Debt')        # Deuda externa\n",
        "df_pai = pd.read_excel('/content/PopulationDataWorldBank.xlsx','Country Metadata')     # Metadatos de paises\n",
        "df_ind = pd.read_excel('/content/PopulationDataWorldBank.xlsx','Metadata Indicators')  # Metadatos de indicadores"
      ],
      "metadata": {
        "id": "J4a9k1rFb4wL"
      },
      "execution_count": 3,
      "outputs": []
    },
    {
      "cell_type": "markdown",
      "source": [
        "***Transformación de datos - Población -***"
      ],
      "metadata": {
        "id": "9W5ErTazvxSJ"
      }
    },
    {
      "cell_type": "code",
      "source": [
        "# Comprobamos el DataFrame df_pob\n",
        "df_pob.info"
      ],
      "metadata": {
        "colab": {
          "base_uri": "https://localhost:8080/"
        },
        "id": "xsEsRBg5iJmC",
        "outputId": "cec33f69-e4bb-4516-f276-9d94255d9962"
      },
      "execution_count": 4,
      "outputs": [
        {
          "output_type": "execute_result",
          "data": {
            "text/plain": [
              "<bound method DataFrame.info of      Country Name Country Code     Indicator Name Indicator Code        1960  \\\n",
              "0           Aruba          ABW  Population, total    SP.POP.TOTL     54211.0   \n",
              "1     Afghanistan          AFG  Population, total    SP.POP.TOTL   8996973.0   \n",
              "2          Angola          AGO  Population, total    SP.POP.TOTL   5454933.0   \n",
              "3         Albania          ALB  Population, total    SP.POP.TOTL   1608800.0   \n",
              "4         Andorra          AND  Population, total    SP.POP.TOTL     13411.0   \n",
              "..            ...          ...                ...            ...         ...   \n",
              "259        Kosovo          XKX  Population, total    SP.POP.TOTL    947000.0   \n",
              "260   Yemen, Rep.          YEM  Population, total    SP.POP.TOTL   5315355.0   \n",
              "261  South Africa          ZAF  Population, total    SP.POP.TOTL  17099840.0   \n",
              "262        Zambia          ZMB  Population, total    SP.POP.TOTL   3070776.0   \n",
              "263      Zimbabwe          ZWE  Population, total    SP.POP.TOTL   3776681.0   \n",
              "\n",
              "           1961        1962        1963        1964        1965  ...  \\\n",
              "0       55438.0     56225.0     56695.0     57032.0     57360.0  ...   \n",
              "1     9169410.0   9351441.0   9543205.0   9744781.0   9956320.0  ...   \n",
              "2     5531472.0   5608539.0   5679458.0   5735044.0   5770570.0  ...   \n",
              "3     1659800.0   1711319.0   1762621.0   1814135.0   1864791.0  ...   \n",
              "4       14375.0     15370.0     16412.0     17469.0     18549.0  ...   \n",
              "..          ...         ...         ...         ...         ...  ...   \n",
              "259    966000.0    994000.0   1022000.0   1050000.0   1078000.0  ...   \n",
              "260   5393036.0   5473671.0   5556766.0   5641597.0   5727751.0  ...   \n",
              "261  17524533.0  17965725.0  18423161.0  18896307.0  19384841.0  ...   \n",
              "262   3164329.0   3260650.0   3360104.0   3463213.0   3570464.0  ...   \n",
              "263   3905034.0   4039201.0   4178726.0   4322861.0   4471177.0  ...   \n",
              "\n",
              "           2010        2011        2012        2013        2014        2015  \\\n",
              "0      101669.0    102046.0    102560.0    103159.0    103774.0    104341.0   \n",
              "1    29185507.0  30117413.0  31161376.0  32269589.0  33370794.0  34413603.0   \n",
              "2    23356246.0  24220661.0  25107931.0  26015780.0  26941779.0  27884381.0   \n",
              "3     2913021.0   2905195.0   2900401.0   2895092.0   2889104.0   2880703.0   \n",
              "4       84449.0     83747.0     82427.0     80774.0     79213.0     78011.0   \n",
              "..          ...         ...         ...         ...         ...         ...   \n",
              "259   1775680.0   1791000.0   1807106.0   1818117.0   1812771.0   1788196.0   \n",
              "260  23154855.0  23807588.0  24473178.0  25147109.0  25823485.0  26497889.0   \n",
              "261  51216964.0  52004172.0  52834005.0  53689236.0  54545991.0  55386367.0   \n",
              "262  13605984.0  14023193.0  14465121.0  14926504.0  15399753.0  15879361.0   \n",
              "263  12697723.0  12894316.0  13115131.0  13350356.0  13586681.0  13814629.0   \n",
              "\n",
              "           2016        2017        2018        2019  \n",
              "0      104872.0    105366.0    105845.0    106314.0  \n",
              "1    35383128.0  36296400.0  37172386.0  38041754.0  \n",
              "2    28842484.0  29816748.0  30809762.0  31825295.0  \n",
              "3     2876101.0   2873457.0   2866376.0   2854191.0  \n",
              "4       77297.0     77001.0     77006.0     77142.0  \n",
              "..          ...         ...         ...         ...  \n",
              "259   1777557.0   1791003.0   1797085.0   1794248.0  \n",
              "260  27168210.0  27834821.0  28498687.0  29161922.0  \n",
              "261  56203654.0  57000451.0  57779622.0  58558270.0  \n",
              "262  16363507.0  16853688.0  17351822.0  17861030.0  \n",
              "263  14030390.0  14236745.0  14439018.0  14645468.0  \n",
              "\n",
              "[264 rows x 64 columns]>"
            ]
          },
          "metadata": {},
          "execution_count": 4
        }
      ]
    },
    {
      "cell_type": "markdown",
      "source": [
        "***Nueva extracción de datos - Población -***\n",
        "\n",
        "Queremos datos del año 2021 y en el presente dataset no disponemos de ellos. No tiene la calidad que requerimos en nuestros objetivos, por lo tanto, buscamos otro dataset, el cual nos proporcione los datos que necesitamos.  \n",
        "\n",
        "Data source: Kaggle, 2021 World Population (updated daily)  \n",
        "URL : https://www.kaggle.com/datasets/rsrishav/world-population  \n",
        "Autor : RISHAV SHARMA  \n",
        "Fuente : -  \n",
        "Fichero : 2021_population.csv  "
      ],
      "metadata": {
        "id": "Krbc7ut0lWbS"
      }
    },
    {
      "cell_type": "code",
      "source": [
        "# Releer el conjunto de datos\n",
        "df_pob = pd.read_csv('/content/2021_population.csv')    # Población"
      ],
      "metadata": {
        "id": "RzHUnTpwspUL"
      },
      "execution_count": 9,
      "outputs": []
    },
    {
      "cell_type": "markdown",
      "source": [
        "***Nueva transformación de datos - Población -***"
      ],
      "metadata": {
        "id": "IlSQIF4Idx3B"
      }
    },
    {
      "cell_type": "code",
      "source": [
        "# Comprobamos el DataFrame df_pob\n",
        "df_pob.info"
      ],
      "metadata": {
        "colab": {
          "base_uri": "https://localhost:8080/"
        },
        "id": "2X_r4kqztXzf",
        "outputId": "b9c60c59-8d0b-4a19-d3dd-718b43be5964"
      },
      "execution_count": 10,
      "outputs": [
        {
          "output_type": "execute_result",
          "data": {
            "text/plain": [
              "<bound method DataFrame.info of     iso_code           country 2021_last_updated 2020_population  \\\n",
              "0        CHN             China     1,447,065,329   1,439,323,776   \n",
              "1        IND             India     1,401,310,563   1,380,004,385   \n",
              "2        USA     United States       334,058,426     331,002,651   \n",
              "3        IDN         Indonesia       278,037,263     273,523,615   \n",
              "4        PAK          Pakistan       227,724,796     220,892,340   \n",
              "..       ...               ...               ...             ...   \n",
              "219      MSR        Montserrat             4,977           4,992   \n",
              "220      FLK  Falkland Islands             3,533           3,480   \n",
              "221      NIU              Niue             1,619           1,626   \n",
              "222      TKL           Tokelau             1,373           1,357   \n",
              "223      VAT      Vatican City               800             801   \n",
              "\n",
              "                area density_sq_km growth_rate world_%  rank  \n",
              "0    9,706,961 sq_km     149/sq_km       0.34%  18.34%     1  \n",
              "1    3,287,590 sq_km     424/sq_km       0.97%  17.69%     2  \n",
              "2    9,372,610 sq_km      36/sq_km       0.58%   4.23%     3  \n",
              "3    1,904,569 sq_km     145/sq_km       1.04%   3.51%     4  \n",
              "4      881,912 sq_km     255/sq_km       1.95%   2.86%     5  \n",
              "..               ...           ...         ...     ...   ...  \n",
              "219        102 sq_km      49/sq_km      -0.30%   0.00%   228  \n",
              "220     12,173 sq_km       0/sq_km       1.52%   0.00%   229  \n",
              "221        260 sq_km       6/sq_km      -0.43%   0.00%   230  \n",
              "222         12 sq_km     114/sq_km       1.18%   0.00%   231  \n",
              "223          1 sq_km     800/sq_km      -0.12%   0.00%   232  \n",
              "\n",
              "[224 rows x 9 columns]>"
            ]
          },
          "metadata": {},
          "execution_count": 10
        }
      ]
    },
    {
      "cell_type": "code",
      "source": [
        "# Comprobamos las columnas que hay en el DataFrame\n",
        "for column in df_pob:\n",
        "  print(column)"
      ],
      "metadata": {
        "colab": {
          "base_uri": "https://localhost:8080/"
        },
        "id": "eA4kdd7DjO4W",
        "outputId": "c0167ea7-945b-4138-86f3-8f69210235dd"
      },
      "execution_count": 11,
      "outputs": [
        {
          "output_type": "stream",
          "name": "stdout",
          "text": [
            "iso_code\n",
            "country\n",
            "2021_last_updated\n",
            "2020_population\n",
            "area\n",
            "density_sq_km\n",
            "growth_rate\n",
            "world_%\n",
            "rank\n"
          ]
        }
      ]
    },
    {
      "cell_type": "code",
      "source": [
        "# Limpiamos el Dataframe de las columnas que no necesitamos \n",
        "# Como hay > 195 paises, deben haber filas que no se refieren a paises, \n",
        "# sino a territorios autónomos, de ultramar, etc., como consecuencia \n",
        "# eliminamos el % de la población mundial y el ranking\n",
        "df_pob = df_pob.drop(['country' ,'2020_population', 'world_%', 'rank'], axis=1)"
      ],
      "metadata": {
        "id": "AMFbfwZBw-B4"
      },
      "execution_count": 12,
      "outputs": []
    },
    {
      "cell_type": "code",
      "source": [
        "# Renombramos columnas para hacer más manejable el df\n",
        "df_pob = df_pob.set_axis(['codigo_pais', 'poblacion', 'area', 'densidad_poblacion', 'tasa_crecimiento'], axis=1)"
      ],
      "metadata": {
        "id": "POzx_uFytxF1"
      },
      "execution_count": 13,
      "outputs": []
    },
    {
      "cell_type": "code",
      "source": [
        "# Comprobamos el DataFrame (general)\n",
        "df_pob.info"
      ],
      "metadata": {
        "colab": {
          "base_uri": "https://localhost:8080/"
        },
        "id": "3LPyB8laxmoO",
        "outputId": "85b9d396-f05b-4fb5-a993-95dedf70ef4e"
      },
      "execution_count": 14,
      "outputs": [
        {
          "output_type": "execute_result",
          "data": {
            "text/plain": [
              "<bound method DataFrame.info of     codigo_pais      poblacion             area densidad_poblacion  \\\n",
              "0           CHN  1,447,065,329  9,706,961 sq_km          149/sq_km   \n",
              "1           IND  1,401,310,563  3,287,590 sq_km          424/sq_km   \n",
              "2           USA    334,058,426  9,372,610 sq_km           36/sq_km   \n",
              "3           IDN    278,037,263  1,904,569 sq_km          145/sq_km   \n",
              "4           PAK    227,724,796    881,912 sq_km          255/sq_km   \n",
              "..          ...            ...              ...                ...   \n",
              "219         MSR          4,977        102 sq_km           49/sq_km   \n",
              "220         FLK          3,533     12,173 sq_km            0/sq_km   \n",
              "221         NIU          1,619        260 sq_km            6/sq_km   \n",
              "222         TKL          1,373         12 sq_km          114/sq_km   \n",
              "223         VAT            800          1 sq_km          800/sq_km   \n",
              "\n",
              "    tasa_crecimiento  \n",
              "0              0.34%  \n",
              "1              0.97%  \n",
              "2              0.58%  \n",
              "3              1.04%  \n",
              "4              1.95%  \n",
              "..               ...  \n",
              "219           -0.30%  \n",
              "220            1.52%  \n",
              "221           -0.43%  \n",
              "222            1.18%  \n",
              "223           -0.12%  \n",
              "\n",
              "[224 rows x 5 columns]>"
            ]
          },
          "metadata": {},
          "execution_count": 14
        }
      ]
    },
    {
      "cell_type": "code",
      "source": [
        "# Estandarizamos el código de población (iso3) a minúsculas\n",
        "df_pob['codigo_pais'] = df_pob['codigo_pais'].str.lower()\n",
        "df_pob.info"
      ],
      "metadata": {
        "colab": {
          "base_uri": "https://localhost:8080/"
        },
        "id": "_2L4F2zJd8h3",
        "outputId": "d2e77540-841d-4467-ee53-f70285cf0d5c"
      },
      "execution_count": 15,
      "outputs": [
        {
          "output_type": "execute_result",
          "data": {
            "text/plain": [
              "<bound method DataFrame.info of     codigo_pais      poblacion             area densidad_poblacion  \\\n",
              "0           chn  1,447,065,329  9,706,961 sq_km          149/sq_km   \n",
              "1           ind  1,401,310,563  3,287,590 sq_km          424/sq_km   \n",
              "2           usa    334,058,426  9,372,610 sq_km           36/sq_km   \n",
              "3           idn    278,037,263  1,904,569 sq_km          145/sq_km   \n",
              "4           pak    227,724,796    881,912 sq_km          255/sq_km   \n",
              "..          ...            ...              ...                ...   \n",
              "219         msr          4,977        102 sq_km           49/sq_km   \n",
              "220         flk          3,533     12,173 sq_km            0/sq_km   \n",
              "221         niu          1,619        260 sq_km            6/sq_km   \n",
              "222         tkl          1,373         12 sq_km          114/sq_km   \n",
              "223         vat            800          1 sq_km          800/sq_km   \n",
              "\n",
              "    tasa_crecimiento  \n",
              "0              0.34%  \n",
              "1              0.97%  \n",
              "2              0.58%  \n",
              "3              1.04%  \n",
              "4              1.95%  \n",
              "..               ...  \n",
              "219           -0.30%  \n",
              "220            1.52%  \n",
              "221           -0.43%  \n",
              "222            1.18%  \n",
              "223           -0.12%  \n",
              "\n",
              "[224 rows x 5 columns]>"
            ]
          },
          "metadata": {},
          "execution_count": 15
        }
      ]
    },
    {
      "cell_type": "code",
      "source": [
        "# Limpiamos las columnas de caracteres no deseados\n",
        "df_pob.area = df_pob.area.str.slice(0,-6)\n",
        "df_pob.densidad_poblacion = df_pob.densidad_poblacion.str.slice(0,-6)\n",
        "df_pob.tasa_crecimiento = df_pob.tasa_crecimiento.str.slice(0,-1)\n",
        "df_pob.info"
      ],
      "metadata": {
        "colab": {
          "base_uri": "https://localhost:8080/"
        },
        "id": "FhB49U1Ymn7j",
        "outputId": "d13712cc-7fba-420d-e134-44ad70f9ff2e"
      },
      "execution_count": 16,
      "outputs": [
        {
          "output_type": "execute_result",
          "data": {
            "text/plain": [
              "<bound method DataFrame.info of     codigo_pais      poblacion       area densidad_poblacion tasa_crecimiento\n",
              "0           chn  1,447,065,329  9,706,961                149             0.34\n",
              "1           ind  1,401,310,563  3,287,590                424             0.97\n",
              "2           usa    334,058,426  9,372,610                 36             0.58\n",
              "3           idn    278,037,263  1,904,569                145             1.04\n",
              "4           pak    227,724,796    881,912                255             1.95\n",
              "..          ...            ...        ...                ...              ...\n",
              "219         msr          4,977        102                 49            -0.30\n",
              "220         flk          3,533     12,173                  0             1.52\n",
              "221         niu          1,619        260                  6            -0.43\n",
              "222         tkl          1,373         12                114             1.18\n",
              "223         vat            800          1                800            -0.12\n",
              "\n",
              "[224 rows x 5 columns]>"
            ]
          },
          "metadata": {},
          "execution_count": 16
        }
      ]
    },
    {
      "cell_type": "code",
      "source": [
        "# Comprobamos el DataFrame (NaN)\n",
        "df_pob.isna().sum()"
      ],
      "metadata": {
        "colab": {
          "base_uri": "https://localhost:8080/"
        },
        "id": "l_QyxG5-oOl5",
        "outputId": "f3812c25-33e8-4150-89ac-c11a256d3937"
      },
      "execution_count": 17,
      "outputs": [
        {
          "output_type": "execute_result",
          "data": {
            "text/plain": [
              "codigo_pais           0\n",
              "poblacion             0\n",
              "area                  0\n",
              "densidad_poblacion    0\n",
              "tasa_crecimiento      0\n",
              "dtype: int64"
            ]
          },
          "metadata": {},
          "execution_count": 17
        }
      ]
    },
    {
      "cell_type": "code",
      "source": [
        "# Comprobamos el DataFrame (nulos)\n",
        "df_pob.isnull().sum()"
      ],
      "metadata": {
        "colab": {
          "base_uri": "https://localhost:8080/"
        },
        "id": "tkREduLClwaO",
        "outputId": "0ad098ee-2f26-4ec9-b295-aa2fab772391"
      },
      "execution_count": 18,
      "outputs": [
        {
          "output_type": "execute_result",
          "data": {
            "text/plain": [
              "codigo_pais           0\n",
              "poblacion             0\n",
              "area                  0\n",
              "densidad_poblacion    0\n",
              "tasa_crecimiento      0\n",
              "dtype: int64"
            ]
          },
          "metadata": {},
          "execution_count": 18
        }
      ]
    },
    {
      "cell_type": "markdown",
      "source": [
        "Vamos a la ***transformación de datos*** del dataset de metadatos de país, para obtener el datasource límpio"
      ],
      "metadata": {
        "id": "p_2P9xHdgB6y"
      }
    },
    {
      "cell_type": "code",
      "source": [
        "# Comprobamos el DataFrame df_pai (columnas)\n",
        "for column in df_pai:\n",
        "  print(column)"
      ],
      "metadata": {
        "colab": {
          "base_uri": "https://localhost:8080/"
        },
        "id": "KRCC7PKEkYvy",
        "outputId": "177e51b5-b930-4449-9c49-83ab47097e3a"
      },
      "execution_count": 19,
      "outputs": [
        {
          "output_type": "stream",
          "name": "stdout",
          "text": [
            "Country Code\n",
            "Region\n",
            "IncomeGroup\n",
            "SpecialNotes\n",
            "TableName\n"
          ]
        }
      ]
    },
    {
      "cell_type": "code",
      "source": [
        "# Ahora seleccionamos solo los registros que estén incluidos en nuestro dataset de paises \n",
        "# (ir más abajo a la extracción de datos de paises)\n",
        "df_pob_copy = df_pob[df_pob.codigo_pais.isin(df_pai['codigo_pais'])]\n",
        "df_pob_copy.info"
      ],
      "metadata": {
        "colab": {
          "base_uri": "https://localhost:8080/"
        },
        "id": "1_4a4UbflATW",
        "outputId": "b3535673-5dcb-42cc-b5ec-93b070884e96"
      },
      "execution_count": 37,
      "outputs": [
        {
          "output_type": "execute_result",
          "data": {
            "text/plain": [
              "<bound method DataFrame.info of     codigo_pais      poblacion       area densidad_poblacion tasa_crecimiento\n",
              "0           chn  1,447,065,329  9,706,961                149             0.34\n",
              "1           ind  1,401,310,563  3,287,590                424             0.97\n",
              "2           usa    334,058,426  9,372,610                 36             0.58\n",
              "3           idn    278,037,263  1,904,569                145             1.04\n",
              "4           pak    227,724,796    881,912                255             1.95\n",
              "..          ...            ...        ...                ...              ...\n",
              "208         lie         38,250        160                239             0.32\n",
              "209         smr         34,017         61                558             0.25\n",
              "211         plw         18,169        459                 40             0.41\n",
              "214         tuv         11,931         26                459             1.18\n",
              "216         nru         10,876         21                518             0.48\n",
              "\n",
              "[189 rows x 5 columns]>"
            ]
          },
          "metadata": {},
          "execution_count": 37
        }
      ]
    },
    {
      "cell_type": "code",
      "source": [
        "# Volcamos la copia del df con el que hemos trabajado en el original y listo.\n",
        "# Ya tenemos el df limpio\n",
        "df_pob = df_pob_copy\n",
        "df_pob.info"
      ],
      "metadata": {
        "colab": {
          "base_uri": "https://localhost:8080/"
        },
        "id": "BZ4cIhsW50Lw",
        "outputId": "9569968c-0b3e-4f74-dca8-227b16083a96"
      },
      "execution_count": 38,
      "outputs": [
        {
          "output_type": "execute_result",
          "data": {
            "text/plain": [
              "<bound method DataFrame.info of     codigo_pais      poblacion       area densidad_poblacion tasa_crecimiento\n",
              "0           chn  1,447,065,329  9,706,961                149             0.34\n",
              "1           ind  1,401,310,563  3,287,590                424             0.97\n",
              "2           usa    334,058,426  9,372,610                 36             0.58\n",
              "3           idn    278,037,263  1,904,569                145             1.04\n",
              "4           pak    227,724,796    881,912                255             1.95\n",
              "..          ...            ...        ...                ...              ...\n",
              "208         lie         38,250        160                239             0.32\n",
              "209         smr         34,017         61                558             0.25\n",
              "211         plw         18,169        459                 40             0.41\n",
              "214         tuv         11,931         26                459             1.18\n",
              "216         nru         10,876         21                518             0.48\n",
              "\n",
              "[189 rows x 5 columns]>"
            ]
          },
          "metadata": {},
          "execution_count": 38
        }
      ]
    },
    {
      "cell_type": "markdown",
      "source": [
        "***Transformación de datos - Densidad de población -***"
      ],
      "metadata": {
        "id": "NbhOckYvlEcf"
      }
    },
    {
      "cell_type": "code",
      "source": [
        "# Comprobamos el DataFrame df_den\n",
        "df_den.info"
      ],
      "metadata": {
        "colab": {
          "base_uri": "https://localhost:8080/"
        },
        "id": "MslkT0h-m9hA",
        "outputId": "1c146e76-d382-4349-ba41-d38c6c483828"
      },
      "execution_count": 39,
      "outputs": [
        {
          "output_type": "execute_result",
          "data": {
            "text/plain": [
              "<bound method DataFrame.info of      Country Name Country Code  \\\n",
              "0           Aruba          ABW   \n",
              "1     Afghanistan          AFG   \n",
              "2          Angola          AGO   \n",
              "3         Albania          ALB   \n",
              "4         Andorra          AND   \n",
              "..            ...          ...   \n",
              "259        Kosovo          XKX   \n",
              "260   Yemen, Rep.          YEM   \n",
              "261  South Africa          ZAF   \n",
              "262        Zambia          ZMB   \n",
              "263      Zimbabwe          ZWE   \n",
              "\n",
              "                                        Indicator Name Indicator Code  1960  \\\n",
              "0    Population density (people per sq. km of land ...    EN.POP.DNST   NaN   \n",
              "1    Population density (people per sq. km of land ...    EN.POP.DNST   NaN   \n",
              "2    Population density (people per sq. km of land ...    EN.POP.DNST   NaN   \n",
              "3    Population density (people per sq. km of land ...    EN.POP.DNST   NaN   \n",
              "4    Population density (people per sq. km of land ...    EN.POP.DNST   NaN   \n",
              "..                                                 ...            ...   ...   \n",
              "259  Population density (people per sq. km of land ...    EN.POP.DNST   NaN   \n",
              "260  Population density (people per sq. km of land ...    EN.POP.DNST   NaN   \n",
              "261  Population density (people per sq. km of land ...    EN.POP.DNST   NaN   \n",
              "262  Population density (people per sq. km of land ...    EN.POP.DNST   NaN   \n",
              "263  Population density (people per sq. km of land ...    EN.POP.DNST   NaN   \n",
              "\n",
              "           1961        1962        1963        1964        1965  ...  \\\n",
              "0    307.988889  312.361111  314.972222  316.844444  318.666667  ...   \n",
              "1     14.044987   14.323808   14.617537   14.926295   15.250314  ...   \n",
              "2      4.436891    4.498708    4.555593    4.600180    4.628676  ...   \n",
              "3     60.576642   62.456898   64.329234   66.209307   68.058066  ...   \n",
              "4     30.585106   32.702128   34.919149   37.168085   39.465957  ...   \n",
              "..          ...         ...         ...         ...         ...  ...   \n",
              "259   88.729678   91.301552   93.873427   96.445302   99.017176  ...   \n",
              "260   10.214664   10.367390   10.524776   10.685450   10.848630  ...   \n",
              "261   14.446194   14.809886   15.186970   15.577003   15.979722  ...   \n",
              "262    4.256620    4.386190    4.519975    4.658676    4.802949  ...   \n",
              "263   10.094440   10.441259   10.801928   11.174515   11.557909  ...   \n",
              "\n",
              "           2010        2011        2012        2013        2014        2015  \\\n",
              "0    564.827778  566.922222  569.777778  573.105556  576.522222  579.672222   \n",
              "1     44.704082   46.131503   47.730564   49.428038   51.114778   52.712072   \n",
              "2     18.734456   19.427818   20.139513   20.867715   21.610475   22.366553   \n",
              "3    106.314635  106.029015  105.854051  105.660292  105.441752  105.135146   \n",
              "4    179.678723  178.185106  175.376596  171.859575  168.538298  165.980851   \n",
              "..          ...         ...         ...         ...         ...         ...   \n",
              "259  163.100946  164.508129  165.987508  166.998898  166.507853  164.250574   \n",
              "260   43.856384   45.092691   46.353350   47.629807   48.910895   50.188247   \n",
              "261   42.220251   42.869179   43.553244   44.258246   44.964505   45.657261   \n",
              "262   18.302619   18.863844   19.458321   20.078968   20.715577   21.360741   \n",
              "263   32.823376   33.331565   33.902368   34.510420   35.121316   35.710557   \n",
              "\n",
              "           2016        2017        2018  2019  \n",
              "0    582.622222  585.366667  588.027778   NaN  \n",
              "1     54.197114   55.595993   56.937760   NaN  \n",
              "2     23.135064   23.916538   24.713052   NaN  \n",
              "3    104.967190  104.870693  104.612263   NaN  \n",
              "4    164.461702  163.831915  163.842553   NaN  \n",
              "..          ...         ...         ...   ...  \n",
              "259  163.273354  164.508405         NaN   NaN  \n",
              "260   51.457867   52.720459   53.977853   NaN  \n",
              "261   46.330985   46.987817   47.630120   NaN  \n",
              "262   22.012009   22.671395   23.341479   NaN  \n",
              "263   36.268295   36.801719   37.324591   NaN  \n",
              "\n",
              "[264 rows x 64 columns]>"
            ]
          },
          "metadata": {},
          "execution_count": 39
        }
      ]
    },
    {
      "cell_type": "markdown",
      "source": [
        "Este dataset no nos proporciona ninguna información del 2021, además, la densidad de la población ya la tenemos límpia en df_pob. Lo despreciamos para nuetro análisis"
      ],
      "metadata": {
        "id": "2xXhugIY5Wcf"
      }
    },
    {
      "cell_type": "markdown",
      "source": [
        "***Transformación de datos - Crecimiento demográfico -***"
      ],
      "metadata": {
        "id": "SvxePBAG_2gX"
      }
    },
    {
      "cell_type": "code",
      "source": [
        "# Comprobamos el DataFrame df_cre\n",
        "df_cre.info"
      ],
      "metadata": {
        "colab": {
          "base_uri": "https://localhost:8080/"
        },
        "id": "iUEDxUf0oATq",
        "outputId": "b4c22294-cc5d-4d25-9d25-4ff993c5043e"
      },
      "execution_count": 41,
      "outputs": [
        {
          "output_type": "execute_result",
          "data": {
            "text/plain": [
              "<bound method DataFrame.info of      Country Name Country Code                Indicator Name Indicator Code  \\\n",
              "0           Aruba          ABW  Population growth (annual %)    SP.POP.GROW   \n",
              "1     Afghanistan          AFG  Population growth (annual %)    SP.POP.GROW   \n",
              "2          Angola          AGO  Population growth (annual %)    SP.POP.GROW   \n",
              "3         Albania          ALB  Population growth (annual %)    SP.POP.GROW   \n",
              "4         Andorra          AND  Population growth (annual %)    SP.POP.GROW   \n",
              "..            ...          ...                           ...            ...   \n",
              "259        Kosovo          XKX  Population growth (annual %)    SP.POP.GROW   \n",
              "260   Yemen, Rep.          YEM  Population growth (annual %)    SP.POP.GROW   \n",
              "261  South Africa          ZAF  Population growth (annual %)    SP.POP.GROW   \n",
              "262        Zambia          ZMB  Population growth (annual %)    SP.POP.GROW   \n",
              "263      Zimbabwe          ZWE  Population growth (annual %)    SP.POP.GROW   \n",
              "\n",
              "     1960      1961      1962      1963      1964      1965  ...      2010  \\\n",
              "0     NaN  2.238144  1.409622  0.832453  0.592649  0.573468  ...  0.210709   \n",
              "1     NaN  1.898476  1.965751  2.029893  2.090248  2.147567  ...  2.746576   \n",
              "2     NaN  1.393363  1.383629  1.256555  0.973962  0.617544  ...  3.671462   \n",
              "3     NaN  3.120855  3.056731  2.953749  2.880686  2.754021  ... -0.496462   \n",
              "4     NaN  6.941532  6.692697  6.559522  6.241511  5.998800  ... -0.016577   \n",
              "..    ...       ...       ...       ...       ...       ...  ...       ...   \n",
              "259   NaN  1.986474  2.857337  2.777956  2.702867  2.631731  ...  0.803249   \n",
              "260   NaN  1.450869  1.484101  1.506678  1.515090  1.515578  ...  2.795788   \n",
              "261   NaN  2.453268  2.486399  2.514285  2.535788  2.552486  ...  1.455280   \n",
              "262   NaN  3.001073  2.998554  3.004536  3.022485  3.049879  ...  2.914663   \n",
              "263   NaN  3.342091  3.378041  3.395952  3.391104  3.373423  ...  1.353893   \n",
              "\n",
              "         2011      2012      2013      2014      2015      2016      2017  \\\n",
              "0    0.370125  0.502430  0.582349  0.594397  0.544892  0.507618  0.469944   \n",
              "1    3.143126  3.407587  3.494589  3.355582  3.077084  2.778317  2.548347   \n",
              "2    3.634159  3.597774  3.551950  3.497493  3.438851  3.378273  3.322081   \n",
              "3   -0.269017 -0.165151 -0.183211 -0.207047 -0.291206 -0.159880 -0.091972   \n",
              "4   -0.834745 -1.588730 -2.025792 -1.951470 -1.529058 -0.919470 -0.383674   \n",
              "..        ...       ...       ...       ...       ...       ...       ...   \n",
              "259  0.859067  0.895255  0.607468 -0.294474 -1.364932 -0.596734  0.753585   \n",
              "260  2.779988  2.757339  2.716520  2.654141  2.578072  2.498247  2.424025   \n",
              "261  1.525314  1.583107  1.605752  1.583168  1.528926  1.464829  1.407741   \n",
              "262  3.020291  3.102770  3.139812  3.121305  3.066875  3.003346  2.951583   \n",
              "263  1.536391  1.698001  1.777645  1.754692  1.663813  1.549759  1.460061   \n",
              "\n",
              "         2018      2019  \n",
              "0    0.453576  0.442122  \n",
              "1    2.384761  2.311817  \n",
              "2    3.276134  3.242983  \n",
              "3   -0.246732 -0.426007  \n",
              "4    0.006493  0.176454  \n",
              "..        ...       ...  \n",
              "259  0.339011 -0.157992  \n",
              "260  2.357023  2.300580  \n",
              "261  1.357697  1.338617  \n",
              "262  2.912801  2.892373  \n",
              "263  1.410783  1.419681  \n",
              "\n",
              "[264 rows x 64 columns]>"
            ]
          },
          "metadata": {},
          "execution_count": 41
        }
      ]
    },
    {
      "cell_type": "markdown",
      "source": [
        "Por las mismas razones que el caso anterior, despreciamos df_cre, para nuetro análisis"
      ],
      "metadata": {
        "id": "8isbsAuP6K7E"
      }
    },
    {
      "cell_type": "markdown",
      "source": [
        "***Transformación de datos - Educación -***"
      ],
      "metadata": {
        "id": "5f5kaR3DAMSZ"
      }
    },
    {
      "cell_type": "code",
      "source": [
        "# Comprobamos el DataFrame df_edu\n",
        "df_edu.info"
      ],
      "metadata": {
        "colab": {
          "base_uri": "https://localhost:8080/"
        },
        "id": "PQ-hDTsG6z4F",
        "outputId": "8b2091d3-631c-4cc6-9179-d819ec1ee2ea"
      },
      "execution_count": 42,
      "outputs": [
        {
          "output_type": "execute_result",
          "data": {
            "text/plain": [
              "<bound method DataFrame.info of       Country Name Country Code  \\\n",
              "0            Aruba          ABW   \n",
              "1            Aruba          ABW   \n",
              "2            Aruba          ABW   \n",
              "3            Aruba          ABW   \n",
              "4            Aruba          ABW   \n",
              "...            ...          ...   \n",
              "42763     Zimbabwe          ZWE   \n",
              "42764     Zimbabwe          ZWE   \n",
              "42765     Zimbabwe          ZWE   \n",
              "42766     Zimbabwe          ZWE   \n",
              "42767     Zimbabwe          ZWE   \n",
              "\n",
              "                                          Indicator Name  \\\n",
              "0          Population ages 15-64 (% of total population)   \n",
              "1           Population ages 0-14 (% of total population)   \n",
              "2      Unemployment, total (% of total labor force) (...   \n",
              "3      Unemployment, male (% of male labor force) (mo...   \n",
              "4      Unemployment, female (% of female labor force)...   \n",
              "...                                                  ...   \n",
              "42763  Literacy rate, adult female (% of females ages...   \n",
              "42764  Literacy rate, youth total (% of people ages 1...   \n",
              "42765  Literacy rate, youth male (% of males ages 15-24)   \n",
              "42766  Literacy rate, youth (ages 15-24), gender pari...   \n",
              "42767  Literacy rate, youth female (% of females ages...   \n",
              "\n",
              "             Indicator Code       1960       1961       1962       1963  \\\n",
              "0         SP.POP.1564.TO.ZS  53.669919  54.056784  54.383281  54.710292   \n",
              "1         SP.POP.0014.TO.ZS  43.847190  43.358346  42.925745  42.488756   \n",
              "2            SL.UEM.TOTL.ZS        NaN        NaN        NaN        NaN   \n",
              "3         SL.UEM.TOTL.MA.ZS        NaN        NaN        NaN        NaN   \n",
              "4         SL.UEM.TOTL.FE.ZS        NaN        NaN        NaN        NaN   \n",
              "...                     ...        ...        ...        ...        ...   \n",
              "42763     SE.ADT.LITR.FE.ZS        NaN        NaN        NaN        NaN   \n",
              "42764     SE.ADT.1524.LT.ZS        NaN        NaN        NaN        NaN   \n",
              "42765  SE.ADT.1524.LT.MA.ZS        NaN        NaN        NaN        NaN   \n",
              "42766  SE.ADT.1524.LT.FM.ZS        NaN        NaN        NaN        NaN   \n",
              "42767  SE.ADT.1524.LT.FE.ZS        NaN        NaN        NaN        NaN   \n",
              "\n",
              "            1964       1965  ...       2011       2012       2013       2014  \\\n",
              "0      55.119933  55.631102  ...  68.885601  68.986934  69.108851  69.181105   \n",
              "1      41.950133  41.290098  ...  20.530937  20.092629  19.593055  19.111724   \n",
              "2            NaN        NaN  ...        NaN        NaN        NaN        NaN   \n",
              "3            NaN        NaN  ...        NaN        NaN        NaN        NaN   \n",
              "4            NaN        NaN  ...        NaN        NaN        NaN        NaN   \n",
              "...          ...        ...  ...        ...        ...        ...        ...   \n",
              "42763        NaN        NaN  ...  80.065659        NaN        NaN  88.283829   \n",
              "42764        NaN        NaN  ...  90.930702        NaN        NaN  90.428123   \n",
              "42765        NaN        NaN  ...  89.590584        NaN        NaN  87.591858   \n",
              "42766        NaN        NaN  ...   1.027510        NaN        NaN   1.060060   \n",
              "42767        NaN        NaN  ...  92.124557        NaN        NaN  93.188347   \n",
              "\n",
              "            2015       2016       2017       2018       2019  2020  \n",
              "0      69.159774  69.137615  68.946339  68.646606  68.321199   NaN  \n",
              "1      18.703098  18.257495  17.980183  17.802447  17.620445   NaN  \n",
              "2            NaN        NaN        NaN        NaN        NaN   NaN  \n",
              "3            NaN        NaN        NaN        NaN        NaN   NaN  \n",
              "4            NaN        NaN        NaN        NaN        NaN   NaN  \n",
              "...          ...        ...        ...        ...        ...   ...  \n",
              "42763        NaN        NaN        NaN        NaN        NaN   NaN  \n",
              "42764        NaN        NaN        NaN        NaN        NaN   NaN  \n",
              "42765        NaN        NaN        NaN        NaN        NaN   NaN  \n",
              "42766        NaN        NaN        NaN        NaN        NaN   NaN  \n",
              "42767        NaN        NaN        NaN        NaN        NaN   NaN  \n",
              "\n",
              "[42768 rows x 65 columns]>"
            ]
          },
          "metadata": {},
          "execution_count": 42
        }
      ]
    },
    {
      "cell_type": "markdown",
      "source": [
        "***Nueva extracción de datos - Educación -***\n",
        "\n",
        "Este datasource no nos proporciona información del año que queremos analizar (2021), por lo tanto, buscamos otro, el cual nos proporcione los datos que necesitamos.\n",
        "\n",
        "Data source: All composite indices and components time series (1990-2021), Metadata  \n",
        "URL : https://hdr.undp.org/sites/default/files/2021-22_HDR/HDR21-22_Composite_indices_complete_time_series.csv  \n",
        "Autor : United Nations Development Programme  \n",
        "Fuente : UN  \n",
        "Fichero : HDR21-22_Composite_indices_complete_time_series.csv  \n",
        "\n"
      ],
      "metadata": {
        "id": "2m3j1fzt7Aqv"
      }
    },
    {
      "cell_type": "code",
      "source": [
        "# Releer el conjunto de datos\n",
        "df_edu = pd.read_csv('/content/HDR21-22_Composite_indices_complete_time_series.csv')            # Educación"
      ],
      "metadata": {
        "id": "Px_AEa3XpPGf"
      },
      "execution_count": 43,
      "outputs": []
    },
    {
      "cell_type": "markdown",
      "source": [
        "***Nueva transformación de datos - Educación -***"
      ],
      "metadata": {
        "id": "XjA0Z9hIBFs7"
      }
    },
    {
      "cell_type": "code",
      "source": [
        "# Comprobamos el DataFrame df_edu\n",
        "df_edu.info"
      ],
      "metadata": {
        "colab": {
          "base_uri": "https://localhost:8080/"
        },
        "id": "2lWQT4-MSsvI",
        "outputId": "58d93f9e-882b-4aeb-b86e-3e5c6ff9fd81"
      },
      "execution_count": 44,
      "outputs": [
        {
          "output_type": "execute_result",
          "data": {
            "text/plain": [
              "<bound method DataFrame.info of           iso3                          country    hdicode region  \\\n",
              "0          AFG                      Afghanistan        Low     SA   \n",
              "1          AGO                           Angola     Medium    SSA   \n",
              "2          ALB                          Albania       High    ECA   \n",
              "3          AND                          Andorra  Very High    NaN   \n",
              "4          ARE             United Arab Emirates  Very High     AS   \n",
              "..         ...                              ...        ...    ...   \n",
              "201    ZZG.ECA          Europe and Central Asia        NaN    NaN   \n",
              "202    ZZH.LAC  Latin America and the Caribbean        NaN    NaN   \n",
              "203     ZZI.SA                       South Asia        NaN    NaN   \n",
              "204    ZZJ.SSA               Sub-Saharan Africa        NaN    NaN   \n",
              "205  ZZK.WORLD                            World        NaN    NaN   \n",
              "\n",
              "     hdi_rank_2021  hdi_1990  hdi_1991  hdi_1992  hdi_1993  hdi_1994  ...  \\\n",
              "0            180.0     0.273     0.279     0.287     0.297     0.292  ...   \n",
              "1            148.0       NaN       NaN       NaN       NaN       NaN  ...   \n",
              "2             67.0     0.647     0.629     0.614     0.617     0.624  ...   \n",
              "3             40.0       NaN       NaN       NaN       NaN       NaN  ...   \n",
              "4             26.0     0.728     0.739     0.742     0.748     0.755  ...   \n",
              "..             ...       ...       ...       ...       ...       ...  ...   \n",
              "201            NaN     0.664     0.661     0.654     0.652     0.647  ...   \n",
              "202            NaN     0.633     0.638     0.643     0.648     0.654  ...   \n",
              "203            NaN     0.442     0.447     0.453     0.457     0.462  ...   \n",
              "204            NaN     0.407     0.410     0.410     0.411     0.413  ...   \n",
              "205            NaN     0.601     0.604     0.607     0.610     0.614  ...   \n",
              "\n",
              "       mf_2012    mf_2013    mf_2014    mf_2015    mf_2016    mf_2017  \\\n",
              "0     1.860000   1.880000   1.660000   1.620000   1.660000   1.410000   \n",
              "1     4.090000   4.530000   3.970000   3.590000   2.790000   2.640000   \n",
              "2    12.440000  11.490000  13.140000  12.610000  14.390000  14.460000   \n",
              "3          NaN        NaN        NaN        NaN        NaN        NaN   \n",
              "4    49.560000  49.680000  55.490000  59.760000  64.950000  75.610000   \n",
              "..         ...        ...        ...        ...        ...        ...   \n",
              "201  13.107171  14.172082  14.189127  14.523162  13.791770  13.618078   \n",
              "202  14.114108  14.493145  14.080904  14.146026  13.325144  13.604555   \n",
              "203   4.699407   4.584935   4.486500   4.610546   4.624886   4.740263   \n",
              "204   3.437760   3.530479   3.491150   3.494860   3.415511   3.256156   \n",
              "205  12.186601  12.474065  12.520563  12.372667  12.277707  12.277878   \n",
              "\n",
              "       mf_2018    mf_2019    mf_2020    mf_2021  \n",
              "0     1.320000   1.380000   1.380000   1.380000  \n",
              "1     2.280000   2.180000   2.180000   2.180000  \n",
              "2    12.850000  12.960000  12.960000  12.960000  \n",
              "3          NaN        NaN        NaN        NaN  \n",
              "4    65.970000  68.950000  68.950000  68.950000  \n",
              "..         ...        ...        ...        ...  \n",
              "201  13.914030  14.087293  14.091826  14.096719  \n",
              "202  13.151315  13.296195  13.290914  13.284745  \n",
              "203   5.000024   5.110230   5.106447   5.102134  \n",
              "204   3.145930   3.151076   3.146092   3.140740  \n",
              "205  12.220286  12.375236  12.325166  12.271920  \n",
              "\n",
              "[206 rows x 1008 columns]>"
            ]
          },
          "metadata": {},
          "execution_count": 44
        }
      ]
    },
    {
      "cell_type": "code",
      "source": [
        "# Limpiamos columnas que no necesitamos \n",
        "#     human development index     = hdi \n",
        "#     índice de desarrollo humano = idh\n",
        "df_edu = df_edu.drop(['hdi_1990',\n",
        "                  'hdi_1991',\n",
        "                  'hdi_1992',\n",
        "                  'hdi_1993',\n",
        "                  'hdi_1994',\n",
        "                  'hdi_1995',\n",
        "                  'hdi_1996',\n",
        "                  'hdi_1997',\n",
        "                  'hdi_1998',\n",
        "                  'hdi_1999',\n",
        "                  'hdi_2000',\n",
        "                  'hdi_2001',\n",
        "                  'hdi_2002',\n",
        "                  'hdi_2003',\n",
        "                  'hdi_2004',\n",
        "                  'hdi_2005',\n",
        "                  'hdi_2006',\n",
        "                  'hdi_2007',\n",
        "                  'hdi_2008',\n",
        "                  'hdi_2009',\n",
        "                  'hdi_2010',\n",
        "                  'hdi_2011',\n",
        "                  'hdi_2012',\n",
        "                  'hdi_2013',\n",
        "                  'hdi_2014',\n",
        "                  'hdi_2015',\n",
        "                  'hdi_2016',\n",
        "                  'hdi_2017',\n",
        "                  'hdi_2018',\n",
        "                  'hdi_2019',\n",
        "                  'hdi_2020'], axis=1)"
      ],
      "metadata": {
        "id": "x_FVzAW2T7h-"
      },
      "execution_count": 45,
      "outputs": []
    },
    {
      "cell_type": "code",
      "source": [
        "# Limpiamos columnas que no necesitamos \n",
        "#     life expectancy at birth (years)  = le\n",
        "#     esperanza de vida (años)          = ev\n",
        "df_edu = df_edu.drop(['le_1990',\n",
        "                  'le_1991',\n",
        "                  'le_1992',\n",
        "                  'le_1993',\n",
        "                  'le_1994',\n",
        "                  'le_1995',\n",
        "                  'le_1996',\n",
        "                  'le_1997',\n",
        "                  'le_1998',\n",
        "                  'le_1999',\n",
        "                  'le_2000',\n",
        "                  'le_2001',\n",
        "                  'le_2002',\n",
        "                  'le_2003',\n",
        "                  'le_2004',\n",
        "                  'le_2005',\n",
        "                  'le_2006',\n",
        "                  'le_2007',\n",
        "                  'le_2008',\n",
        "                  'le_2009',\n",
        "                  'le_2010',\n",
        "                  'le_2011',\n",
        "                  'le_2012',\n",
        "                  'le_2013',\n",
        "                  'le_2014',\n",
        "                  'le_2015',\n",
        "                  'le_2016',\n",
        "                  'le_2017',\n",
        "                  'le_2018',\n",
        "                  'le_2019',\n",
        "                  'le_2020'], axis=1)"
      ],
      "metadata": {
        "id": "21qLUMDZWZ3K"
      },
      "execution_count": null,
      "outputs": []
    },
    {
      "cell_type": "code",
      "source": [
        "# Limpiamos columnas que no necesitamos \n",
        "#     expected years of schooling   = eys\n",
        "#     años esperados de escolaridad = aee\n",
        "df_edu = df_edu.drop(['eys_1990',\n",
        "                  'eys_1991',\n",
        "                  'eys_1992',\n",
        "                  'eys_1993',\n",
        "                  'eys_1994',\n",
        "                  'eys_1995',\n",
        "                  'eys_1996',\n",
        "                  'eys_1997',\n",
        "                  'eys_1998',\n",
        "                  'eys_1999',\n",
        "                  'eys_2000',\n",
        "                  'eys_2001',\n",
        "                  'eys_2002',\n",
        "                  'eys_2003',\n",
        "                  'eys_2004',\n",
        "                  'eys_2005',\n",
        "                  'eys_2006',\n",
        "                  'eys_2007',\n",
        "                  'eys_2008',\n",
        "                  'eys_2009',\n",
        "                  'eys_2010',\n",
        "                  'eys_2011',\n",
        "                  'eys_2012',\n",
        "                  'eys_2013',\n",
        "                  'eys_2014',\n",
        "                  'eys_2015',\n",
        "                  'eys_2016',\n",
        "                  'eys_2017',\n",
        "                  'eys_2018',\n",
        "                  'eys_2019',\n",
        "                  'eys_2020'], axis=1)"
      ],
      "metadata": {
        "id": "Cyt2NI8UXE8P"
      },
      "execution_count": 48,
      "outputs": []
    },
    {
      "cell_type": "code",
      "source": [
        "# Limpiamos columnas que no necesitamos \n",
        "#     mean years of schooling       = mys\n",
        "#     promnedio años de escolaridad = pae\n",
        "df_edu = df_edu.drop(['mys_1990',\n",
        "                  'mys_1991',\n",
        "                  'mys_1992',\n",
        "                  'mys_1993',\n",
        "                  'mys_1994',\n",
        "                  'mys_1995',\n",
        "                  'mys_1996',\n",
        "                  'mys_1997',\n",
        "                  'mys_1998',\n",
        "                  'mys_1999',\n",
        "                  'mys_2000',\n",
        "                  'mys_2001',\n",
        "                  'mys_2002',\n",
        "                  'mys_2003',\n",
        "                  'mys_2004',\n",
        "                  'mys_2005',\n",
        "                  'mys_2006',\n",
        "                  'mys_2007',\n",
        "                  'mys_2008',\n",
        "                  'mys_2009',\n",
        "                  'mys_2010',\n",
        "                  'mys_2011',\n",
        "                  'mys_2012',\n",
        "                  'mys_2013',\n",
        "                  'mys_2014',\n",
        "                  'mys_2015',\n",
        "                  'mys_2016',\n",
        "                  'mys_2017',\n",
        "                  'mys_2018',\n",
        "                  'mys_2019',\n",
        "                  'mys_2020'], axis=1)"
      ],
      "metadata": {
        "id": "1RSKTWP6Yqsb"
      },
      "execution_count": 49,
      "outputs": []
    },
    {
      "cell_type": "code",
      "source": [
        "# Limpiamos columnas que no necesitamos \n",
        "#     gross national income per capita  = gnipc \n",
        "#     ingreso nacional bruto per cápita = inbpc\n",
        "df_edu = df_edu.drop(['gnipc_1990',\n",
        "                  'gnipc_1991',\n",
        "                  'gnipc_1992',\n",
        "                  'gnipc_1993',\n",
        "                  'gnipc_1994',\n",
        "                  'gnipc_1995',\n",
        "                  'gnipc_1996',\n",
        "                  'gnipc_1997',\n",
        "                  'gnipc_1998',\n",
        "                  'gnipc_1999',\n",
        "                  'gnipc_2000',\n",
        "                  'gnipc_2001',\n",
        "                  'gnipc_2002',\n",
        "                  'gnipc_2003',\n",
        "                  'gnipc_2004',\n",
        "                  'gnipc_2005',\n",
        "                  'gnipc_2006',\n",
        "                  'gnipc_2007',\n",
        "                  'gnipc_2008',\n",
        "                  'gnipc_2009',\n",
        "                  'gnipc_2010',\n",
        "                  'gnipc_2011',\n",
        "                  'gnipc_2012',\n",
        "                  'gnipc_2013',\n",
        "                  'gnipc_2014',\n",
        "                  'gnipc_2015',\n",
        "                  'gnipc_2016',\n",
        "                  'gnipc_2017',\n",
        "                  'gnipc_2018',\n",
        "                  'gnipc_2019',\n",
        "                  'gnipc_2020'], axis=1)"
      ],
      "metadata": {
        "id": "WvYbBU9jZJQ6"
      },
      "execution_count": 50,
      "outputs": []
    },
    {
      "cell_type": "markdown",
      "source": [
        "No hace falta limpiar las columnas que no necesitamos de\n",
        "     gdi group = gdi_group\n",
        "     grupo idg = grupo_idg\n",
        " No hace falta limpar este dato, porque solo está el año 2021"
      ],
      "metadata": {
        "id": "yj8LS8H1BTR3"
      }
    },
    {
      "cell_type": "code",
      "source": [
        "# Limpiamos columnas que no necesitamos \n",
        "#     gender development index        = gdi\n",
        "#     índice de desarrollo de género  = idg\n",
        "df_edu = df_edu.drop(['gdi_1990',\n",
        "                  'gdi_1991',\n",
        "                  'gdi_1992',\n",
        "                  'gdi_1993',\n",
        "                  'gdi_1994',\n",
        "                  'gdi_1995',\n",
        "                  'gdi_1996',\n",
        "                  'gdi_1997',\n",
        "                  'gdi_1998',\n",
        "                  'gdi_1999',\n",
        "                  'gdi_2000',\n",
        "                  'gdi_2001',\n",
        "                  'gdi_2002',\n",
        "                  'gdi_2003',\n",
        "                  'gdi_2004',\n",
        "                  'gdi_2005',\n",
        "                  'gdi_2006',\n",
        "                  'gdi_2007',\n",
        "                  'gdi_2008',\n",
        "                  'gdi_2009',\n",
        "                  'gdi_2010',\n",
        "                  'gdi_2011',\n",
        "                  'gdi_2012',\n",
        "                  'gdi_2013',\n",
        "                  'gdi_2014',\n",
        "                  'gdi_2015',\n",
        "                  'gdi_2016',\n",
        "                  'gdi_2017',\n",
        "                  'gdi_2018',\n",
        "                  'gdi_2019',\n",
        "                  'gdi_2020'], axis=1)"
      ],
      "metadata": {
        "id": "kdvyp__DfbDV"
      },
      "execution_count": 52,
      "outputs": []
    },
    {
      "cell_type": "code",
      "source": [
        "# Limpiamos columnas que no necesitamos \n",
        "#     hdi female    = hdi_f\n",
        "#     idh femenino  = idh_f\n",
        "df_edu = df_edu.drop(['hdi_f_1990',\n",
        "                  'hdi_f_1991',\n",
        "                  'hdi_f_1992',\n",
        "                  'hdi_f_1993',\n",
        "                  'hdi_f_1994',\n",
        "                  'hdi_f_1995',\n",
        "                  'hdi_f_1996',\n",
        "                  'hdi_f_1997',\n",
        "                  'hdi_f_1998',\n",
        "                  'hdi_f_1999',\n",
        "                  'hdi_f_2000',\n",
        "                  'hdi_f_2001',\n",
        "                  'hdi_f_2002',\n",
        "                  'hdi_f_2003',\n",
        "                  'hdi_f_2004',\n",
        "                  'hdi_f_2005',\n",
        "                  'hdi_f_2006',\n",
        "                  'hdi_f_2007',\n",
        "                  'hdi_f_2008',\n",
        "                  'hdi_f_2009',\n",
        "                  'hdi_f_2010',\n",
        "                  'hdi_f_2011',\n",
        "                  'hdi_f_2012',\n",
        "                  'hdi_f_2013',\n",
        "                  'hdi_f_2014',\n",
        "                  'hdi_f_2015',\n",
        "                  'hdi_f_2016',\n",
        "                  'hdi_f_2017',\n",
        "                  'hdi_f_2018',\n",
        "                  'hdi_f_2019',\n",
        "                  'hdi_f_2020'], axis=1)"
      ],
      "metadata": {
        "id": "9cwTeE9LhWcz"
      },
      "execution_count": 53,
      "outputs": []
    },
    {
      "cell_type": "code",
      "source": [
        "# Limpiamos columnas que no necesitamos \n",
        "#     life expectancy at birth, female (years)    = le_f \n",
        "#     esperanza de vida al nacer, femenino (años) = ev_f\n",
        "df_edu = df_edu.drop(['le_f_1990',\n",
        "                  'le_f_1991',\n",
        "                  'le_f_1992',\n",
        "                  'le_f_1993',\n",
        "                  'le_f_1994',\n",
        "                  'le_f_1995',\n",
        "                  'le_f_1996',\n",
        "                  'le_f_1997',\n",
        "                  'le_f_1998',\n",
        "                  'le_f_1999',\n",
        "                  'le_f_2000',\n",
        "                  'le_f_2001',\n",
        "                  'le_f_2002',\n",
        "                  'le_f_2003',\n",
        "                  'le_f_2004',\n",
        "                  'le_f_2005',\n",
        "                  'le_f_2006',\n",
        "                  'le_f_2007',\n",
        "                  'le_f_2008',\n",
        "                  'le_f_2009',\n",
        "                  'le_f_2010',\n",
        "                  'le_f_2011',\n",
        "                  'le_f_2012',\n",
        "                  'le_f_2013',\n",
        "                  'le_f_2014',\n",
        "                  'le_f_2015',\n",
        "                  'le_f_2016',\n",
        "                  'le_f_2017',\n",
        "                  'le_f_2018',\n",
        "                  'le_f_2019',\n",
        "                  'le_f_2020'], axis=1)"
      ],
      "metadata": {
        "id": "qSW8zLdNiMjJ"
      },
      "execution_count": 54,
      "outputs": []
    },
    {
      "cell_type": "code",
      "source": [
        "# Limpiamos columnas que no necesitamos \n",
        "#     expected years of schooling, female     = eys_f \n",
        "#     años esperados de escolaridad, femenino = aee_f\n",
        "df_edu = df_edu.drop(['eys_f_1990',\n",
        "                  'eys_f_1991',\n",
        "                  'eys_f_1992',\n",
        "                  'eys_f_1993',\n",
        "                  'eys_f_1994',\n",
        "                  'eys_f_1995',\n",
        "                  'eys_f_1996',\n",
        "                  'eys_f_1997',\n",
        "                  'eys_f_1998',\n",
        "                  'eys_f_1999',\n",
        "                  'eys_f_2000',\n",
        "                  'eys_f_2001',\n",
        "                  'eys_f_2002',\n",
        "                  'eys_f_2003',\n",
        "                  'eys_f_2004',\n",
        "                  'eys_f_2005',\n",
        "                  'eys_f_2006',\n",
        "                  'eys_f_2007',\n",
        "                  'eys_f_2008',\n",
        "                  'eys_f_2009',\n",
        "                  'eys_f_2010',\n",
        "                  'eys_f_2011',\n",
        "                  'eys_f_2012',\n",
        "                  'eys_f_2013',\n",
        "                  'eys_f_2014',\n",
        "                  'eys_f_2015',\n",
        "                  'eys_f_2016',\n",
        "                  'eys_f_2017',\n",
        "                  'eys_f_2018',\n",
        "                  'eys_f_2019',\n",
        "                  'eys_f_2020'], axis=1)"
      ],
      "metadata": {
        "id": "fB_7CIM3lduh"
      },
      "execution_count": 55,
      "outputs": []
    },
    {
      "cell_type": "code",
      "source": [
        "# Limpiamos columnas que no necesitamos \n",
        "#     mean years of schooling, female           = mys_f\n",
        "#     promedio de años de escolaridad, femenino = pae_f\n",
        "df_edu = df_edu.drop(['mys_f_1990',\n",
        "                  'mys_f_1991',\n",
        "                  'mys_f_1992',\n",
        "                  'mys_f_1993',\n",
        "                  'mys_f_1994',\n",
        "                  'mys_f_1995',\n",
        "                  'mys_f_1996',\n",
        "                  'mys_f_1997',\n",
        "                  'mys_f_1998',\n",
        "                  'mys_f_1999',\n",
        "                  'mys_f_2000',\n",
        "                  'mys_f_2001',\n",
        "                  'mys_f_2002',\n",
        "                  'mys_f_2003',\n",
        "                  'mys_f_2004',\n",
        "                  'mys_f_2005',\n",
        "                  'mys_f_2006',\n",
        "                  'mys_f_2007',\n",
        "                  'mys_f_2008',\n",
        "                  'mys_f_2009',\n",
        "                  'mys_f_2010',\n",
        "                  'mys_f_2011',\n",
        "                  'mys_f_2012',\n",
        "                  'mys_f_2013',\n",
        "                  'mys_f_2014',\n",
        "                  'mys_f_2015',\n",
        "                  'mys_f_2016',\n",
        "                  'mys_f_2017',\n",
        "                  'mys_f_2018',\n",
        "                  'mys_f_2019',\n",
        "                  'mys_f_2020'], axis=1)"
      ],
      "metadata": {
        "id": "GadwMB1rmJMv"
      },
      "execution_count": 56,
      "outputs": []
    },
    {
      "cell_type": "code",
      "source": [
        "# Limpiamos columnas que no necesitamos \n",
        "#     gross national income per capita, female    = gni_pc_f\n",
        "#     ingreso nacional bruto per cápita, femenino = inb_pc_f\n",
        "df_edu = df_edu.drop(['gni_pc_f_1990',\n",
        "                  'gni_pc_f_1991',\n",
        "                  'gni_pc_f_1992',\n",
        "                  'gni_pc_f_1993',\n",
        "                  'gni_pc_f_1994',\n",
        "                  'gni_pc_f_1995',\n",
        "                  'gni_pc_f_1996',\n",
        "                  'gni_pc_f_1997',\n",
        "                  'gni_pc_f_1998',\n",
        "                  'gni_pc_f_1999',\n",
        "                  'gni_pc_f_2000',\n",
        "                  'gni_pc_f_2001',\n",
        "                  'gni_pc_f_2002',\n",
        "                  'gni_pc_f_2003',\n",
        "                  'gni_pc_f_2004',\n",
        "                  'gni_pc_f_2005',\n",
        "                  'gni_pc_f_2006',\n",
        "                  'gni_pc_f_2007',\n",
        "                  'gni_pc_f_2008',\n",
        "                  'gni_pc_f_2009',\n",
        "                  'gni_pc_f_2010',\n",
        "                  'gni_pc_f_2011',\n",
        "                  'gni_pc_f_2012',\n",
        "                  'gni_pc_f_2013',\n",
        "                  'gni_pc_f_2014',\n",
        "                  'gni_pc_f_2015',\n",
        "                  'gni_pc_f_2016',\n",
        "                  'gni_pc_f_2017',\n",
        "                  'gni_pc_f_2018',\n",
        "                  'gni_pc_f_2019',\n",
        "                  'gni_pc_f_2020'], axis=1)"
      ],
      "metadata": {
        "id": "aJrc-O48mvzQ"
      },
      "execution_count": 57,
      "outputs": []
    },
    {
      "cell_type": "code",
      "source": [
        "# Limpiamos columnas que no necesitamos \n",
        "#     hdi male      = hdi_m\n",
        "#     idh masculino = idh_m\n",
        "df_edu = df_edu.drop(['hdi_m_1990',\n",
        "                  'hdi_m_1991',\n",
        "                  'hdi_m_1992',\n",
        "                  'hdi_m_1993',\n",
        "                  'hdi_m_1994',\n",
        "                  'hdi_m_1995',\n",
        "                  'hdi_m_1996',\n",
        "                  'hdi_m_1997',\n",
        "                  'hdi_m_1998',\n",
        "                  'hdi_m_1999',\n",
        "                  'hdi_m_2000',\n",
        "                  'hdi_m_2001',\n",
        "                  'hdi_m_2002',\n",
        "                  'hdi_m_2003',\n",
        "                  'hdi_m_2004',\n",
        "                  'hdi_m_2005',\n",
        "                  'hdi_m_2006',\n",
        "                  'hdi_m_2007',\n",
        "                  'hdi_m_2008',\n",
        "                  'hdi_m_2009',\n",
        "                  'hdi_m_2010',\n",
        "                  'hdi_m_2011',\n",
        "                  'hdi_m_2012',\n",
        "                  'hdi_m_2013',\n",
        "                  'hdi_m_2014',\n",
        "                  'hdi_m_2015',\n",
        "                  'hdi_m_2016',\n",
        "                  'hdi_m_2017',\n",
        "                  'hdi_m_2018',\n",
        "                  'hdi_m_2019',\n",
        "                  'hdi_m_2020'], axis=1)"
      ],
      "metadata": {
        "id": "HO3KJDjfnbjm"
      },
      "execution_count": 58,
      "outputs": []
    },
    {
      "cell_type": "code",
      "source": [
        "# Limpiamos columnas que no necesitamos \n",
        "#     life expectancy at birth, male (years)        = le_m\n",
        "#     esperanza de vida al nacer, masculino (años)  = ev_m\n",
        "df_edu = df_edu.drop(['le_m_1990',\n",
        "                  'le_m_1991',\n",
        "                  'le_m_1992',\n",
        "                  'le_m_1993',\n",
        "                  'le_m_1994',\n",
        "                  'le_m_1995',\n",
        "                  'le_m_1996',\n",
        "                  'le_m_1997',\n",
        "                  'le_m_1998',\n",
        "                  'le_m_1999',\n",
        "                  'le_m_2000',\n",
        "                  'le_m_2001',\n",
        "                  'le_m_2002',\n",
        "                  'le_m_2003',\n",
        "                  'le_m_2004',\n",
        "                  'le_m_2005',\n",
        "                  'le_m_2006',\n",
        "                  'le_m_2007',\n",
        "                  'le_m_2008',\n",
        "                  'le_m_2009',\n",
        "                  'le_m_2010',\n",
        "                  'le_m_2011',\n",
        "                  'le_m_2012',\n",
        "                  'le_m_2013',\n",
        "                  'le_m_2014',\n",
        "                  'le_m_2015',\n",
        "                  'le_m_2016',\n",
        "                  'le_m_2017',\n",
        "                  'le_m_2018',\n",
        "                  'le_m_2019',\n",
        "                  'le_m_2020'], axis=1)"
      ],
      "metadata": {
        "id": "_Tk4sIM4oGKO"
      },
      "execution_count": 59,
      "outputs": []
    },
    {
      "cell_type": "code",
      "source": [
        "# Limpiamos columnas que no necesitamos \n",
        "#     expected years of schooling, male         = eys_m\n",
        "#     años esperados de escolaridad, masculino  = aee_m\n",
        "df_edu = df_edu.drop(['eys_m_1990',\n",
        "                  'eys_m_1991',\n",
        "                  'eys_m_1992',\n",
        "                  'eys_m_1993',\n",
        "                  'eys_m_1994',\n",
        "                  'eys_m_1995',\n",
        "                  'eys_m_1996',\n",
        "                  'eys_m_1997',\n",
        "                  'eys_m_1998',\n",
        "                  'eys_m_1999',\n",
        "                  'eys_m_2000',\n",
        "                  'eys_m_2001',\n",
        "                  'eys_m_2002',\n",
        "                  'eys_m_2003',\n",
        "                  'eys_m_2004',\n",
        "                  'eys_m_2005',\n",
        "                  'eys_m_2006',\n",
        "                  'eys_m_2007',\n",
        "                  'eys_m_2008',\n",
        "                  'eys_m_2009',\n",
        "                  'eys_m_2010',\n",
        "                  'eys_m_2011',\n",
        "                  'eys_m_2012',\n",
        "                  'eys_m_2013',\n",
        "                  'eys_m_2014',\n",
        "                  'eys_m_2015',\n",
        "                  'eys_m_2016',\n",
        "                  'eys_m_2017',\n",
        "                  'eys_m_2018',\n",
        "                  'eys_m_2019',\n",
        "                  'eys_m_2020'], axis=1)"
      ],
      "metadata": {
        "id": "sFb5Xx5DoxWv"
      },
      "execution_count": 60,
      "outputs": []
    },
    {
      "cell_type": "code",
      "source": [
        "# Limpiamos columnas que no necesitamos \n",
        "#     mean years of schooling, male               = mys_m\n",
        "#     promedio de años de escolaridad, masculino  = pae_m\n",
        "df_edu = df_edu.drop(['mys_m_1990',\n",
        "                  'mys_m_1991',\n",
        "                  'mys_m_1992',\n",
        "                  'mys_m_1993',\n",
        "                  'mys_m_1994',\n",
        "                  'mys_m_1995',\n",
        "                  'mys_m_1996',\n",
        "                  'mys_m_1997',\n",
        "                  'mys_m_1998',\n",
        "                  'mys_m_1999',\n",
        "                  'mys_m_2000',\n",
        "                  'mys_m_2001',\n",
        "                  'mys_m_2002',\n",
        "                  'mys_m_2003',\n",
        "                  'mys_m_2004',\n",
        "                  'mys_m_2005',\n",
        "                  'mys_m_2006',\n",
        "                  'mys_m_2007',\n",
        "                  'mys_m_2008',\n",
        "                  'mys_m_2009',\n",
        "                  'mys_m_2010',\n",
        "                  'mys_m_2011',\n",
        "                  'mys_m_2012',\n",
        "                  'mys_m_2013',\n",
        "                  'mys_m_2014',\n",
        "                  'mys_m_2015',\n",
        "                  'mys_m_2016',\n",
        "                  'mys_m_2017',\n",
        "                  'mys_m_2018',\n",
        "                  'mys_m_2019',\n",
        "                  'mys_m_2020'], axis=1)"
      ],
      "metadata": {
        "id": "ItKezyj8pVjc"
      },
      "execution_count": 61,
      "outputs": []
    },
    {
      "cell_type": "code",
      "source": [
        "# Limpiamos columnas que no necesitamos \n",
        "#     gross national income per capita, male        = gni_pc_m\n",
        "#     ingreso nacional bruto per cápita, masculino  = inb_pc_m\n",
        "df_edu = df_edu.drop(['gni_pc_m_1990',\n",
        "                  'gni_pc_m_1991',\n",
        "                  'gni_pc_m_1992',\n",
        "                  'gni_pc_m_1993',\n",
        "                  'gni_pc_m_1994',\n",
        "                  'gni_pc_m_1995',\n",
        "                  'gni_pc_m_1996',\n",
        "                  'gni_pc_m_1997',\n",
        "                  'gni_pc_m_1998',\n",
        "                  'gni_pc_m_1999',\n",
        "                  'gni_pc_m_2000',\n",
        "                  'gni_pc_m_2001',\n",
        "                  'gni_pc_m_2002',\n",
        "                  'gni_pc_m_2003',\n",
        "                  'gni_pc_m_2004',\n",
        "                  'gni_pc_m_2005',\n",
        "                  'gni_pc_m_2006',\n",
        "                  'gni_pc_m_2007',\n",
        "                  'gni_pc_m_2008',\n",
        "                  'gni_pc_m_2009',\n",
        "                  'gni_pc_m_2010',\n",
        "                  'gni_pc_m_2011',\n",
        "                  'gni_pc_m_2012',\n",
        "                  'gni_pc_m_2013',\n",
        "                  'gni_pc_m_2014',\n",
        "                  'gni_pc_m_2015',\n",
        "                  'gni_pc_m_2016',\n",
        "                  'gni_pc_m_2017',\n",
        "                  'gni_pc_m_2018',\n",
        "                  'gni_pc_m_2019',\n",
        "                  'gni_pc_m_2020'], axis=1)"
      ],
      "metadata": {
        "id": "mJ65d61jqSDJ"
      },
      "execution_count": 62,
      "outputs": []
    },
    {
      "cell_type": "code",
      "source": [
        "# Limpiamos columnas que no necesitamos \n",
        "#     inequality-adjusted human development index             = ihdi \n",
        "#     índice de desarrollo humano ajustado por la desigualdad = idhd\n",
        "df_edu = df_edu.drop(['ihdi_2010',\n",
        "                  'ihdi_2011',\n",
        "                  'ihdi_2012',\n",
        "                  'ihdi_2013',\n",
        "                  'ihdi_2014',\n",
        "                  'ihdi_2015',\n",
        "                  'ihdi_2016',\n",
        "                  'ihdi_2017',\n",
        "                  'ihdi_2018',\n",
        "                  'ihdi_2019',\n",
        "                  'ihdi_2020'], axis=1)"
      ],
      "metadata": {
        "id": "huBTqumStEGF"
      },
      "execution_count": 63,
      "outputs": []
    },
    {
      "cell_type": "code",
      "source": [
        "# Limpiamos columnas que no necesitamos \n",
        "#     coefficient of human inequality   = coef_ineq \n",
        "#     coeficiente de desigualdad humana = coef_desi\n",
        "df_edu = df_edu.drop(['coef_ineq_2010',\n",
        "                  'coef_ineq_2011',\n",
        "                  'coef_ineq_2012',\n",
        "                  'coef_ineq_2013',\n",
        "                  'coef_ineq_2014',\n",
        "                  'coef_ineq_2015',\n",
        "                  'coef_ineq_2016',\n",
        "                  'coef_ineq_2017',\n",
        "                  'coef_ineq_2018',\n",
        "                  'coef_ineq_2019',\n",
        "                  'coef_ineq_2020'], axis=1)"
      ],
      "metadata": {
        "id": "K115eNLCssEE"
      },
      "execution_count": 64,
      "outputs": []
    },
    {
      "cell_type": "code",
      "source": [
        "# Limpiamos columnas que no necesitamos \n",
        "#     overall loss (%)  = loss\n",
        "#     pérdida total (%) = perd\n",
        "df_edu = df_edu.drop(['loss_2010',\n",
        "                  'loss_2011',\n",
        "                  'loss_2012',\n",
        "                  'loss_2013',\n",
        "                  'loss_2014',\n",
        "                  'loss_2015',\n",
        "                  'loss_2016',\n",
        "                  'loss_2017',\n",
        "                  'loss_2018',\n",
        "                  'loss_2019',\n",
        "                  'loss_2020'], axis=1)"
      ],
      "metadata": {
        "id": "LXor_r8ZsQez"
      },
      "execution_count": 65,
      "outputs": []
    },
    {
      "cell_type": "code",
      "source": [
        "# Limpiamos columnas que no necesitamos \n",
        "#     inequality in life expectancy       = ineq_le \n",
        "#     desigualdad en la esperanza de vida = desi_ev\n",
        "df_edu = df_edu.drop(['ineq_le_2010',\n",
        "                  'ineq_le_2011',\n",
        "                  'ineq_le_2012',\n",
        "                  'ineq_le_2013',\n",
        "                  'ineq_le_2014',\n",
        "                  'ineq_le_2015',\n",
        "                  'ineq_le_2016',\n",
        "                  'ineq_le_2017',\n",
        "                  'ineq_le_2018',\n",
        "                  'ineq_le_2019',\n",
        "                  'ineq_le_2020'], axis=1)"
      ],
      "metadata": {
        "id": "K035j4-Yrt00"
      },
      "execution_count": 66,
      "outputs": []
    },
    {
      "cell_type": "code",
      "source": [
        "# Limpiamos columnas que no necesitamos \n",
        "#     inequality in eduation      = ineq_edu \n",
        "#     desigualdad en la educación = desi_edu\n",
        "df_edu = df_edu.drop(['ineq_edu_2010',\n",
        "                  'ineq_edu_2011',\n",
        "                  'ineq_edu_2012',\n",
        "                  'ineq_edu_2013',\n",
        "                  'ineq_edu_2014',\n",
        "                  'ineq_edu_2015',\n",
        "                  'ineq_edu_2016',\n",
        "                  'ineq_edu_2017',\n",
        "                  'ineq_edu_2018',\n",
        "                  'ineq_edu_2019',\n",
        "                  'ineq_edu_2020'], axis=1)"
      ],
      "metadata": {
        "id": "waPiBeG5rLLG"
      },
      "execution_count": 67,
      "outputs": []
    },
    {
      "cell_type": "code",
      "source": [
        "# Limpiamos columnas que no necesitamos \n",
        "#     inequality in income    = ineq_inc \n",
        "#     desigualdad de ingresos = desi_ing\n",
        "df_edu = df_edu.drop(['ineq_inc_2010',\n",
        "                  'ineq_inc_2011',\n",
        "                  'ineq_inc_2012',\n",
        "                  'ineq_inc_2013',\n",
        "                  'ineq_inc_2014',\n",
        "                  'ineq_inc_2015',\n",
        "                  'ineq_inc_2016',\n",
        "                  'ineq_inc_2017',\n",
        "                  'ineq_inc_2018',\n",
        "                  'ineq_inc_2019',\n",
        "                  'ineq_inc_2020'], axis=1)"
      ],
      "metadata": {
        "id": "qgegZojdqiwH"
      },
      "execution_count": 68,
      "outputs": []
    },
    {
      "cell_type": "code",
      "source": [
        "# Limpiamos columnas que no necesitamos \n",
        "#     gender inequality index         = gii \n",
        "#     índice de desigualdad de género = idg\n",
        "df_edu = df_edu.drop(['gii_1990',\n",
        "                  'gii_1991',\n",
        "                  'gii_1992',\n",
        "                  'gii_1993',\n",
        "                  'gii_1994',\n",
        "                  'gii_1995',\n",
        "                  'gii_1996',\n",
        "                  'gii_1997',\n",
        "                  'gii_1998',\n",
        "                  'gii_1999',\n",
        "                  'gii_2000',\n",
        "                  'gii_2001',\n",
        "                  'gii_2002',\n",
        "                  'gii_2003',\n",
        "                  'gii_2004',\n",
        "                  'gii_2005',\n",
        "                  'gii_2006',\n",
        "                  'gii_2007',\n",
        "                  'gii_2008',\n",
        "                  'gii_2009',\n",
        "                  'gii_2010',\n",
        "                  'gii_2011',\n",
        "                  'gii_2012',\n",
        "                  'gii_2013',\n",
        "                  'gii_2014',\n",
        "                  'gii_2015',\n",
        "                  'gii_2016',\n",
        "                  'gii_2017',\n",
        "                  'gii_2018',\n",
        "                  'gii_2019',\n",
        "                  'gii_2020'], axis=1)"
      ],
      "metadata": {
        "id": "4Q85WN4wp13x"
      },
      "execution_count": 69,
      "outputs": []
    },
    {
      "cell_type": "code",
      "source": [
        "# Limpiamos columnas que no necesitamos \n",
        "#     maternal mortality ratio (deaths per 100,000 live births)           = mmr \n",
        "#     tasa de mortalidad materna (muertes por cada 100.000 nacidos vivos) = tmm\n",
        "df_edu = df_edu.drop(['mmr_1990',\n",
        "                  'mmr_1991',\n",
        "                  'mmr_1992',\n",
        "                  'mmr_1993',\n",
        "                  'mmr_1994',\n",
        "                  'mmr_1995',\n",
        "                  'mmr_1996',\n",
        "                  'mmr_1997',\n",
        "                  'mmr_1998',\n",
        "                  'mmr_1999',\n",
        "                  'mmr_2000',\n",
        "                  'mmr_2001',\n",
        "                  'mmr_2002',\n",
        "                  'mmr_2003',\n",
        "                  'mmr_2004',\n",
        "                  'mmr_2005',\n",
        "                  'mmr_2006',\n",
        "                  'mmr_2007',\n",
        "                  'mmr_2008',\n",
        "                  'mmr_2009',\n",
        "                  'mmr_2010',\n",
        "                  'mmr_2011',\n",
        "                  'mmr_2012',\n",
        "                  'mmr_2013',\n",
        "                  'mmr_2014',\n",
        "                  'mmr_2015',\n",
        "                  'mmr_2016',\n",
        "                  'mmr_2017',\n",
        "                  'mmr_2018',\n",
        "                  'mmr_2019',\n",
        "                  'mmr_2020'], axis=1)"
      ],
      "metadata": {
        "id": "IJcBFKobos0n"
      },
      "execution_count": 70,
      "outputs": []
    },
    {
      "cell_type": "code",
      "source": [
        "# Limpiamos columnas que no necesitamos \n",
        "#     adolescent birth rate (births per 1,000 women ages 15-19)                         = abr \n",
        "#     tasa de natalidad adolescente (nacimientos por cada 1000 mujeres de 15 a 19 años) = tna\n",
        "df_edu = df_edu.drop(['abr_1990',\n",
        "                  'abr_1991',\n",
        "                  'abr_1992',\n",
        "                  'abr_1993',\n",
        "                  'abr_1994',\n",
        "                  'abr_1995',\n",
        "                  'abr_1996',\n",
        "                  'abr_1997',\n",
        "                  'abr_1998',\n",
        "                  'abr_1999',\n",
        "                  'abr_2000',\n",
        "                  'abr_2001',\n",
        "                  'abr_2002',\n",
        "                  'abr_2003',\n",
        "                  'abr_2004',\n",
        "                  'abr_2005',\n",
        "                  'abr_2006',\n",
        "                  'abr_2007',\n",
        "                  'abr_2008',\n",
        "                  'abr_2009',\n",
        "                  'abr_2010',\n",
        "                  'abr_2011',\n",
        "                  'abr_2012',\n",
        "                  'abr_2013',\n",
        "                  'abr_2014',\n",
        "                  'abr_2015',\n",
        "                  'abr_2016',\n",
        "                  'abr_2017',\n",
        "                  'abr_2018',\n",
        "                  'abr_2019',\n",
        "                  'abr_2020'], axis=1)"
      ],
      "metadata": {
        "id": "pW86MnFboG8f"
      },
      "execution_count": 71,
      "outputs": []
    },
    {
      "cell_type": "code",
      "source": [
        "# Limpiamos columnas que no necesitamos \n",
        "#     population with at least some secondary education, female (% ages 25 and older)     = se_f \n",
        "#     población con al menos algo de educación secundaria, femenino (% de 25 años y más)  = es_f\n",
        "df_edu = df_edu.drop(['se_f_1990',\n",
        "                  'se_f_1991',\n",
        "                  'se_f_1992',\n",
        "                  'se_f_1993',\n",
        "                  'se_f_1994',\n",
        "                  'se_f_1995',\n",
        "                  'se_f_1996',\n",
        "                  'se_f_1997',\n",
        "                  'se_f_1998',\n",
        "                  'se_f_1999',\n",
        "                  'se_f_2000',\n",
        "                  'se_f_2001',\n",
        "                  'se_f_2002',\n",
        "                  'se_f_2003',\n",
        "                  'se_f_2004',\n",
        "                  'se_f_2005',\n",
        "                  'se_f_2006',\n",
        "                  'se_f_2007',\n",
        "                  'se_f_2008',\n",
        "                  'se_f_2009',\n",
        "                  'se_f_2010',\n",
        "                  'se_f_2011',\n",
        "                  'se_f_2012',\n",
        "                  'se_f_2013',\n",
        "                  'se_f_2014',\n",
        "                  'se_f_2015',\n",
        "                  'se_f_2016',\n",
        "                  'se_f_2017',\n",
        "                  'se_f_2018',\n",
        "                  'se_f_2019',\n",
        "                  'se_f_2020'], axis=1)"
      ],
      "metadata": {
        "id": "P_sWs931nbGj"
      },
      "execution_count": 72,
      "outputs": []
    },
    {
      "cell_type": "code",
      "source": [
        "# Limpiamos columnas que no necesitamos \n",
        "#     population with at least some secondary education, male (% ages 25 and older)     = se_m \n",
        "#     población con al menos algo de educación secundaria, masculina (% de 25 años y más) = es_m\n",
        "df_edu = df_edu.drop(['se_m_1990',\n",
        "                  'se_m_1991',\n",
        "                  'se_m_1992',\n",
        "                  'se_m_1993',\n",
        "                  'se_m_1994',\n",
        "                  'se_m_1995',\n",
        "                  'se_m_1996',\n",
        "                  'se_m_1997',\n",
        "                  'se_m_1998',\n",
        "                  'se_m_1999',\n",
        "                  'se_m_2000',\n",
        "                  'se_m_2001',\n",
        "                  'se_m_2002',\n",
        "                  'se_m_2003',\n",
        "                  'se_m_2004',\n",
        "                  'se_m_2005',\n",
        "                  'se_m_2006',\n",
        "                  'se_m_2007',\n",
        "                  'se_m_2008',\n",
        "                  'se_m_2009',\n",
        "                  'se_m_2010',\n",
        "                  'se_m_2011',\n",
        "                  'se_m_2012',\n",
        "                  'se_m_2013',\n",
        "                  'se_m_2014',\n",
        "                  'se_m_2015',\n",
        "                  'se_m_2016',\n",
        "                  'se_m_2017',\n",
        "                  'se_m_2018',\n",
        "                  'se_m_2019',\n",
        "                  'se_m_2020'], axis=1)"
      ],
      "metadata": {
        "id": "4HshW0V6m4Ir"
      },
      "execution_count": 73,
      "outputs": []
    },
    {
      "cell_type": "code",
      "source": [
        "# Limpiamos columnas que no necesitamos \n",
        "#     share of seats in parliament, female (% held by women)                  = pr_f \n",
        "#     porcentaje de escaños en el parlamento, femenino (% ocupado por mujeres) = ec_f\n",
        "df_edu = df_edu.drop(['pr_f_1990',\n",
        "                  'pr_f_1991',\n",
        "                  'pr_f_1992',\n",
        "                  'pr_f_1993',\n",
        "                  'pr_f_1994',\n",
        "                  'pr_f_1995',\n",
        "                  'pr_f_1996',\n",
        "                  'pr_f_1997',\n",
        "                  'pr_f_1998',\n",
        "                  'pr_f_1999',\n",
        "                  'pr_f_2000',\n",
        "                  'pr_f_2001',\n",
        "                  'pr_f_2002',\n",
        "                  'pr_f_2003',\n",
        "                  'pr_f_2004',\n",
        "                  'pr_f_2005',\n",
        "                  'pr_f_2006',\n",
        "                  'pr_f_2007',\n",
        "                  'pr_f_2008',\n",
        "                  'pr_f_2009',\n",
        "                  'pr_f_2010',\n",
        "                  'pr_f_2011',\n",
        "                  'pr_f_2012',\n",
        "                  'pr_f_2013',\n",
        "                  'pr_f_2014',\n",
        "                  'pr_f_2015',\n",
        "                  'pr_f_2016',\n",
        "                  'pr_f_2017',\n",
        "                  'pr_f_2018',\n",
        "                  'pr_f_2019',\n",
        "                  'pr_f_2020'], axis=1)"
      ],
      "metadata": {
        "id": "gcmjRvsokpxn"
      },
      "execution_count": 74,
      "outputs": []
    },
    {
      "cell_type": "code",
      "source": [
        "# Limpiamos columnas que no necesitamos \n",
        "#     share of seats in parliament, male (% held by men)                      = pr_m \n",
        "#     porcentaje de escaños en el parlamento, hombres (% ocupado por hombres) = ec_m\n",
        "df_edu = df_edu.drop(['pr_m_1990',\n",
        "                  'pr_m_1991',\n",
        "                  'pr_m_1992',\n",
        "                  'pr_m_1993',\n",
        "                  'pr_m_1994',\n",
        "                  'pr_m_1995',\n",
        "                  'pr_m_1996',\n",
        "                  'pr_m_1997',\n",
        "                  'pr_m_1998',\n",
        "                  'pr_m_1999',\n",
        "                  'pr_m_2000',\n",
        "                  'pr_m_2001',\n",
        "                  'pr_m_2002',\n",
        "                  'pr_m_2003',\n",
        "                  'pr_m_2004',\n",
        "                  'pr_m_2005',\n",
        "                  'pr_m_2006',\n",
        "                  'pr_m_2007',\n",
        "                  'pr_m_2008',\n",
        "                  'pr_m_2009',\n",
        "                  'pr_m_2010',\n",
        "                  'pr_m_2011',\n",
        "                  'pr_m_2012',\n",
        "                  'pr_m_2013',\n",
        "                  'pr_m_2014',\n",
        "                  'pr_m_2015',\n",
        "                  'pr_m_2016',\n",
        "                  'pr_m_2017',\n",
        "                  'pr_m_2018',\n",
        "                  'pr_m_2019',\n",
        "                  'pr_m_2020'], axis=1)"
      ],
      "metadata": {
        "id": "1Ba93InejQpe"
      },
      "execution_count": 75,
      "outputs": []
    },
    {
      "cell_type": "code",
      "source": [
        "# Limpiamos columnas que no necesitamos \n",
        "#     labour force participation rate, female (% ages 15 and older)               = lfpr_f \n",
        "#     tasa de participación en la fuerza laboral, femenino (% mayores de 15 años) = tpfl_f\n",
        "df_edu = df_edu.drop(['lfpr_f_1990',\n",
        "                  'lfpr_f_1991',\n",
        "                  'lfpr_f_1992',\n",
        "                  'lfpr_f_1993',\n",
        "                  'lfpr_f_1994',\n",
        "                  'lfpr_f_1995',\n",
        "                  'lfpr_f_1996',\n",
        "                  'lfpr_f_1997',\n",
        "                  'lfpr_f_1998',\n",
        "                  'lfpr_f_1999',\n",
        "                  'lfpr_f_2000',\n",
        "                  'lfpr_f_2001',\n",
        "                  'lfpr_f_2002',\n",
        "                  'lfpr_f_2003',\n",
        "                  'lfpr_f_2004',\n",
        "                  'lfpr_f_2005',\n",
        "                  'lfpr_f_2006',\n",
        "                  'lfpr_f_2007',\n",
        "                  'lfpr_f_2008',\n",
        "                  'lfpr_f_2009',\n",
        "                  'lfpr_f_2010',\n",
        "                  'lfpr_f_2011',\n",
        "                  'lfpr_f_2012',\n",
        "                  'lfpr_f_2013',\n",
        "                  'lfpr_f_2014',\n",
        "                  'lfpr_f_2015',\n",
        "                  'lfpr_f_2016',\n",
        "                  'lfpr_f_2017',\n",
        "                  'lfpr_f_2018',\n",
        "                  'lfpr_f_2019',\n",
        "                  'lfpr_f_2020'], axis=1)"
      ],
      "metadata": {
        "id": "q1V3Y0tbiP2c"
      },
      "execution_count": 76,
      "outputs": []
    },
    {
      "cell_type": "code",
      "source": [
        "# Limpiamos columnas que no necesitamos \n",
        "#     labour force participation rate, male (% ages 15 and older)                   = lfpr_m \n",
        "#     tasa de participación en la fuerza laboral, masculina (% mayores de 15 años)  = tpfl_m\n",
        "df_edu = df_edu.drop(['lfpr_m_1990',\n",
        "                  'lfpr_m_1991',\n",
        "                  'lfpr_m_1992',\n",
        "                  'lfpr_m_1993',\n",
        "                  'lfpr_m_1994',\n",
        "                  'lfpr_m_1995',\n",
        "                  'lfpr_m_1996',\n",
        "                  'lfpr_m_1997',\n",
        "                  'lfpr_m_1998',\n",
        "                  'lfpr_m_1999',\n",
        "                  'lfpr_m_2000',\n",
        "                  'lfpr_m_2001',\n",
        "                  'lfpr_m_2002',\n",
        "                  'lfpr_m_2003',\n",
        "                  'lfpr_m_2004',\n",
        "                  'lfpr_m_2005',\n",
        "                  'lfpr_m_2006',\n",
        "                  'lfpr_m_2007',\n",
        "                  'lfpr_m_2008',\n",
        "                  'lfpr_m_2009',\n",
        "                  'lfpr_m_2010',\n",
        "                  'lfpr_m_2011',\n",
        "                  'lfpr_m_2012',\n",
        "                  'lfpr_m_2013',\n",
        "                  'lfpr_m_2014',\n",
        "                  'lfpr_m_2015',\n",
        "                  'lfpr_m_2016',\n",
        "                  'lfpr_m_2017',\n",
        "                  'lfpr_m_2018',\n",
        "                  'lfpr_m_2019',\n",
        "                  'lfpr_m_2020'], axis=1)"
      ],
      "metadata": {
        "id": "c-rtLzamhY8t"
      },
      "execution_count": 77,
      "outputs": []
    },
    {
      "cell_type": "markdown",
      "source": [
        "No hace falta limpiar el siguiente indicador  \n",
        "     difference from hdi rank    = rankdiff_hdi_phdi   \n",
        "     diferencia del rango de hdi = rangdife_idh  \n",
        "No hace falta limpiarlo, porque solo aparece el 2021  "
      ],
      "metadata": {
        "id": "QHT6opkPB1aU"
      }
    },
    {
      "cell_type": "code",
      "source": [
        "# Limpiamos columnas que no necesitamos \n",
        "#     planetary pressures–adjusted human development index            = phdi \n",
        "#     índice de desarrollo humano ajustado por presiones planetarias  = idhp\n",
        "df_edu = df_edu.drop(['phdi_1990',\n",
        "                  'phdi_1991',\n",
        "                  'phdi_1992',\n",
        "                  'phdi_1993',\n",
        "                  'phdi_1994',\n",
        "                  'phdi_1995',\n",
        "                  'phdi_1996',\n",
        "                  'phdi_1997',\n",
        "                  'phdi_1998',\n",
        "                  'phdi_1999',\n",
        "                  'phdi_2000',\n",
        "                  'phdi_2001',\n",
        "                  'phdi_2002',\n",
        "                  'phdi_2003',\n",
        "                  'phdi_2004',\n",
        "                  'phdi_2005',\n",
        "                  'phdi_2006',\n",
        "                  'phdi_2007',\n",
        "                  'phdi_2008',\n",
        "                  'phdi_2009',\n",
        "                  'phdi_2010',\n",
        "                  'phdi_2011',\n",
        "                  'phdi_2012',\n",
        "                  'phdi_2013',\n",
        "                  'phdi_2014',\n",
        "                  'phdi_2015',\n",
        "                  'phdi_2016',\n",
        "                  'phdi_2017',\n",
        "                  'phdi_2018',\n",
        "                  'phdi_2019',\n",
        "                  'phdi_2020'], axis=1)"
      ],
      "metadata": {
        "id": "OFTNC8Wdenq9"
      },
      "execution_count": 78,
      "outputs": []
    },
    {
      "cell_type": "code",
      "source": [
        "# Limpiamos columnas que no necesitamos \n",
        "#     difference from hdi value (%) = diff_hdi_phdi \n",
        "#     diferencia del valor hdi (%)  = dife_idh_val\n",
        "df_edu = df_edu.drop(['diff_hdi_phdi_1990',\n",
        "                  'diff_hdi_phdi_1991',\n",
        "                  'diff_hdi_phdi_1992',\n",
        "                  'diff_hdi_phdi_1993',\n",
        "                  'diff_hdi_phdi_1994',\n",
        "                  'diff_hdi_phdi_1995',\n",
        "                  'diff_hdi_phdi_1996',\n",
        "                  'diff_hdi_phdi_1997',\n",
        "                  'diff_hdi_phdi_1998',\n",
        "                  'diff_hdi_phdi_1999',\n",
        "                  'diff_hdi_phdi_2000',\n",
        "                  'diff_hdi_phdi_2001',\n",
        "                  'diff_hdi_phdi_2002',\n",
        "                  'diff_hdi_phdi_2003',\n",
        "                  'diff_hdi_phdi_2004',\n",
        "                  'diff_hdi_phdi_2005',\n",
        "                  'diff_hdi_phdi_2006',\n",
        "                  'diff_hdi_phdi_2007',\n",
        "                  'diff_hdi_phdi_2008',\n",
        "                  'diff_hdi_phdi_2009',\n",
        "                  'diff_hdi_phdi_2010',\n",
        "                  'diff_hdi_phdi_2011',\n",
        "                  'diff_hdi_phdi_2012',\n",
        "                  'diff_hdi_phdi_2013',\n",
        "                  'diff_hdi_phdi_2014',\n",
        "                  'diff_hdi_phdi_2015',\n",
        "                  'diff_hdi_phdi_2016',\n",
        "                  'diff_hdi_phdi_2017',\n",
        "                  'diff_hdi_phdi_2018',\n",
        "                  'diff_hdi_phdi_2019',\n",
        "                  'diff_hdi_phdi_2020'], axis=1)"
      ],
      "metadata": {
        "id": "RvqnQOwzd3IU"
      },
      "execution_count": 79,
      "outputs": []
    },
    {
      "cell_type": "code",
      "source": [
        "# Limpiamos columnas que no necesitamos \n",
        "#     carbon dioxide emissions per capita (production in tonnes)            = co2_prod \n",
        "#     emisiones de dióxido de carbono per cápita (producción en toneladas)  = emis_co2\n",
        "df_edu = df_edu.drop(['co2_prod_1990',\n",
        "                  'co2_prod_1991',\n",
        "                  'co2_prod_1992',\n",
        "                  'co2_prod_1993',\n",
        "                  'co2_prod_1994',\n",
        "                  'co2_prod_1995',\n",
        "                  'co2_prod_1996',\n",
        "                  'co2_prod_1997',\n",
        "                  'co2_prod_1998',\n",
        "                  'co2_prod_1999',\n",
        "                  'co2_prod_2000',\n",
        "                  'co2_prod_2001',\n",
        "                  'co2_prod_2002',\n",
        "                  'co2_prod_2003',\n",
        "                  'co2_prod_2004',\n",
        "                  'co2_prod_2005',\n",
        "                  'co2_prod_2006',\n",
        "                  'co2_prod_2007',\n",
        "                  'co2_prod_2008',\n",
        "                  'co2_prod_2009',\n",
        "                  'co2_prod_2010',\n",
        "                  'co2_prod_2011',\n",
        "                  'co2_prod_2012',\n",
        "                  'co2_prod_2013',\n",
        "                  'co2_prod_2014',\n",
        "                  'co2_prod_2015',\n",
        "                  'co2_prod_2016',\n",
        "                  'co2_prod_2017',\n",
        "                  'co2_prod_2018',\n",
        "                  'co2_prod_2019',\n",
        "                  'co2_prod_2020'], axis=1)"
      ],
      "metadata": {
        "id": "ZaRYnhlVcu3X"
      },
      "execution_count": 80,
      "outputs": []
    },
    {
      "cell_type": "code",
      "source": [
        "# Limpiamos columnas que no necesitamos \n",
        "#     material footprint per capita (tonnes)  = mf \n",
        "#     huella material per cápita (toneladas)  = hm\n",
        "df_edu = df_edu.drop(['mf_1990',\n",
        "                  'mf_1991',\n",
        "                  'mf_1992',\n",
        "                  'mf_1993',\n",
        "                  'mf_1994',\n",
        "                  'mf_1995',\n",
        "                  'mf_1996',\n",
        "                  'mf_1997',\n",
        "                  'mf_1998',\n",
        "                  'mf_1999',\n",
        "                  'mf_2000',\n",
        "                  'mf_2001',\n",
        "                  'mf_2002',\n",
        "                  'mf_2003',\n",
        "                  'mf_2004',\n",
        "                  'mf_2005',\n",
        "                  'mf_2006',\n",
        "                  'mf_2007',\n",
        "                  'mf_2008',\n",
        "                  'mf_2009',\n",
        "                  'mf_2010',\n",
        "                  'mf_2011',\n",
        "                  'mf_2012',\n",
        "                  'mf_2013',\n",
        "                  'mf_2014',\n",
        "                  'mf_2015',\n",
        "                  'mf_2016',\n",
        "                  'mf_2017',\n",
        "                  'mf_2018',\n",
        "                  'mf_2019',\n",
        "                  'mf_2020'], axis=1)"
      ],
      "metadata": {
        "id": "lQMFX7oharDv"
      },
      "execution_count": 81,
      "outputs": []
    },
    {
      "cell_type": "code",
      "source": [
        "# Comprobamos el DataFrame df_edu\n",
        "for column in df_edu:\n",
        "  print(column)"
      ],
      "metadata": {
        "colab": {
          "base_uri": "https://localhost:8080/"
        },
        "id": "uZApwwO8Vwuf",
        "outputId": "25b615d1-db15-4018-9a01-a0a3b771cece"
      },
      "execution_count": 82,
      "outputs": [
        {
          "output_type": "stream",
          "name": "stdout",
          "text": [
            "iso3\n",
            "country\n",
            "hdicode\n",
            "region\n",
            "hdi_rank_2021\n",
            "hdi_2021\n",
            "le_2021\n",
            "eys_2021\n",
            "mys_2021\n",
            "gnipc_2021\n",
            "gdi_group_2021\n",
            "gdi_2021\n",
            "hdi_f_2021\n",
            "le_f_2021\n",
            "eys_f_2021\n",
            "mys_f_2021\n",
            "gni_pc_f_2021\n",
            "hdi_m_2021\n",
            "le_m_2021\n",
            "eys_m_2021\n",
            "mys_m_2021\n",
            "gni_pc_m_2021\n",
            "ihdi_2021\n",
            "coef_ineq_2021\n",
            "loss_2021\n",
            "ineq_le_2021\n",
            "ineq_edu_2021\n",
            "ineq_inc_2021\n",
            "gii_rank_2021\n",
            "gii_2021\n",
            "mmr_2021\n",
            "abr_2021\n",
            "se_f_2021\n",
            "se_m_2021\n",
            "pr_f_2021\n",
            "pr_m_2021\n",
            "lfpr_f_2021\n",
            "lfpr_m_2021\n",
            "rankdiff_hdi_phdi_2021\n",
            "phdi_2021\n",
            "diff_hdi_phdi_2021\n",
            "co2_prod_2021\n",
            "mf_2021\n"
          ]
        }
      ]
    },
    {
      "cell_type": "markdown",
      "source": [
        "De toda esta brutalidad de campos e indicadores, nos interesa:  \n",
        "  * código país  \n",
        "  * pae (promedio años de escolaridad)  \n",
        "\n",
        "  El resto de campos los eliminamos del df.  "
      ],
      "metadata": {
        "id": "X4KMSSB8KH70"
      }
    },
    {
      "cell_type": "code",
      "source": [
        "# Renombramos columnas para hacer más manejable el df\n",
        "#     1.  iso3                    ->  codigo_pais                     (código país)\n",
        "#     2.  country                 ->  pais                            (país)\n",
        "#     3.  hdicode                 ->  codigo_idh                      (código índice de desarrollo humano)\n",
        "#     4.  region                  ->  region                          (región)\n",
        "#     5.  hdi_rank_2021           ->  rango_idh                       (rango índice de desarrollo humano)\n",
        "#     6.  hdi_2021                ->  idh                             (índice de desarrollo humano)\n",
        "#     7.  le_2021                 ->  ev                              (esperanza de vida -años-)\n",
        "#     8.  eys_2021                ->  aee                             (años esperados de escolaridad)\n",
        "#     9.  mys_2021                ->  pae                             (promnedio años de escolaridad)\n",
        "#     10. gnipc_2021              ->  inbpc                           (ingreso nacional bruto per cápita)\n",
        "#     11. gdi_group_2021          ->  grupo_idg                       (grupo índice de desarrollo de género)      \n",
        "#     12. gdi_2021                ->  idg                             (índice de desarrollo de género)\n",
        "#     13. hdi_f_2021              ->  idh_f                           (idh femenino)\n",
        "#     14. le_f_2021               ->  ev_f                            (esperanza de vida al nacer, femenina -años-)\n",
        "#     15. eys_f_2021              ->  aee_f                           (años esperados de escolaridad, femenino)\n",
        "#     16. mys_f_2021              ->  pae_f                           (promedio de años de escolaridad, masculino)\n",
        "#     17. gni_pc_f_2021           ->  inb_pc_f                        (ingreso nacional bruto per cápita, femenino)\n",
        "#     18. hdi_m_2021              ->  idh_m                           (idh masculino)\n",
        "#     19. le_m_2021               ->  ev_m                            (esperanza de vida al nacer, masculina -años-)\n",
        "#     20. eys_m_2021              ->  aee_m                           (años esperados de escolaridad, masculino)\n",
        "#     21. mys_m_2021              ->  pae_m                           (promedio de años de escolaridad, masculino)\n",
        "#     22. gni_pc_m_2021           ->  inb_pc_m                        (ingreso nacional bruto per cápita, masculino)\n",
        "#     23. ihdi_2021               ->  idhd                            (índice de desarrollo humano ajustado por la desigualdad)\n",
        "#     24. coef_ineq_2021          ->  coef_desi                       (coeficiente de desigualdad humana)\n",
        "#     25. loss_2021               ->  perd                            (pérdida total -%-)\n",
        "#     26. ineq_le_2021            ->  desi_ev                         (desigualdad en la esperanza de vida)\n",
        "#     27. ineq_edu_2021           ->  desi_edu                        (desigualdad en la educación)\n",
        "#     28. ineq_inc_2021           ->  desi_ing                        (desigualdad de ingresos)\n",
        "#     29. gii_rank_2021           ->  rango_idg                       (rango índice de desigualdad de género)\n",
        "#     30. gii_2021                ->  idg                             (índice de desigualdad de género)\n",
        "#     31. mmr_2021                ->  tmm                             (tasa de mortalidad materna -muertes por cada 100.000 nacidos vivos-)\n",
        "#     32. abr_2021                ->  tna                             (tasa de natalidad adolescente -nacimientos por cada 1000 mujeres de 15 a 19 años-)\n",
        "#     33. se_f_2021               ->  es_f                            (población con al menos algo de educación secundaria, femenina -% de 25 años y más-)\n",
        "#     34. se_m_2021               ->  es_m                            (población con al menos algo de educación secundaria, masculina -% de 25 años y más-)\n",
        "#     35. pr_f_2021               ->  ec_f                            (porcentaje de escaños en el parlamento, femenino -% ocupado por mujeres-)\n",
        "#     36. pr_m_2021               ->  ec_m                            (porcentaje de escaños en el parlamento, masculino -% ocupado por hombres-)\n",
        "#     37. lfpr_f_2021             ->  tpfl_f                          (tasa de participación en la fuerza laboral, femenina -% mayores de 15 años-)\n",
        "#     38. lfpr_m_2021             ->  tpfl_m                          (tasa de participación en la fuerza laboral, masculina -% mayores de 15 años-)                     \n",
        "#     39. rankdiff_hdi_phdi_2021  ->  rangdife_idh                    (diferencia del rango de hdi)\n",
        "#     40. phdi_2021               ->  idhp                            (índice de desarrollo humano ajustado por presiones planetarias)\n",
        "#     41. diff_hdi_phdi_2021      ->  dife_idh_val                    (diferencia del valor hdi -%-)\n",
        "#     42. co2_prod_2021           ->  emis_co2                        (emisiones de dióxido de carbono per cápita -producción en toneladas-)\n",
        "#     43. mf_2021                 ->  hm                              (huella material per cápita -toneladas-)\n",
        "df_edu = df_edu.set_axis(['codigo_pais', \n",
        "                      'pais',\n",
        "                      'codigo_idh',\n",
        "                      'region',\n",
        "                      'rango_idh',\n",
        "                      'idh',\n",
        "                      'ev',\n",
        "                      'aee',\n",
        "                      'pae',\n",
        "                      'inbpc',\n",
        "                      'grupo_idg',\n",
        "                      'idg',\n",
        "                      'idh_f',\n",
        "                      'ev_f',\n",
        "                      'aee_f',\n",
        "                      'pae_f',\n",
        "                      'inb_pc_f',\n",
        "                      'idh_m',\n",
        "                      'ev_m',\n",
        "                      'aee_m',\n",
        "                      'pae_m',\n",
        "                      'inb_pc_m',\n",
        "                      'idhd',\n",
        "                      'coef_desi',\n",
        "                      'perd',\n",
        "                      'desi_ev',\n",
        "                      'desi_edu',\n",
        "                      'desi_ing',\n",
        "                      'rango_idg',\n",
        "                      'idg',\n",
        "                      'tmm',\n",
        "                      'tna',\n",
        "                      'es_f',\n",
        "                      'es_m',\n",
        "                      'ec_f',\n",
        "                      'ec_m',\n",
        "                      'tpfl_f',\n",
        "                      'tpfl_m',\n",
        "                      'rangdife_idh',\n",
        "                      'idhp',\n",
        "                      'dife_idh_val',\n",
        "                      'emis_co2',\n",
        "                      'hm'], axis=1)"
      ],
      "metadata": {
        "id": "4CW2ZT3Yt5U6"
      },
      "execution_count": 83,
      "outputs": []
    },
    {
      "cell_type": "code",
      "source": [
        "# Limpiamos columnas que no necesitamos \n",
        "df_edu = df_edu.drop(['pais',\n",
        "                      'codigo_idh',\n",
        "                      'region',\n",
        "                      'rango_idh',\n",
        "                      'idh',\n",
        "                      'ev',\n",
        "                      'aee',\n",
        "                      'inbpc',\n",
        "                      'grupo_idg',\n",
        "                      'idg',\n",
        "                      'idh_f',\n",
        "                      'ev_f',\n",
        "                      'aee_f',\n",
        "                      'pae_f',\n",
        "                      'inb_pc_f',\n",
        "                      'idh_m',\n",
        "                      'ev_m',\n",
        "                      'aee_m',\n",
        "                      'pae_m',\n",
        "                      'inb_pc_m',\n",
        "                      'idhd',\n",
        "                      'coef_desi',\n",
        "                      'perd',\n",
        "                      'desi_ev',\n",
        "                      'desi_edu',\n",
        "                      'desi_ing',\n",
        "                      'rango_idg',\n",
        "                      'idg',\n",
        "                      'tmm',\n",
        "                      'tna',\n",
        "                      'es_f',\n",
        "                      'es_m',\n",
        "                      'ec_f',\n",
        "                      'ec_m',\n",
        "                      'tpfl_f',\n",
        "                      'tpfl_m',\n",
        "                      'rangdife_idh',\n",
        "                      'idhp',\n",
        "                      'dife_idh_val',\n",
        "                      'emis_co2',\n",
        "                      'hm'], axis=1)"
      ],
      "metadata": {
        "id": "r1bgl5_nLNBZ"
      },
      "execution_count": 86,
      "outputs": []
    },
    {
      "cell_type": "code",
      "source": [
        "# Volvemos a comprobar el DataFrame df_edu\n",
        "for column in df_edu:\n",
        "  print(column)"
      ],
      "metadata": {
        "colab": {
          "base_uri": "https://localhost:8080/"
        },
        "id": "yhb9A40Z88y4",
        "outputId": "6d640a17-3c9a-4a90-c950-cd6815d90ce7"
      },
      "execution_count": 87,
      "outputs": [
        {
          "output_type": "stream",
          "name": "stdout",
          "text": [
            "codigo_pais\n",
            "pae\n"
          ]
        }
      ]
    },
    {
      "cell_type": "code",
      "source": [
        "# Comprobamos el DataFrame df_edu\n",
        "df_edu.info"
      ],
      "metadata": {
        "colab": {
          "base_uri": "https://localhost:8080/"
        },
        "id": "rOssAHnFMUw4",
        "outputId": "cd3954de-82f2-49aa-834b-b7f7570821ac"
      },
      "execution_count": 89,
      "outputs": [
        {
          "output_type": "execute_result",
          "data": {
            "text/plain": [
              "<bound method DataFrame.info of     codigo_pais        pae\n",
              "0           AFG   2.985070\n",
              "1           AGO   5.417391\n",
              "2           ALB  11.286455\n",
              "3           AND  10.555120\n",
              "4           ARE  12.694030\n",
              "..          ...        ...\n",
              "201     ZZG.ECA  10.553922\n",
              "202     ZZH.LAC   8.997700\n",
              "203      ZZI.SA   6.710321\n",
              "204     ZZJ.SSA   6.001639\n",
              "205   ZZK.WORLD   8.617461\n",
              "\n",
              "[206 rows x 2 columns]>"
            ]
          },
          "metadata": {},
          "execution_count": 89
        }
      ]
    },
    {
      "cell_type": "code",
      "source": [
        "# Estandarizamos el código de población (iso3) a minúsculas\n",
        "df_edu['codigo_pais'] = df_edu['codigo_pais'].str.lower()\n",
        "df_edu.info"
      ],
      "metadata": {
        "colab": {
          "base_uri": "https://localhost:8080/"
        },
        "id": "atpJlYVKMeJW",
        "outputId": "65211278-57e8-4b19-e071-929111e2c907"
      },
      "execution_count": 90,
      "outputs": [
        {
          "output_type": "execute_result",
          "data": {
            "text/plain": [
              "<bound method DataFrame.info of     codigo_pais        pae\n",
              "0           afg   2.985070\n",
              "1           ago   5.417391\n",
              "2           alb  11.286455\n",
              "3           and  10.555120\n",
              "4           are  12.694030\n",
              "..          ...        ...\n",
              "201     zzg.eca  10.553922\n",
              "202     zzh.lac   8.997700\n",
              "203      zzi.sa   6.710321\n",
              "204     zzj.ssa   6.001639\n",
              "205   zzk.world   8.617461\n",
              "\n",
              "[206 rows x 2 columns]>"
            ]
          },
          "metadata": {},
          "execution_count": 90
        }
      ]
    },
    {
      "cell_type": "code",
      "source": [
        "# Ahora seleccionamos solo los registros que estén incluidos en nuestro dataset de paises \n",
        "# (ir más abajo a la extracción de datos de paises)\n",
        "df_edu_copy = df_edu[df_edu.codigo_pais.isin(df_pai['codigo_pais'])]\n",
        "df_edu_copy.info"
      ],
      "metadata": {
        "colab": {
          "base_uri": "https://localhost:8080/"
        },
        "id": "50i8jXqNNLn9",
        "outputId": "c76c863a-08d0-411f-aa2c-9403d4b163bd"
      },
      "execution_count": 91,
      "outputs": [
        {
          "output_type": "execute_result",
          "data": {
            "text/plain": [
              "<bound method DataFrame.info of     codigo_pais        pae\n",
              "0           afg   2.985070\n",
              "1           ago   5.417391\n",
              "2           alb  11.286455\n",
              "3           and  10.555120\n",
              "4           are  12.694030\n",
              "..          ...        ...\n",
              "190         wsm  11.403800\n",
              "191         yem   3.200000\n",
              "192         zaf  11.373160\n",
              "193         zmb   7.187091\n",
              "194         zwe   8.710909\n",
              "\n",
              "[193 rows x 2 columns]>"
            ]
          },
          "metadata": {},
          "execution_count": 91
        }
      ]
    },
    {
      "cell_type": "code",
      "source": [
        "# Volcamos la copia del df con el que hemos trabajado en el original y listo.\n",
        "# Ya tenemos el df limpio\n",
        "df_edu = df_edu_copy\n",
        "df_edu.info"
      ],
      "metadata": {
        "colab": {
          "base_uri": "https://localhost:8080/"
        },
        "id": "D9TyhgNxN1x8",
        "outputId": "32c6ffb9-27f2-4cf9-a8f1-ec250c530f69"
      },
      "execution_count": 92,
      "outputs": [
        {
          "output_type": "execute_result",
          "data": {
            "text/plain": [
              "<bound method DataFrame.info of     codigo_pais        pae\n",
              "0           afg   2.985070\n",
              "1           ago   5.417391\n",
              "2           alb  11.286455\n",
              "3           and  10.555120\n",
              "4           are  12.694030\n",
              "..          ...        ...\n",
              "190         wsm  11.403800\n",
              "191         yem   3.200000\n",
              "192         zaf  11.373160\n",
              "193         zmb   7.187091\n",
              "194         zwe   8.710909\n",
              "\n",
              "[193 rows x 2 columns]>"
            ]
          },
          "metadata": {},
          "execution_count": 92
        }
      ]
    },
    {
      "cell_type": "markdown",
      "source": [
        "***Transformación de datos - Desarrollo económico -***"
      ],
      "metadata": {
        "id": "f_IH3p4yN_j-"
      }
    },
    {
      "cell_type": "code",
      "source": [
        "# Comprobamos el DataFrame df_des\n",
        "df_des.info"
      ],
      "metadata": {
        "id": "jt1GRRLlWAb0",
        "colab": {
          "base_uri": "https://localhost:8080/"
        },
        "outputId": "f516eb28-0542-4bd7-9871-37cd9b4489b6"
      },
      "execution_count": 88,
      "outputs": [
        {
          "output_type": "execute_result",
          "data": {
            "text/plain": [
              "<bound method DataFrame.info of       Country Name Country Code  \\\n",
              "0            Aruba          ABW   \n",
              "1            Aruba          ABW   \n",
              "2            Aruba          ABW   \n",
              "3            Aruba          ABW   \n",
              "4            Aruba          ABW   \n",
              "...            ...          ...   \n",
              "64675     Zimbabwe          ZWE   \n",
              "64676     Zimbabwe          ZWE   \n",
              "64677     Zimbabwe          ZWE   \n",
              "64678     Zimbabwe          ZWE   \n",
              "64679     Zimbabwe          ZWE   \n",
              "\n",
              "                                          Indicator Name     Indicator Code  \\\n",
              "0      PPP conversion factor, private consumption (LC...     PA.NUS.PRVT.PP   \n",
              "1      Price level ratio of PPP conversion factor (GD...     PA.NUS.PPPC.RF   \n",
              "2      PPP conversion factor, GDP (LCU per internatio...         PA.NUS.PPP   \n",
              "3        DEC alternative conversion factor (LCU per US$)        PA.NUS.ATLS   \n",
              "4               Terms of trade adjustment (constant LCU)     NY.TTF.GNFS.KN   \n",
              "...                                                  ...                ...   \n",
              "64675  Insurance and financial services (% of service...     BM.GSR.INSF.ZS   \n",
              "64676   Imports of goods and services (BoP, current US$)     BM.GSR.GNFS.CD   \n",
              "64677         Primary income payments (BoP, current US$)     BM.GSR.FCTY.CD   \n",
              "64678  Communications, computer, etc. (% of service i...     BM.GSR.CMCP.ZS   \n",
              "64679                       Trade in services (% of GDP)  BG.GSR.NFSV.GD.ZS   \n",
              "\n",
              "       1960  1961  1962  1963  1964  1965  ...          2011          2012  \\\n",
              "0       NaN   NaN   NaN   NaN   NaN   NaN  ...  1.637763e+00  1.543367e+00   \n",
              "1       NaN   NaN   NaN   NaN   NaN   NaN  ...  7.278998e-01  7.362019e-01   \n",
              "2       NaN   NaN   NaN   NaN   NaN   NaN  ...  1.302941e+00  1.317801e+00   \n",
              "3       NaN   NaN   NaN   NaN   NaN   NaN  ...  1.790000e+00  1.790000e+00   \n",
              "4       NaN   NaN   NaN   NaN   NaN   NaN  ...           NaN           NaN   \n",
              "...     ...   ...   ...   ...   ...   ...  ...           ...           ...   \n",
              "64675   NaN   NaN   NaN   NaN   NaN   NaN  ...           NaN           NaN   \n",
              "64676   NaN   NaN   NaN   NaN   NaN   NaN  ...  9.272501e+09  8.386153e+09   \n",
              "64677   NaN   NaN   NaN   NaN   NaN   NaN  ...  2.555802e+08  2.972022e+08   \n",
              "64678   NaN   NaN   NaN   NaN   NaN   NaN  ...  3.116783e+01  3.151200e+01   \n",
              "64679   NaN   NaN   NaN   NaN   NaN   NaN  ...  1.532937e+01  1.236697e+01   \n",
              "\n",
              "               2013          2014          2015          2016          2017  \\\n",
              "0      1.513201e+00  1.509406e+00  1.527644e+00  1.496794e+00  1.480481e+00   \n",
              "1      7.179559e-01  7.311971e-01  7.610715e-01  7.570082e-01  7.545752e-01   \n",
              "2      1.285141e+00  1.308843e+00  1.362318e+00  1.355045e+00  1.350690e+00   \n",
              "3      1.790000e+00  1.790000e+00  1.790000e+00  1.790000e+00  1.790000e+00   \n",
              "4               NaN           NaN           NaN           NaN           NaN   \n",
              "...             ...           ...           ...           ...           ...   \n",
              "64675           NaN  0.000000e+00  0.000000e+00  0.000000e+00  1.288252e+01   \n",
              "64676  8.601002e+09  8.187004e+09  7.503865e+09  6.426700e+09  6.559418e+09   \n",
              "64677  2.944554e+08  3.443138e+08  3.695732e+08  3.986379e+08  3.915782e+08   \n",
              "64678  3.208911e+01  3.167977e+01  3.894505e+01  4.466696e+01  3.454522e+01   \n",
              "64679  1.178003e+01  1.188213e+01  9.569889e+00  8.080966e+00  6.858633e+00   \n",
              "\n",
              "           2018      2019  2020  \n",
              "0      1.497584  1.533552   NaN  \n",
              "1           NaN       NaN   NaN  \n",
              "2           NaN       NaN   NaN  \n",
              "3      1.790000  1.790000   NaN  \n",
              "4           NaN       NaN   NaN  \n",
              "...         ...       ...   ...  \n",
              "64675       NaN       NaN   NaN  \n",
              "64676       NaN       NaN   NaN  \n",
              "64677       NaN       NaN   NaN  \n",
              "64678       NaN       NaN   NaN  \n",
              "64679       NaN       NaN   NaN  \n",
              "\n",
              "[64680 rows x 65 columns]>"
            ]
          },
          "metadata": {},
          "execution_count": 88
        }
      ]
    },
    {
      "cell_type": "markdown",
      "source": [
        "***Nueva extracción de datos - Desarrollo económico -***  \n",
        "\n",
        "Este datasource no nos proporciona información del año que queremos analizar (2021), por lo tanto, buscamos otro, el cual nos proporcione los datos que necesitamos.  \n",
        "\n",
        "Data source: Kaggle, GDP Growth around the Globe  \n",
        "URL : https://www.kaggle.com/datasets/fuarresvij/gdp-growth-around-the-globe  \n",
        "Autor : L. FARRAS VIJAYA AND 2 COLLABORATORS  \n",
        "Fuente : -  \n",
        "Fichero : API_NY.GDP.MKTP.KD.ZG_DS2_en_csv_v2_4701072.csv"
      ],
      "metadata": {
        "id": "eUZ6tnfa-Inm"
      }
    },
    {
      "cell_type": "code",
      "source": [
        "# Releer el conjunto de datos\n",
        "df_des = pd.read_csv('/content/API_NY.GDP.MKTP.KD.ZG_DS2_en_csv_v2_4701072.csv')            # Educación"
      ],
      "metadata": {
        "id": "EnxvXgULCKXD"
      },
      "execution_count": 93,
      "outputs": []
    },
    {
      "cell_type": "code",
      "source": [
        "# Comprobamos el DataFrame df_des\n",
        "df_des.info"
      ],
      "metadata": {
        "colab": {
          "base_uri": "https://localhost:8080/"
        },
        "id": "rR0ntAIdCRGe",
        "outputId": "c23e47db-290c-45d8-ee0a-5a662fdb124c"
      },
      "execution_count": 94,
      "outputs": [
        {
          "output_type": "execute_result",
          "data": {
            "text/plain": [
              "<bound method DataFrame.info of                     Country Name Country Code         Indicator Name  \\\n",
              "0                          Aruba          ABW  GDP growth (annual %)   \n",
              "1    Africa Eastern and Southern          AFE  GDP growth (annual %)   \n",
              "2                    Afghanistan          AFG  GDP growth (annual %)   \n",
              "3     Africa Western and Central          AFW  GDP growth (annual %)   \n",
              "4                         Angola          AGO  GDP growth (annual %)   \n",
              "..                           ...          ...                    ...   \n",
              "261                       Kosovo          XKX  GDP growth (annual %)   \n",
              "262                  Yemen, Rep.          YEM  GDP growth (annual %)   \n",
              "263                 South Africa          ZAF  GDP growth (annual %)   \n",
              "264                       Zambia          ZMB  GDP growth (annual %)   \n",
              "265                     Zimbabwe          ZWE  GDP growth (annual %)   \n",
              "\n",
              "        Indicator Code  1960      1961      1962      1963       1964  \\\n",
              "0    NY.GDP.MKTP.KD.ZG   NaN       NaN       NaN       NaN        NaN   \n",
              "1    NY.GDP.MKTP.KD.ZG   NaN  0.239594  7.980768  5.164334   4.579952   \n",
              "2    NY.GDP.MKTP.KD.ZG   NaN       NaN       NaN       NaN        NaN   \n",
              "3    NY.GDP.MKTP.KD.ZG   NaN  1.848752  3.770220  7.272440   5.396349   \n",
              "4    NY.GDP.MKTP.KD.ZG   NaN       NaN       NaN       NaN        NaN   \n",
              "..                 ...   ...       ...       ...       ...        ...   \n",
              "261  NY.GDP.MKTP.KD.ZG   NaN       NaN       NaN       NaN        NaN   \n",
              "262  NY.GDP.MKTP.KD.ZG   NaN       NaN       NaN       NaN        NaN   \n",
              "263  NY.GDP.MKTP.KD.ZG   NaN  3.844734  6.177931  7.373709   7.939609   \n",
              "264  NY.GDP.MKTP.KD.ZG   NaN  1.361382 -2.490839  3.272393  12.214048   \n",
              "265  NY.GDP.MKTP.KD.ZG   NaN  6.316157  1.434471  6.244345  -1.106172   \n",
              "\n",
              "          1965  ...      2013      2014       2015      2016      2017  \\\n",
              "0          NaN  ...  6.429817 -0.020479   3.543630  2.116716  5.482371   \n",
              "1     5.327717  ...  4.200209  3.984387   2.952845  2.217017  2.557135   \n",
              "2          NaN  ...  5.600745  2.724543   1.451315  2.260314  2.647003   \n",
              "3     4.049793  ...  6.104192  5.927355   2.745894  0.127844  2.317679   \n",
              "4          NaN  ...  4.950000  4.820000   0.940000 -2.580000 -0.150000   \n",
              "..         ...  ...       ...       ...        ...       ...       ...   \n",
              "261        NaN  ...  5.340908  3.348804   5.916270  5.571757  4.825690   \n",
              "262        NaN  ...  4.823415 -0.188574 -27.994546 -9.375124 -5.071796   \n",
              "263   6.122798  ...  2.485468  1.413826   1.321862  0.664552  1.157947   \n",
              "264  16.647456  ...  5.057232  4.697992   2.920375  3.776679  3.504336   \n",
              "265   4.910571  ...  1.989493  2.376929   1.779873  0.755869  4.709492   \n",
              "\n",
              "         2018      2019       2020      2021  Unnamed: 66  \n",
              "0    1.267218 -2.085600 -22.318948       NaN          NaN  \n",
              "1    2.485244  2.025941  -2.886856  4.303667          NaN  \n",
              "2    1.189228  3.911603  -2.351101       NaN          NaN  \n",
              "3    2.952190  3.202544  -0.897014  3.914799          NaN  \n",
              "4   -1.316312 -0.700000  -5.500000  0.700000          NaN  \n",
              "..        ...       ...        ...       ...          ...  \n",
              "261  3.406631  4.756831  -5.340275  9.127578          NaN  \n",
              "262  0.752448  1.400000  -8.500000 -2.061513          NaN  \n",
              "263  1.487617  0.113054  -6.431975  4.914603          NaN  \n",
              "264  4.034494  1.441306  -2.785055  3.572815          NaN  \n",
              "265  4.824211 -6.144236  -6.248748  5.849420          NaN  \n",
              "\n",
              "[266 rows x 67 columns]>"
            ]
          },
          "metadata": {},
          "execution_count": 94
        }
      ]
    },
    {
      "cell_type": "code",
      "source": [
        "# Volvemos a comprobar el DataFrame df_des\n",
        "for column in df_des:\n",
        "  print(column)"
      ],
      "metadata": {
        "colab": {
          "base_uri": "https://localhost:8080/"
        },
        "id": "jGMUM_YnDxs_",
        "outputId": "9ec471df-0de8-4545-99f5-5626d8383244"
      },
      "execution_count": 95,
      "outputs": [
        {
          "output_type": "stream",
          "name": "stdout",
          "text": [
            "Country Name\n",
            "Country Code\n",
            "Indicator Name\n",
            "Indicator Code\n",
            "1960\n",
            "1961\n",
            "1962\n",
            "1963\n",
            "1964\n",
            "1965\n",
            "1966\n",
            "1967\n",
            "1968\n",
            "1969\n",
            "1970\n",
            "1971\n",
            "1972\n",
            "1973\n",
            "1974\n",
            "1975\n",
            "1976\n",
            "1977\n",
            "1978\n",
            "1979\n",
            "1980\n",
            "1981\n",
            "1982\n",
            "1983\n",
            "1984\n",
            "1985\n",
            "1986\n",
            "1987\n",
            "1988\n",
            "1989\n",
            "1990\n",
            "1991\n",
            "1992\n",
            "1993\n",
            "1994\n",
            "1995\n",
            "1996\n",
            "1997\n",
            "1998\n",
            "1999\n",
            "2000\n",
            "2001\n",
            "2002\n",
            "2003\n",
            "2004\n",
            "2005\n",
            "2006\n",
            "2007\n",
            "2008\n",
            "2009\n",
            "2010\n",
            "2011\n",
            "2012\n",
            "2013\n",
            "2014\n",
            "2015\n",
            "2016\n",
            "2017\n",
            "2018\n",
            "2019\n",
            "2020\n",
            "2021\n",
            "Unnamed: 66\n"
          ]
        }
      ]
    },
    {
      "cell_type": "code",
      "source": [
        "# Limpiamos columnas que no necesitamos \n",
        "df_des = df_des.drop(['Country Name',\n",
        "                  '1960',\n",
        "                  '1961',\n",
        "                  '1962',\n",
        "                  '1963',\n",
        "                  '1964',\n",
        "                  '1965',\n",
        "                  '1966',\n",
        "                  '1967',\n",
        "                  '1968',\n",
        "                  '1969',\n",
        "                  '1970',\n",
        "                  '1971',\n",
        "                  '1972',\n",
        "                  '1973',\n",
        "                  '1974',\n",
        "                  '1975',\n",
        "                  '1976',\n",
        "                  '1977',\n",
        "                  '1978',\n",
        "                  '1979',\n",
        "                  '1980',\n",
        "                  '1981',\n",
        "                  '1982',\n",
        "                  '1983',\n",
        "                  '1984',\n",
        "                  '1985',\n",
        "                  '1986',\n",
        "                  '1987',\n",
        "                  '1988',\n",
        "                  '1989',\n",
        "                  '1990',\n",
        "                  '1991',\n",
        "                  '1992',\n",
        "                  '1993',\n",
        "                  '1994',\n",
        "                  '1995',\n",
        "                  '1996',\n",
        "                  '1997',\n",
        "                  '1998',\n",
        "                  '1999',\n",
        "                  '2000',\n",
        "                  '2001',\n",
        "                  '2002',\n",
        "                  '2003',\n",
        "                  '2004',\n",
        "                  '2005',\n",
        "                  '2006',\n",
        "                  '2007',\n",
        "                  '2008',\n",
        "                  '2009',\n",
        "                  '2010',\n",
        "                  '2011',\n",
        "                  '2012',\n",
        "                  '2013',\n",
        "                  '2014',\n",
        "                  '2015',\n",
        "                  '2016',\n",
        "                  '2017',\n",
        "                  '2018',\n",
        "                  '2019',\n",
        "                  '2020'], axis=1)"
      ],
      "metadata": {
        "id": "DGd4PdCHDhsl"
      },
      "execution_count": 96,
      "outputs": []
    },
    {
      "cell_type": "code",
      "source": [
        "# Volvemos a comprobar el DataFrame df_des\n",
        "for column in df_des:\n",
        "  print(column)"
      ],
      "metadata": {
        "colab": {
          "base_uri": "https://localhost:8080/"
        },
        "id": "6Qz-NitmE8-N",
        "outputId": "85694b33-12d5-44ea-c2eb-383b6b3ba969"
      },
      "execution_count": 102,
      "outputs": [
        {
          "output_type": "stream",
          "name": "stdout",
          "text": [
            "Country Code\n",
            "Indicator Name\n",
            "Indicator Code\n",
            "2021\n",
            "Unnamed: 66\n"
          ]
        }
      ]
    },
    {
      "cell_type": "code",
      "source": [
        "df_des.info"
      ],
      "metadata": {
        "colab": {
          "base_uri": "https://localhost:8080/"
        },
        "id": "AwNyiA6UFIEK",
        "outputId": "dbb3830a-efc7-4c4e-9537-cef88fdddc15"
      },
      "execution_count": 98,
      "outputs": [
        {
          "output_type": "execute_result",
          "data": {
            "text/plain": [
              "<bound method DataFrame.info of     Country Code         Indicator Name     Indicator Code      2021  \\\n",
              "0            ABW  GDP growth (annual %)  NY.GDP.MKTP.KD.ZG       NaN   \n",
              "1            AFE  GDP growth (annual %)  NY.GDP.MKTP.KD.ZG  4.303667   \n",
              "2            AFG  GDP growth (annual %)  NY.GDP.MKTP.KD.ZG       NaN   \n",
              "3            AFW  GDP growth (annual %)  NY.GDP.MKTP.KD.ZG  3.914799   \n",
              "4            AGO  GDP growth (annual %)  NY.GDP.MKTP.KD.ZG  0.700000   \n",
              "..           ...                    ...                ...       ...   \n",
              "261          XKX  GDP growth (annual %)  NY.GDP.MKTP.KD.ZG  9.127578   \n",
              "262          YEM  GDP growth (annual %)  NY.GDP.MKTP.KD.ZG -2.061513   \n",
              "263          ZAF  GDP growth (annual %)  NY.GDP.MKTP.KD.ZG  4.914603   \n",
              "264          ZMB  GDP growth (annual %)  NY.GDP.MKTP.KD.ZG  3.572815   \n",
              "265          ZWE  GDP growth (annual %)  NY.GDP.MKTP.KD.ZG  5.849420   \n",
              "\n",
              "     Unnamed: 66  \n",
              "0            NaN  \n",
              "1            NaN  \n",
              "2            NaN  \n",
              "3            NaN  \n",
              "4            NaN  \n",
              "..           ...  \n",
              "261          NaN  \n",
              "262          NaN  \n",
              "263          NaN  \n",
              "264          NaN  \n",
              "265          NaN  \n",
              "\n",
              "[266 rows x 5 columns]>"
            ]
          },
          "metadata": {},
          "execution_count": 98
        }
      ]
    },
    {
      "cell_type": "code",
      "source": [
        "# Renombramos columnas para hacer más manejable el df\n",
        "#     1.  Country Code            ->  codigo_pais\n",
        "#     2.  Indicator Name          ->  indicador\n",
        "#     3.  Indicator Code          ->  codigo_indicador\n",
        "#     4.  2021                    ->  valor\n",
        "df_des = df_des.set_axis(['codigo_pais',\n",
        "                      'indicador',\n",
        "                      'codigo_indicador',\n",
        "                      'valor','x'], axis=1)"
      ],
      "metadata": {
        "id": "fuBMCi96PkjM"
      },
      "execution_count": 103,
      "outputs": []
    },
    {
      "cell_type": "code",
      "source": [
        "# Limpiamos columnas que no necesitamos \n",
        "df_des = df_des.drop(['x'], axis=1)"
      ],
      "metadata": {
        "id": "fxs8xmfeTJlk"
      },
      "execution_count": 105,
      "outputs": []
    },
    {
      "cell_type": "code",
      "source": [
        "# Comprobamos el DataFrame df_des\n",
        "df_des.info"
      ],
      "metadata": {
        "colab": {
          "base_uri": "https://localhost:8080/"
        },
        "id": "EPmdQl-0S4Vb",
        "outputId": "d4186609-86fe-45fd-dd0a-756dea8c29b0"
      },
      "execution_count": 106,
      "outputs": [
        {
          "output_type": "execute_result",
          "data": {
            "text/plain": [
              "<bound method DataFrame.info of     codigo_pais              indicador   codigo_indicador     valor\n",
              "0           ABW  GDP growth (annual %)  NY.GDP.MKTP.KD.ZG       NaN\n",
              "1           AFE  GDP growth (annual %)  NY.GDP.MKTP.KD.ZG  4.303667\n",
              "2           AFG  GDP growth (annual %)  NY.GDP.MKTP.KD.ZG       NaN\n",
              "3           AFW  GDP growth (annual %)  NY.GDP.MKTP.KD.ZG  3.914799\n",
              "4           AGO  GDP growth (annual %)  NY.GDP.MKTP.KD.ZG  0.700000\n",
              "..          ...                    ...                ...       ...\n",
              "261         XKX  GDP growth (annual %)  NY.GDP.MKTP.KD.ZG  9.127578\n",
              "262         YEM  GDP growth (annual %)  NY.GDP.MKTP.KD.ZG -2.061513\n",
              "263         ZAF  GDP growth (annual %)  NY.GDP.MKTP.KD.ZG  4.914603\n",
              "264         ZMB  GDP growth (annual %)  NY.GDP.MKTP.KD.ZG  3.572815\n",
              "265         ZWE  GDP growth (annual %)  NY.GDP.MKTP.KD.ZG  5.849420\n",
              "\n",
              "[266 rows x 4 columns]>"
            ]
          },
          "metadata": {},
          "execution_count": 106
        }
      ]
    },
    {
      "cell_type": "code",
      "source": [
        "# Estandarizamos el código de población (iso3) a minúsculas\n",
        "df_des['codigo_pais'] = df_des['codigo_pais'].str.lower()\n",
        "df_des.info"
      ],
      "metadata": {
        "colab": {
          "base_uri": "https://localhost:8080/"
        },
        "id": "QiQmG7_OTauo",
        "outputId": "c3e47cea-17a2-42f5-aea4-9b93c499c285"
      },
      "execution_count": 107,
      "outputs": [
        {
          "output_type": "execute_result",
          "data": {
            "text/plain": [
              "<bound method DataFrame.info of     codigo_pais              indicador   codigo_indicador     valor\n",
              "0           abw  GDP growth (annual %)  NY.GDP.MKTP.KD.ZG       NaN\n",
              "1           afe  GDP growth (annual %)  NY.GDP.MKTP.KD.ZG  4.303667\n",
              "2           afg  GDP growth (annual %)  NY.GDP.MKTP.KD.ZG       NaN\n",
              "3           afw  GDP growth (annual %)  NY.GDP.MKTP.KD.ZG  3.914799\n",
              "4           ago  GDP growth (annual %)  NY.GDP.MKTP.KD.ZG  0.700000\n",
              "..          ...                    ...                ...       ...\n",
              "261         xkx  GDP growth (annual %)  NY.GDP.MKTP.KD.ZG  9.127578\n",
              "262         yem  GDP growth (annual %)  NY.GDP.MKTP.KD.ZG -2.061513\n",
              "263         zaf  GDP growth (annual %)  NY.GDP.MKTP.KD.ZG  4.914603\n",
              "264         zmb  GDP growth (annual %)  NY.GDP.MKTP.KD.ZG  3.572815\n",
              "265         zwe  GDP growth (annual %)  NY.GDP.MKTP.KD.ZG  5.849420\n",
              "\n",
              "[266 rows x 4 columns]>"
            ]
          },
          "metadata": {},
          "execution_count": 107
        }
      ]
    },
    {
      "cell_type": "code",
      "source": [
        "# Ahora seleccionamos solo los registros que estén incluidos en nuestro dataset de paises \n",
        "# (ir más abajo a la extracción de datos de paises)\n",
        "df_des_copy = df_des[df_des.codigo_pais.isin(df_pai['codigo_pais'])]\n",
        "df_des_copy.info"
      ],
      "metadata": {
        "colab": {
          "base_uri": "https://localhost:8080/"
        },
        "id": "AWNvGzYWTyvw",
        "outputId": "24cf6710-41bf-4eec-be47-47def7be7611"
      },
      "execution_count": 109,
      "outputs": [
        {
          "output_type": "execute_result",
          "data": {
            "text/plain": [
              "<bound method DataFrame.info of     codigo_pais              indicador   codigo_indicador     valor\n",
              "2           afg  GDP growth (annual %)  NY.GDP.MKTP.KD.ZG       NaN\n",
              "4           ago  GDP growth (annual %)  NY.GDP.MKTP.KD.ZG  0.700000\n",
              "5           alb  GDP growth (annual %)  NY.GDP.MKTP.KD.ZG  8.544083\n",
              "6           and  GDP growth (annual %)  NY.GDP.MKTP.KD.ZG  8.949418\n",
              "8           are  GDP growth (annual %)  NY.GDP.MKTP.KD.ZG       NaN\n",
              "..          ...                    ...                ...       ...\n",
              "260         wsm  GDP growth (annual %)  NY.GDP.MKTP.KD.ZG -8.078563\n",
              "262         yem  GDP growth (annual %)  NY.GDP.MKTP.KD.ZG -2.061513\n",
              "263         zaf  GDP growth (annual %)  NY.GDP.MKTP.KD.ZG  4.914603\n",
              "264         zmb  GDP growth (annual %)  NY.GDP.MKTP.KD.ZG  3.572815\n",
              "265         zwe  GDP growth (annual %)  NY.GDP.MKTP.KD.ZG  5.849420\n",
              "\n",
              "[193 rows x 4 columns]>"
            ]
          },
          "metadata": {},
          "execution_count": 109
        }
      ]
    },
    {
      "cell_type": "code",
      "source": [
        "# Volcamos la copia del df con el que hemos trabajado en el original y listo.\n",
        "# Ya tenemos el df limpio\n",
        "df_des = df_des_copy\n",
        "df_des.info"
      ],
      "metadata": {
        "colab": {
          "base_uri": "https://localhost:8080/"
        },
        "id": "2t9lKmrpU0w8",
        "outputId": "504665e0-4027-423b-ff50-3beb9188db3d"
      },
      "execution_count": 110,
      "outputs": [
        {
          "output_type": "execute_result",
          "data": {
            "text/plain": [
              "<bound method DataFrame.info of     codigo_pais              indicador   codigo_indicador     valor\n",
              "2           afg  GDP growth (annual %)  NY.GDP.MKTP.KD.ZG       NaN\n",
              "4           ago  GDP growth (annual %)  NY.GDP.MKTP.KD.ZG  0.700000\n",
              "5           alb  GDP growth (annual %)  NY.GDP.MKTP.KD.ZG  8.544083\n",
              "6           and  GDP growth (annual %)  NY.GDP.MKTP.KD.ZG  8.949418\n",
              "8           are  GDP growth (annual %)  NY.GDP.MKTP.KD.ZG       NaN\n",
              "..          ...                    ...                ...       ...\n",
              "260         wsm  GDP growth (annual %)  NY.GDP.MKTP.KD.ZG -8.078563\n",
              "262         yem  GDP growth (annual %)  NY.GDP.MKTP.KD.ZG -2.061513\n",
              "263         zaf  GDP growth (annual %)  NY.GDP.MKTP.KD.ZG  4.914603\n",
              "264         zmb  GDP growth (annual %)  NY.GDP.MKTP.KD.ZG  3.572815\n",
              "265         zwe  GDP growth (annual %)  NY.GDP.MKTP.KD.ZG  5.849420\n",
              "\n",
              "[193 rows x 4 columns]>"
            ]
          },
          "metadata": {},
          "execution_count": 110
        }
      ]
    },
    {
      "cell_type": "markdown",
      "source": [
        "***Transformación de datos - Salud -***"
      ],
      "metadata": {
        "id": "XiBMnhMsU66K"
      }
    },
    {
      "cell_type": "code",
      "source": [
        "# Comprobamos el DataFrame df_sal_a\n",
        "df_sal_a.info"
      ],
      "metadata": {
        "colab": {
          "base_uri": "https://localhost:8080/"
        },
        "id": "N0kLzhq0qu2d",
        "outputId": "1b7cc171-6cc8-4005-b10e-dd69874cc305"
      },
      "execution_count": null,
      "outputs": [
        {
          "output_type": "execute_result",
          "data": {
            "text/plain": [
              "<bound method DataFrame.info of       Country Name Country Code  \\\n",
              "0            Aruba          ABW   \n",
              "1            Aruba          ABW   \n",
              "2            Aruba          ABW   \n",
              "3            Aruba          ABW   \n",
              "4            Aruba          ABW   \n",
              "...            ...          ...   \n",
              "65527       Kosovo          XKX   \n",
              "65528       Kosovo          XKX   \n",
              "65529       Kosovo          XKX   \n",
              "65530       Kosovo          XKX   \n",
              "65531       Kosovo          XKX   \n",
              "\n",
              "                                          Indicator Name     Indicator Code  \\\n",
              "0      Unmet need for contraception (% of married wom...        SP.UWT.TFRT   \n",
              "1      Completeness of death registration with cause-...     SP.REG.DTHS.ZS   \n",
              "2                 Completeness of birth registration (%)     SP.REG.BRTH.ZS   \n",
              "3          Completeness of birth registration, urban (%)  SP.REG.BRTH.UR.ZS   \n",
              "4          Completeness of birth registration, rural (%)  SP.REG.BRTH.RU.ZS   \n",
              "...                                                  ...                ...   \n",
              "65527  Unmet need for contraception (% of married wom...        SP.UWT.TFRT   \n",
              "65528  Completeness of death registration with cause-...     SP.REG.DTHS.ZS   \n",
              "65529             Completeness of birth registration (%)     SP.REG.BRTH.ZS   \n",
              "65530      Completeness of birth registration, urban (%)  SP.REG.BRTH.UR.ZS   \n",
              "65531      Completeness of birth registration, rural (%)  SP.REG.BRTH.RU.ZS   \n",
              "\n",
              "       1960  1961  1962  1963  1964  1965  ...  2011  2012  2013  2014  2015  \\\n",
              "0       NaN   NaN   NaN   NaN   NaN   NaN  ...   NaN   NaN   NaN   NaN   NaN   \n",
              "1       NaN   NaN   NaN   NaN   NaN   NaN  ...   NaN   NaN   NaN   NaN   NaN   \n",
              "2       NaN   NaN   NaN   NaN   NaN   NaN  ...   NaN   NaN   NaN   NaN   NaN   \n",
              "3       NaN   NaN   NaN   NaN   NaN   NaN  ...   NaN   NaN   NaN   NaN   NaN   \n",
              "4       NaN   NaN   NaN   NaN   NaN   NaN  ...   NaN   NaN   NaN   NaN   NaN   \n",
              "...     ...   ...   ...   ...   ...   ...  ...   ...   ...   ...   ...   ...   \n",
              "65527   NaN   NaN   NaN   NaN   NaN   NaN  ...   NaN   NaN   NaN   NaN   NaN   \n",
              "65528   NaN   NaN   NaN   NaN   NaN   NaN  ...   NaN   NaN   NaN   NaN   NaN   \n",
              "65529   NaN   NaN   NaN   NaN   NaN   NaN  ...   NaN   NaN   NaN   NaN   NaN   \n",
              "65530   NaN   NaN   NaN   NaN   NaN   NaN  ...   NaN   NaN   NaN   NaN   NaN   \n",
              "65531   NaN   NaN   NaN   NaN   NaN   NaN  ...   NaN   NaN   NaN   NaN   NaN   \n",
              "\n",
              "       2016  2017  2018  2019  2020  \n",
              "0       NaN   NaN   NaN   NaN   NaN  \n",
              "1       NaN   NaN   NaN   NaN   NaN  \n",
              "2       NaN   NaN   NaN   NaN   NaN  \n",
              "3       NaN   NaN   NaN   NaN   NaN  \n",
              "4       NaN   NaN   NaN   NaN   NaN  \n",
              "...     ...   ...   ...   ...   ...  \n",
              "65527   NaN   NaN   NaN   NaN   NaN  \n",
              "65528   NaN   NaN   NaN   NaN   NaN  \n",
              "65529   NaN   NaN   NaN   NaN   NaN  \n",
              "65530   NaN   NaN   NaN   NaN   NaN  \n",
              "65531   NaN   NaN   NaN   NaN   NaN  \n",
              "\n",
              "[65532 rows x 65 columns]>"
            ]
          },
          "metadata": {},
          "execution_count": 15
        }
      ]
    },
    {
      "cell_type": "code",
      "source": [
        "# Redefinimos la lectura para capturar solamente las columnas que nos interesa del DataFrame df_sal_a\n",
        "# Consideramos solo el indicador en los últimos dos años considerados\n",
        "df_sal_a = pd.read_excel('/content/PopulationDataWorldBank.xlsx','Health1').loc[:, ('Country Name', 'Country Code', 'Indicator Name', 'Indicator Code', '2019', '2020')]\n",
        "df_sal_a.info"
      ],
      "metadata": {
        "colab": {
          "base_uri": "https://localhost:8080/"
        },
        "id": "FKKfjDx-qzwn",
        "outputId": "01106ee0-c12b-4aa7-d787-805700d459b7"
      },
      "execution_count": 111,
      "outputs": [
        {
          "output_type": "execute_result",
          "data": {
            "text/plain": [
              "<bound method DataFrame.info of       Country Name Country Code  \\\n",
              "0            Aruba          ABW   \n",
              "1            Aruba          ABW   \n",
              "2            Aruba          ABW   \n",
              "3            Aruba          ABW   \n",
              "4            Aruba          ABW   \n",
              "...            ...          ...   \n",
              "65527       Kosovo          XKX   \n",
              "65528       Kosovo          XKX   \n",
              "65529       Kosovo          XKX   \n",
              "65530       Kosovo          XKX   \n",
              "65531       Kosovo          XKX   \n",
              "\n",
              "                                          Indicator Name     Indicator Code  \\\n",
              "0      Unmet need for contraception (% of married wom...        SP.UWT.TFRT   \n",
              "1      Completeness of death registration with cause-...     SP.REG.DTHS.ZS   \n",
              "2                 Completeness of birth registration (%)     SP.REG.BRTH.ZS   \n",
              "3          Completeness of birth registration, urban (%)  SP.REG.BRTH.UR.ZS   \n",
              "4          Completeness of birth registration, rural (%)  SP.REG.BRTH.RU.ZS   \n",
              "...                                                  ...                ...   \n",
              "65527  Unmet need for contraception (% of married wom...        SP.UWT.TFRT   \n",
              "65528  Completeness of death registration with cause-...     SP.REG.DTHS.ZS   \n",
              "65529             Completeness of birth registration (%)     SP.REG.BRTH.ZS   \n",
              "65530      Completeness of birth registration, urban (%)  SP.REG.BRTH.UR.ZS   \n",
              "65531      Completeness of birth registration, rural (%)  SP.REG.BRTH.RU.ZS   \n",
              "\n",
              "       2019  2020  \n",
              "0       NaN   NaN  \n",
              "1       NaN   NaN  \n",
              "2       NaN   NaN  \n",
              "3       NaN   NaN  \n",
              "4       NaN   NaN  \n",
              "...     ...   ...  \n",
              "65527   NaN   NaN  \n",
              "65528   NaN   NaN  \n",
              "65529   NaN   NaN  \n",
              "65530   NaN   NaN  \n",
              "65531   NaN   NaN  \n",
              "\n",
              "[65532 rows x 6 columns]>"
            ]
          },
          "metadata": {},
          "execution_count": 111
        }
      ]
    },
    {
      "cell_type": "code",
      "source": [
        "# Comprobamos el DataFrame df_sal_b\n",
        "df_sal_b.info"
      ],
      "metadata": {
        "colab": {
          "base_uri": "https://localhost:8080/"
        },
        "id": "j3SBw9SPrXsh",
        "outputId": "aa813257-c5d2-4c0c-dc18-ccc23eb7866a"
      },
      "execution_count": 112,
      "outputs": [
        {
          "output_type": "execute_result",
          "data": {
            "text/plain": [
              "<bound method DataFrame.info of      Country Name Country Code  \\\n",
              "0          Kosovo          XKX   \n",
              "1          Kosovo          XKX   \n",
              "2          Kosovo          XKX   \n",
              "3          Kosovo          XKX   \n",
              "4          Kosovo          XKX   \n",
              "...           ...          ...   \n",
              "1255     Zimbabwe          ZWE   \n",
              "1256     Zimbabwe          ZWE   \n",
              "1257     Zimbabwe          ZWE   \n",
              "1258     Zimbabwe          ZWE   \n",
              "1259     Zimbabwe          ZWE   \n",
              "\n",
              "                                         Indicator Name     Indicator Code  \\\n",
              "0          Completeness of birth registration, male (%)  SP.REG.BRTH.MA.ZS   \n",
              "1        Completeness of birth registration, female (%)  SP.REG.BRTH.FE.ZS   \n",
              "2              Population, male (% of total population)  SP.POP.TOTL.MA.ZS   \n",
              "3                                      Population, male  SP.POP.TOTL.MA.IN   \n",
              "4            Population, female (% of total population)  SP.POP.TOTL.FE.ZS   \n",
              "...                                                 ...                ...   \n",
              "1255  Women who believe a husband is justified in be...     SG.VAW.NEGL.ZS   \n",
              "1256  Women who believe a husband is justified in be...     SG.VAW.GOES.ZS   \n",
              "1257  Women who believe a husband is justified in be...     SG.VAW.BURN.ZS   \n",
              "1258  Women who believe a husband is justified in be...     SG.VAW.ARGU.ZS   \n",
              "1259  Proportion of women subjected to physical and/...     SG.VAW.1549.ZS   \n",
              "\n",
              "      1960  1961  1962  1963  1964  1965  ...  2011  2012  2013  2014  2015  \\\n",
              "0      NaN   NaN   NaN   NaN   NaN   NaN  ...   NaN   NaN   NaN   NaN   NaN   \n",
              "1      NaN   NaN   NaN   NaN   NaN   NaN  ...   NaN   NaN   NaN   NaN   NaN   \n",
              "2      NaN   NaN   NaN   NaN   NaN   NaN  ...   NaN   NaN   NaN   NaN   NaN   \n",
              "3      NaN   NaN   NaN   NaN   NaN   NaN  ...   NaN   NaN   NaN   NaN   NaN   \n",
              "4      NaN   NaN   NaN   NaN   NaN   NaN  ...   NaN   NaN   NaN   NaN   NaN   \n",
              "...    ...   ...   ...   ...   ...   ...  ...   ...   ...   ...   ...   ...   \n",
              "1255   NaN   NaN   NaN   NaN   NaN   NaN  ...  21.4   NaN   NaN   NaN  21.4   \n",
              "1256   NaN   NaN   NaN   NaN   NaN   NaN  ...  22.3   NaN   NaN   NaN  22.8   \n",
              "1257   NaN   NaN   NaN   NaN   NaN   NaN  ...   7.5   NaN   NaN   NaN   8.1   \n",
              "1258   NaN   NaN   NaN   NaN   NaN   NaN  ...  15.6   NaN   NaN   NaN  16.7   \n",
              "1259   NaN   NaN   NaN   NaN   NaN   NaN  ...   NaN   NaN   NaN   NaN  19.9   \n",
              "\n",
              "      2016  2017  2018  2019  2020  \n",
              "0      NaN   NaN   NaN   NaN   NaN  \n",
              "1      NaN   NaN   NaN   NaN   NaN  \n",
              "2      NaN   NaN   NaN   NaN   NaN  \n",
              "3      NaN   NaN   NaN   NaN   NaN  \n",
              "4      NaN   NaN   NaN   NaN   NaN  \n",
              "...    ...   ...   ...   ...   ...  \n",
              "1255   NaN   NaN   NaN   NaN   NaN  \n",
              "1256   NaN   NaN   NaN   NaN   NaN  \n",
              "1257   NaN   NaN   NaN   NaN   NaN  \n",
              "1258   NaN   NaN   NaN   NaN   NaN  \n",
              "1259   NaN   NaN   NaN   NaN   NaN  \n",
              "\n",
              "[1260 rows x 65 columns]>"
            ]
          },
          "metadata": {},
          "execution_count": 112
        }
      ]
    },
    {
      "cell_type": "code",
      "source": [
        "# Redefinimos la lectura para capturar solamente las columnas que nos interesa de l DataFrame df_sal_b\n",
        "# Consideramos solo el indicador en los últimos dos años considerados\n",
        "# df_sal_a y df_sal_b se fusionarán en df_sal\n",
        "df_sal_b = pd.read_excel('/content/PopulationDataWorldBank.xlsx','Health2').loc[:, ('Country Name', 'Country Code', 'Indicator Name', 'Indicator Code', '2019', '2020')]\n",
        "df_sal_b.info"
      ],
      "metadata": {
        "colab": {
          "base_uri": "https://localhost:8080/"
        },
        "id": "txXkQZsVrevF",
        "outputId": "6664ee41-a108-4400-cf66-f76a7bfd61ab"
      },
      "execution_count": 113,
      "outputs": [
        {
          "output_type": "execute_result",
          "data": {
            "text/plain": [
              "<bound method DataFrame.info of      Country Name Country Code  \\\n",
              "0          Kosovo          XKX   \n",
              "1          Kosovo          XKX   \n",
              "2          Kosovo          XKX   \n",
              "3          Kosovo          XKX   \n",
              "4          Kosovo          XKX   \n",
              "...           ...          ...   \n",
              "1255     Zimbabwe          ZWE   \n",
              "1256     Zimbabwe          ZWE   \n",
              "1257     Zimbabwe          ZWE   \n",
              "1258     Zimbabwe          ZWE   \n",
              "1259     Zimbabwe          ZWE   \n",
              "\n",
              "                                         Indicator Name     Indicator Code  \\\n",
              "0          Completeness of birth registration, male (%)  SP.REG.BRTH.MA.ZS   \n",
              "1        Completeness of birth registration, female (%)  SP.REG.BRTH.FE.ZS   \n",
              "2              Population, male (% of total population)  SP.POP.TOTL.MA.ZS   \n",
              "3                                      Population, male  SP.POP.TOTL.MA.IN   \n",
              "4            Population, female (% of total population)  SP.POP.TOTL.FE.ZS   \n",
              "...                                                 ...                ...   \n",
              "1255  Women who believe a husband is justified in be...     SG.VAW.NEGL.ZS   \n",
              "1256  Women who believe a husband is justified in be...     SG.VAW.GOES.ZS   \n",
              "1257  Women who believe a husband is justified in be...     SG.VAW.BURN.ZS   \n",
              "1258  Women who believe a husband is justified in be...     SG.VAW.ARGU.ZS   \n",
              "1259  Proportion of women subjected to physical and/...     SG.VAW.1549.ZS   \n",
              "\n",
              "      2019  2020  \n",
              "0      NaN   NaN  \n",
              "1      NaN   NaN  \n",
              "2      NaN   NaN  \n",
              "3      NaN   NaN  \n",
              "4      NaN   NaN  \n",
              "...    ...   ...  \n",
              "1255   NaN   NaN  \n",
              "1256   NaN   NaN  \n",
              "1257   NaN   NaN  \n",
              "1258   NaN   NaN  \n",
              "1259   NaN   NaN  \n",
              "\n",
              "[1260 rows x 6 columns]>"
            ]
          },
          "metadata": {},
          "execution_count": 113
        }
      ]
    },
    {
      "cell_type": "code",
      "source": [
        "# Concatenamos df_sal_a y df_sal_b\n",
        "df_sal = pd.concat([df_sal_a,df_sal_b])\n",
        "df_sal"
      ],
      "metadata": {
        "colab": {
          "base_uri": "https://localhost:8080/",
          "height": 423
        },
        "id": "0NjHbN0YH6xD",
        "outputId": "4c9c5ea8-cc2e-475b-af95-684e4df68cd7"
      },
      "execution_count": 114,
      "outputs": [
        {
          "output_type": "execute_result",
          "data": {
            "text/plain": [
              "     Country Name Country Code  \\\n",
              "0           Aruba          ABW   \n",
              "1           Aruba          ABW   \n",
              "2           Aruba          ABW   \n",
              "3           Aruba          ABW   \n",
              "4           Aruba          ABW   \n",
              "...           ...          ...   \n",
              "1255     Zimbabwe          ZWE   \n",
              "1256     Zimbabwe          ZWE   \n",
              "1257     Zimbabwe          ZWE   \n",
              "1258     Zimbabwe          ZWE   \n",
              "1259     Zimbabwe          ZWE   \n",
              "\n",
              "                                         Indicator Name     Indicator Code  \\\n",
              "0     Unmet need for contraception (% of married wom...        SP.UWT.TFRT   \n",
              "1     Completeness of death registration with cause-...     SP.REG.DTHS.ZS   \n",
              "2                Completeness of birth registration (%)     SP.REG.BRTH.ZS   \n",
              "3         Completeness of birth registration, urban (%)  SP.REG.BRTH.UR.ZS   \n",
              "4         Completeness of birth registration, rural (%)  SP.REG.BRTH.RU.ZS   \n",
              "...                                                 ...                ...   \n",
              "1255  Women who believe a husband is justified in be...     SG.VAW.NEGL.ZS   \n",
              "1256  Women who believe a husband is justified in be...     SG.VAW.GOES.ZS   \n",
              "1257  Women who believe a husband is justified in be...     SG.VAW.BURN.ZS   \n",
              "1258  Women who believe a husband is justified in be...     SG.VAW.ARGU.ZS   \n",
              "1259  Proportion of women subjected to physical and/...     SG.VAW.1549.ZS   \n",
              "\n",
              "      2019  2020  \n",
              "0      NaN   NaN  \n",
              "1      NaN   NaN  \n",
              "2      NaN   NaN  \n",
              "3      NaN   NaN  \n",
              "4      NaN   NaN  \n",
              "...    ...   ...  \n",
              "1255   NaN   NaN  \n",
              "1256   NaN   NaN  \n",
              "1257   NaN   NaN  \n",
              "1258   NaN   NaN  \n",
              "1259   NaN   NaN  \n",
              "\n",
              "[66792 rows x 6 columns]"
            ],
            "text/html": [
              "\n",
              "  <div id=\"df-c3e9153f-fc1b-4c44-b427-4b939248b861\">\n",
              "    <div class=\"colab-df-container\">\n",
              "      <div>\n",
              "<style scoped>\n",
              "    .dataframe tbody tr th:only-of-type {\n",
              "        vertical-align: middle;\n",
              "    }\n",
              "\n",
              "    .dataframe tbody tr th {\n",
              "        vertical-align: top;\n",
              "    }\n",
              "\n",
              "    .dataframe thead th {\n",
              "        text-align: right;\n",
              "    }\n",
              "</style>\n",
              "<table border=\"1\" class=\"dataframe\">\n",
              "  <thead>\n",
              "    <tr style=\"text-align: right;\">\n",
              "      <th></th>\n",
              "      <th>Country Name</th>\n",
              "      <th>Country Code</th>\n",
              "      <th>Indicator Name</th>\n",
              "      <th>Indicator Code</th>\n",
              "      <th>2019</th>\n",
              "      <th>2020</th>\n",
              "    </tr>\n",
              "  </thead>\n",
              "  <tbody>\n",
              "    <tr>\n",
              "      <th>0</th>\n",
              "      <td>Aruba</td>\n",
              "      <td>ABW</td>\n",
              "      <td>Unmet need for contraception (% of married wom...</td>\n",
              "      <td>SP.UWT.TFRT</td>\n",
              "      <td>NaN</td>\n",
              "      <td>NaN</td>\n",
              "    </tr>\n",
              "    <tr>\n",
              "      <th>1</th>\n",
              "      <td>Aruba</td>\n",
              "      <td>ABW</td>\n",
              "      <td>Completeness of death registration with cause-...</td>\n",
              "      <td>SP.REG.DTHS.ZS</td>\n",
              "      <td>NaN</td>\n",
              "      <td>NaN</td>\n",
              "    </tr>\n",
              "    <tr>\n",
              "      <th>2</th>\n",
              "      <td>Aruba</td>\n",
              "      <td>ABW</td>\n",
              "      <td>Completeness of birth registration (%)</td>\n",
              "      <td>SP.REG.BRTH.ZS</td>\n",
              "      <td>NaN</td>\n",
              "      <td>NaN</td>\n",
              "    </tr>\n",
              "    <tr>\n",
              "      <th>3</th>\n",
              "      <td>Aruba</td>\n",
              "      <td>ABW</td>\n",
              "      <td>Completeness of birth registration, urban (%)</td>\n",
              "      <td>SP.REG.BRTH.UR.ZS</td>\n",
              "      <td>NaN</td>\n",
              "      <td>NaN</td>\n",
              "    </tr>\n",
              "    <tr>\n",
              "      <th>4</th>\n",
              "      <td>Aruba</td>\n",
              "      <td>ABW</td>\n",
              "      <td>Completeness of birth registration, rural (%)</td>\n",
              "      <td>SP.REG.BRTH.RU.ZS</td>\n",
              "      <td>NaN</td>\n",
              "      <td>NaN</td>\n",
              "    </tr>\n",
              "    <tr>\n",
              "      <th>...</th>\n",
              "      <td>...</td>\n",
              "      <td>...</td>\n",
              "      <td>...</td>\n",
              "      <td>...</td>\n",
              "      <td>...</td>\n",
              "      <td>...</td>\n",
              "    </tr>\n",
              "    <tr>\n",
              "      <th>1255</th>\n",
              "      <td>Zimbabwe</td>\n",
              "      <td>ZWE</td>\n",
              "      <td>Women who believe a husband is justified in be...</td>\n",
              "      <td>SG.VAW.NEGL.ZS</td>\n",
              "      <td>NaN</td>\n",
              "      <td>NaN</td>\n",
              "    </tr>\n",
              "    <tr>\n",
              "      <th>1256</th>\n",
              "      <td>Zimbabwe</td>\n",
              "      <td>ZWE</td>\n",
              "      <td>Women who believe a husband is justified in be...</td>\n",
              "      <td>SG.VAW.GOES.ZS</td>\n",
              "      <td>NaN</td>\n",
              "      <td>NaN</td>\n",
              "    </tr>\n",
              "    <tr>\n",
              "      <th>1257</th>\n",
              "      <td>Zimbabwe</td>\n",
              "      <td>ZWE</td>\n",
              "      <td>Women who believe a husband is justified in be...</td>\n",
              "      <td>SG.VAW.BURN.ZS</td>\n",
              "      <td>NaN</td>\n",
              "      <td>NaN</td>\n",
              "    </tr>\n",
              "    <tr>\n",
              "      <th>1258</th>\n",
              "      <td>Zimbabwe</td>\n",
              "      <td>ZWE</td>\n",
              "      <td>Women who believe a husband is justified in be...</td>\n",
              "      <td>SG.VAW.ARGU.ZS</td>\n",
              "      <td>NaN</td>\n",
              "      <td>NaN</td>\n",
              "    </tr>\n",
              "    <tr>\n",
              "      <th>1259</th>\n",
              "      <td>Zimbabwe</td>\n",
              "      <td>ZWE</td>\n",
              "      <td>Proportion of women subjected to physical and/...</td>\n",
              "      <td>SG.VAW.1549.ZS</td>\n",
              "      <td>NaN</td>\n",
              "      <td>NaN</td>\n",
              "    </tr>\n",
              "  </tbody>\n",
              "</table>\n",
              "<p>66792 rows × 6 columns</p>\n",
              "</div>\n",
              "      <button class=\"colab-df-convert\" onclick=\"convertToInteractive('df-c3e9153f-fc1b-4c44-b427-4b939248b861')\"\n",
              "              title=\"Convert this dataframe to an interactive table.\"\n",
              "              style=\"display:none;\">\n",
              "        \n",
              "  <svg xmlns=\"http://www.w3.org/2000/svg\" height=\"24px\"viewBox=\"0 0 24 24\"\n",
              "       width=\"24px\">\n",
              "    <path d=\"M0 0h24v24H0V0z\" fill=\"none\"/>\n",
              "    <path d=\"M18.56 5.44l.94 2.06.94-2.06 2.06-.94-2.06-.94-.94-2.06-.94 2.06-2.06.94zm-11 1L8.5 8.5l.94-2.06 2.06-.94-2.06-.94L8.5 2.5l-.94 2.06-2.06.94zm10 10l.94 2.06.94-2.06 2.06-.94-2.06-.94-.94-2.06-.94 2.06-2.06.94z\"/><path d=\"M17.41 7.96l-1.37-1.37c-.4-.4-.92-.59-1.43-.59-.52 0-1.04.2-1.43.59L10.3 9.45l-7.72 7.72c-.78.78-.78 2.05 0 2.83L4 21.41c.39.39.9.59 1.41.59.51 0 1.02-.2 1.41-.59l7.78-7.78 2.81-2.81c.8-.78.8-2.07 0-2.86zM5.41 20L4 18.59l7.72-7.72 1.47 1.35L5.41 20z\"/>\n",
              "  </svg>\n",
              "      </button>\n",
              "      \n",
              "  <style>\n",
              "    .colab-df-container {\n",
              "      display:flex;\n",
              "      flex-wrap:wrap;\n",
              "      gap: 12px;\n",
              "    }\n",
              "\n",
              "    .colab-df-convert {\n",
              "      background-color: #E8F0FE;\n",
              "      border: none;\n",
              "      border-radius: 50%;\n",
              "      cursor: pointer;\n",
              "      display: none;\n",
              "      fill: #1967D2;\n",
              "      height: 32px;\n",
              "      padding: 0 0 0 0;\n",
              "      width: 32px;\n",
              "    }\n",
              "\n",
              "    .colab-df-convert:hover {\n",
              "      background-color: #E2EBFA;\n",
              "      box-shadow: 0px 1px 2px rgba(60, 64, 67, 0.3), 0px 1px 3px 1px rgba(60, 64, 67, 0.15);\n",
              "      fill: #174EA6;\n",
              "    }\n",
              "\n",
              "    [theme=dark] .colab-df-convert {\n",
              "      background-color: #3B4455;\n",
              "      fill: #D2E3FC;\n",
              "    }\n",
              "\n",
              "    [theme=dark] .colab-df-convert:hover {\n",
              "      background-color: #434B5C;\n",
              "      box-shadow: 0px 1px 3px 1px rgba(0, 0, 0, 0.15);\n",
              "      filter: drop-shadow(0px 1px 2px rgba(0, 0, 0, 0.3));\n",
              "      fill: #FFFFFF;\n",
              "    }\n",
              "  </style>\n",
              "\n",
              "      <script>\n",
              "        const buttonEl =\n",
              "          document.querySelector('#df-c3e9153f-fc1b-4c44-b427-4b939248b861 button.colab-df-convert');\n",
              "        buttonEl.style.display =\n",
              "          google.colab.kernel.accessAllowed ? 'block' : 'none';\n",
              "\n",
              "        async function convertToInteractive(key) {\n",
              "          const element = document.querySelector('#df-c3e9153f-fc1b-4c44-b427-4b939248b861');\n",
              "          const dataTable =\n",
              "            await google.colab.kernel.invokeFunction('convertToInteractive',\n",
              "                                                     [key], {});\n",
              "          if (!dataTable) return;\n",
              "\n",
              "          const docLinkHtml = 'Like what you see? Visit the ' +\n",
              "            '<a target=\"_blank\" href=https://colab.research.google.com/notebooks/data_table.ipynb>data table notebook</a>'\n",
              "            + ' to learn more about interactive tables.';\n",
              "          element.innerHTML = '';\n",
              "          dataTable['output_type'] = 'display_data';\n",
              "          await google.colab.output.renderOutput(dataTable, element);\n",
              "          const docLink = document.createElement('div');\n",
              "          docLink.innerHTML = docLinkHtml;\n",
              "          element.appendChild(docLink);\n",
              "        }\n",
              "      </script>\n",
              "    </div>\n",
              "  </div>\n",
              "  "
            ]
          },
          "metadata": {},
          "execution_count": 114
        }
      ]
    },
    {
      "cell_type": "markdown",
      "source": [
        "***Nueva extracción de datos - Salut -***\n",
        "\n",
        "Este datasource no nos proporciona información del año que queremos analizar (2021, ni 2020), por lo tanto, buscamos otro, el cual nos proporcione los datos que necesitamos.  \n",
        "\n",
        "Data source: WHO (OMS), Global Health Expenditure Database  \n",
        "URL : https://apps.who.int/nha/database/Select/Indicators/en  \n",
        "Autor : WHO  \n",
        "Fuente : WHO  \n",
        "Fichero : NHA indicators.xlsx (arreglamos filas y columnas combinadas)"
      ],
      "metadata": {
        "id": "a0qyjg4BF6Cg"
      }
    },
    {
      "cell_type": "code",
      "source": [
        "# Releer el conjunto de datos\n",
        "df_sal = pd.read_excel('/content/NHA indicators.xlsx')                            # Salud"
      ],
      "metadata": {
        "id": "Zo1SFaB5-JlT"
      },
      "execution_count": 115,
      "outputs": []
    },
    {
      "cell_type": "code",
      "source": [
        "# Comprobamos el DataFrame df_sal\n",
        "df_sal.info"
      ],
      "metadata": {
        "colab": {
          "base_uri": "https://localhost:8080/"
        },
        "id": "ydTCsAGuAuvr",
        "outputId": "917794a6-55eb-4ccd-ce8d-2f4ef32a8bd1"
      },
      "execution_count": 116,
      "outputs": [
        {
          "output_type": "execute_result",
          "data": {
            "text/plain": [
              "<bound method DataFrame.info of     Countries                                         Indicators        2020  \\\n",
              "0     Algeria  Current Health Expenditure (CHE) as % Gross Do...    6.321180   \n",
              "1     Algeria  Current Health Expenditure (CHE) per Capita in...  214.851791   \n",
              "2      Angola  Current Health Expenditure (CHE) as % Gross Do...    2.911835   \n",
              "3      Angola  Current Health Expenditure (CHE) per Capita in...   50.742622   \n",
              "4    Botswana  Current Health Expenditure (CHE) as % Gross Do...    6.186646   \n",
              "..        ...                                                ...         ...   \n",
              "456   Vanuatu       Capital Health Expenditure (Domestic Public)    2.607348   \n",
              "457   Vanuatu              Capital Health Expenditure (External)    0.000000   \n",
              "458  Viet Nam  Current Health Expenditure (CHE) as % Gross Do...    4.680668   \n",
              "459  Viet Nam  Current Health Expenditure (CHE) per Capita in...  166.231842   \n",
              "460  Viet Nam       Capital Health Expenditure (Domestic Public)  991.495777   \n",
              "\n",
              "     2021  \n",
              "0     NaN  \n",
              "1     NaN  \n",
              "2     NaN  \n",
              "3     NaN  \n",
              "4     NaN  \n",
              "..    ...  \n",
              "456   NaN  \n",
              "457   NaN  \n",
              "458   NaN  \n",
              "459   NaN  \n",
              "460   NaN  \n",
              "\n",
              "[461 rows x 4 columns]>"
            ]
          },
          "metadata": {},
          "execution_count": 116
        }
      ]
    },
    {
      "cell_type": "markdown",
      "source": [
        "Queda claro que la OMS no tiene datos disponibles del 2021, pero si del 20121, como habitualmente los datos se recogen en el segundo trimestre, cogeremos los datos del 2020 como del 2021."
      ],
      "metadata": {
        "id": "iGAiWRwDBwbt"
      }
    },
    {
      "cell_type": "code",
      "source": [
        "# Volvemos a comprobar el DataFrame df_sal (columnas)\n",
        "for column in df_sal:\n",
        "  print(column)"
      ],
      "metadata": {
        "colab": {
          "base_uri": "https://localhost:8080/"
        },
        "id": "Zu7QbSQdCNIV",
        "outputId": "c5a0ab6b-9114-432f-b087-09e3950103f9"
      },
      "execution_count": 117,
      "outputs": [
        {
          "output_type": "stream",
          "name": "stdout",
          "text": [
            "Countries\n",
            "Indicators\n",
            "2020\n",
            "2021\n"
          ]
        }
      ]
    },
    {
      "cell_type": "code",
      "source": [
        "# Limpiamos columnas que no necesitamos \n",
        "df_sal = df_sal.drop(['2021'], axis=1)"
      ],
      "metadata": {
        "id": "s3ecMffgCfFp"
      },
      "execution_count": 118,
      "outputs": []
    },
    {
      "cell_type": "code",
      "source": [
        "# Renombramos columnas para hacer más manejable el df\n",
        "#     1.  Countries               ->  pais\n",
        "#     2.  Indicators              ->  indicador\n",
        "#     3.  2020                    ->  2021\n",
        "df_sal = df_sal.set_axis(['pais',\n",
        "                      'indicador',\n",
        "                      '2021'], axis=1)"
      ],
      "metadata": {
        "id": "aZdv4XM8DEDn"
      },
      "execution_count": 119,
      "outputs": []
    },
    {
      "cell_type": "code",
      "source": [
        "# Volvemos a comprobar el DataFrame df_sal (columnas)\n",
        "for column in df_sal:\n",
        "  print(column)"
      ],
      "metadata": {
        "colab": {
          "base_uri": "https://localhost:8080/"
        },
        "id": "VzO7PlAnDmkl",
        "outputId": "7bbd89ab-bdb6-4033-ea36-688c2980d8a8"
      },
      "execution_count": 120,
      "outputs": [
        {
          "output_type": "stream",
          "name": "stdout",
          "text": [
            "pais\n",
            "indicador\n",
            "2021\n"
          ]
        }
      ]
    },
    {
      "cell_type": "code",
      "source": [
        "# Comprobamos el DataFrame df_sal\n",
        "df_sal.info"
      ],
      "metadata": {
        "colab": {
          "base_uri": "https://localhost:8080/"
        },
        "id": "vcKedZttDr1j",
        "outputId": "fe128a76-5070-47dc-a3ad-6dfd920fd400"
      },
      "execution_count": 121,
      "outputs": [
        {
          "output_type": "execute_result",
          "data": {
            "text/plain": [
              "<bound method DataFrame.info of          pais                                          indicador        2021\n",
              "0     Algeria  Current Health Expenditure (CHE) as % Gross Do...    6.321180\n",
              "1     Algeria  Current Health Expenditure (CHE) per Capita in...  214.851791\n",
              "2      Angola  Current Health Expenditure (CHE) as % Gross Do...    2.911835\n",
              "3      Angola  Current Health Expenditure (CHE) per Capita in...   50.742622\n",
              "4    Botswana  Current Health Expenditure (CHE) as % Gross Do...    6.186646\n",
              "..        ...                                                ...         ...\n",
              "456   Vanuatu       Capital Health Expenditure (Domestic Public)    2.607348\n",
              "457   Vanuatu              Capital Health Expenditure (External)    0.000000\n",
              "458  Viet Nam  Current Health Expenditure (CHE) as % Gross Do...    4.680668\n",
              "459  Viet Nam  Current Health Expenditure (CHE) per Capita in...  166.231842\n",
              "460  Viet Nam       Capital Health Expenditure (Domestic Public)  991.495777\n",
              "\n",
              "[461 rows x 3 columns]>"
            ]
          },
          "metadata": {},
          "execution_count": 121
        }
      ]
    },
    {
      "cell_type": "markdown",
      "source": [
        "Ahora tenemos el problema de que la columna país no nos interesa, en su lugar queremos el código del país, pero además el nombre del país está en inglés.  bullshit"
      ],
      "metadata": {
        "id": "r97cqJ-BWDZD"
      }
    },
    {
      "cell_type": "code",
      "source": [
        "# Comprobamos el DataFrame df_deu\n",
        "df_deu.info"
      ],
      "metadata": {
        "colab": {
          "base_uri": "https://localhost:8080/"
        },
        "id": "Vfv8LTX8uzYi",
        "outputId": "051d5556-aa12-4ada-a810-d7d3f52a8d95"
      },
      "execution_count": null,
      "outputs": [
        {
          "output_type": "execute_result",
          "data": {
            "text/plain": [
              "<bound method DataFrame.info of       Country Name Country Code  \\\n",
              "0            Aruba          ABW   \n",
              "1            Aruba          ABW   \n",
              "2            Aruba          ABW   \n",
              "3            Aruba          ABW   \n",
              "4            Aruba          ABW   \n",
              "...            ...          ...   \n",
              "16099     Zimbabwe          ZWE   \n",
              "16100     Zimbabwe          ZWE   \n",
              "16101     Zimbabwe          ZWE   \n",
              "16102     Zimbabwe          ZWE   \n",
              "16103     Zimbabwe          ZWE   \n",
              "\n",
              "                                          Indicator Name     Indicator Code  \\\n",
              "0                                      GNI (current US$)     NY.GNP.MKTP.CD   \n",
              "1                    Total reserves in months of imports     FI.RES.TOTL.MO   \n",
              "2              Total reserves (% of total external debt)  FI.RES.TOTL.DT.ZS   \n",
              "3            Total reserves (includes gold, current US$)     FI.RES.TOTL.CD   \n",
              "4      Multilateral debt service (% of public and pub...  DT.TDS.MLAT.PG.ZS   \n",
              "...                                                  ...                ...   \n",
              "16099  Exports of goods, services and primary income ...     BX.GSR.TOTL.CD   \n",
              "16100    Technical cooperation grants (BoP, current US$)  BX.GRT.TECH.CD.WD   \n",
              "16101  Grants, excluding technical cooperation (BoP, ...  BX.GRT.EXTA.CD.WD   \n",
              "16102         Current account balance (BoP, current US$)     BN.CAB.XOKA.CD   \n",
              "16103  Imports of goods, services and primary income ...     BM.GSR.TOTL.CD   \n",
              "\n",
              "       1960     1961  1962     1963       1964       1965  ...          2011  \\\n",
              "0       NaN      NaN   NaN      NaN        NaN        NaN  ...  2.302793e+09   \n",
              "1       NaN      NaN   NaN      NaN        NaN        NaN  ...  1.174720e+00   \n",
              "2       NaN      NaN   NaN      NaN        NaN        NaN  ...           NaN   \n",
              "3       NaN      NaN   NaN      NaN        NaN        NaN  ...  6.897760e+08   \n",
              "4       NaN      NaN   NaN      NaN        NaN        NaN  ...           NaN   \n",
              "...     ...      ...   ...      ...        ...        ...  ...           ...   \n",
              "16099   NaN      NaN   NaN      NaN        NaN        NaN  ...  5.095932e+09   \n",
              "16100   NaN      NaN   NaN      NaN   140000.0   150000.0  ...  8.697000e+07   \n",
              "16101   NaN  10000.0   NaN  70000.0  6560000.0  6030000.0  ...  6.374800e+08   \n",
              "16102   NaN      NaN   NaN      NaN        NaN        NaN  ... -2.431844e+09   \n",
              "16103   NaN      NaN   NaN      NaN        NaN        NaN  ...  9.528082e+09   \n",
              "\n",
              "               2012          2013          2014          2015          2016  \\\n",
              "0      2.418547e+09  2.537095e+09  2.662514e+09  2.794804e+09  2.830726e+09   \n",
              "1      3.053451e+00  3.171215e+00  3.387887e+00  4.244713e+00  5.036316e+00   \n",
              "2               NaN           NaN           NaN           NaN           NaN   \n",
              "3      7.686223e+08  6.531707e+08  6.803510e+08  8.158006e+08  9.225509e+08   \n",
              "4               NaN           NaN           NaN           NaN           NaN   \n",
              "...             ...           ...           ...           ...           ...   \n",
              "16099  4.647509e+09  4.390842e+09  4.246621e+09  4.174925e+09  4.279921e+09   \n",
              "16100  9.285000e+07  6.821000e+07  5.262000e+07  4.036000e+07  5.980000e+07   \n",
              "16101  9.195500e+08  7.772000e+08  7.074700e+08  7.746000e+08  6.933500e+08   \n",
              "16102 -1.835949e+09 -2.525719e+09 -2.405182e+09 -1.678451e+09 -7.179652e+08   \n",
              "16103  8.683356e+09  8.895458e+09  8.531318e+09  7.873438e+09  6.825338e+09   \n",
              "\n",
              "               2017          2018          2019  2020  \n",
              "0      2.885754e+09           NaN           NaN   NaN  \n",
              "1      4.801479e+00  4.618731e+00  4.715359e+00   NaN  \n",
              "2               NaN           NaN           NaN   NaN  \n",
              "3      9.071115e+08  9.802477e+08  9.823000e+08   NaN  \n",
              "4               NaN           NaN           NaN   NaN  \n",
              "...             ...           ...           ...   ...  \n",
              "16099  4.945834e+09           NaN           NaN   NaN  \n",
              "16100  5.249000e+07  5.442000e+07  6.704000e+07   NaN  \n",
              "16101  6.758300e+08  7.390300e+08  9.239100e+08   NaN  \n",
              "16102 -3.078109e+08           NaN           NaN   NaN  \n",
              "16103  6.950997e+09           NaN           NaN   NaN  \n",
              "\n",
              "[16104 rows x 65 columns]>"
            ]
          },
          "metadata": {},
          "execution_count": 29
        }
      ]
    },
    {
      "cell_type": "markdown",
      "source": [
        "Este datasource no nos proporciona información del año que queremos analizar (2021, ni 2020), por lo tanto, buscamos otro, el cual nos proporcione los datos que necesitamos.  \n",
        "\n",
        "Data source: IFM (FMI), World Economic Outlook Database  \n",
        "URL : https://www.imf.org/en/Publications/WEO/weo-database/2022/October  \n",
        "Autor : IFM  \n",
        "Fuente : IFM  \n",
        "Fichero : WEO_Data.xls  "
      ],
      "metadata": {
        "id": "rEEESprqOXoP"
      }
    },
    {
      "cell_type": "code",
      "source": [
        "# Redefinimos la lectura para capturar solamente las columnas que nos interesa de l DataFrame df_deu\n",
        "# Consideramos solo el indicador en los últimos dos años considerados\n",
        "df_deu = pd.read_excel('/content/WEO_Data.xlsx','WEO_Data')\n",
        "df_deu.info"
      ],
      "metadata": {
        "colab": {
          "base_uri": "https://localhost:8080/"
        },
        "id": "wnKvHTS4u69Y",
        "outputId": "4f3f9d94-3b89-4114-e45d-b8d7f6b7d35c"
      },
      "execution_count": null,
      "outputs": [
        {
          "output_type": "execute_result",
          "data": {
            "text/plain": [
              "<bound method DataFrame.info of      ISO             Country           Subject Descriptor           Units  \\\n",
              "0    AFG         Afghanistan  General government net debt  Percent of GDP   \n",
              "1    ALB             Albania  General government net debt  Percent of GDP   \n",
              "2    DZA             Algeria  General government net debt  Percent of GDP   \n",
              "3    AND             Andorra  General government net debt  Percent of GDP   \n",
              "4    AGO              Angola  General government net debt  Percent of GDP   \n",
              "..   ...                 ...                          ...             ...   \n",
              "191  VNM             Vietnam  General government net debt  Percent of GDP   \n",
              "192  WBG  West Bank and Gaza  General government net debt  Percent of GDP   \n",
              "193  YEM               Yemen  General government net debt  Percent of GDP   \n",
              "194  ZMB              Zambia  General government net debt  Percent of GDP   \n",
              "195  ZWE            Zimbabwe  General government net debt  Percent of GDP   \n",
              "\n",
              "     Scale                      Country/Series-specific Notes      2021  \\\n",
              "0      NaN                                                NaN       NaN   \n",
              "1      NaN  See notes for:  General government net debt (N...   64113.0   \n",
              "2      NaN  See notes for:  General government net debt (N...   51868.0   \n",
              "3      NaN                                                NaN       NaN   \n",
              "4      NaN                                                NaN       NaN   \n",
              "..     ...                                                ...       ...   \n",
              "191    NaN                                                NaN       NaN   \n",
              "192    NaN                                                NaN       NaN   \n",
              "193    NaN  See notes for:  General government net debt (N...   69313.0   \n",
              "194    NaN  See notes for:  General government net debt (N...  117491.0   \n",
              "195    NaN                                                NaN       NaN   \n",
              "\n",
              "     Estimates Start After  \n",
              "0                      NaN  \n",
              "1                   2020.0  \n",
              "2                   2021.0  \n",
              "3                      NaN  \n",
              "4                      NaN  \n",
              "..                     ...  \n",
              "191                    NaN  \n",
              "192                    NaN  \n",
              "193                 2020.0  \n",
              "194                 2021.0  \n",
              "195                    NaN  \n",
              "\n",
              "[196 rows x 8 columns]>"
            ]
          },
          "metadata": {},
          "execution_count": 22
        }
      ]
    },
    {
      "cell_type": "code",
      "source": [
        "# Volvemos a comprobar el DataFrame df_deu (columnas)\n",
        "for column in df_deu:\n",
        "  print(column)"
      ],
      "metadata": {
        "colab": {
          "base_uri": "https://localhost:8080/"
        },
        "id": "jVtLmHOPZOm_",
        "outputId": "6239f0ed-ff59-474a-d5f2-56201c77ced3"
      },
      "execution_count": null,
      "outputs": [
        {
          "output_type": "stream",
          "name": "stdout",
          "text": [
            "ISO\n",
            "Country\n",
            "Subject Descriptor\n",
            "Units\n",
            "Scale\n",
            "Country/Series-specific Notes\n",
            "2021\n",
            "Estimates Start After\n"
          ]
        }
      ]
    },
    {
      "cell_type": "code",
      "source": [
        "# Limpiamos columnas que no necesitamos \n",
        "df_deu = df_deu.drop(['Scale',\n",
        "                  'Country/Series-specific Notes',\n",
        "                  'Estimates Start After'], axis=1)"
      ],
      "metadata": {
        "id": "65KwOIaBZHB3"
      },
      "execution_count": null,
      "outputs": []
    },
    {
      "cell_type": "code",
      "source": [
        "# Volvemos a comprobar el DataFrame df_deu (columnas)\n",
        "for column in df_deu:\n",
        "  print(column)"
      ],
      "metadata": {
        "colab": {
          "base_uri": "https://localhost:8080/"
        },
        "id": "Y0gwxWQ-ZwFQ",
        "outputId": "7db18cc2-ddcb-481a-ee2f-e63bee3a294b"
      },
      "execution_count": null,
      "outputs": [
        {
          "output_type": "stream",
          "name": "stdout",
          "text": [
            "ISO\n",
            "Country\n",
            "Subject Descriptor\n",
            "Units\n",
            "2021\n"
          ]
        }
      ]
    },
    {
      "cell_type": "code",
      "source": [
        "# Renombramos columnas para hacer más manejable el df\n",
        "#     1.  ISO                     ->  codigo_pais\n",
        "#     2.  Country                 ->  pais\n",
        "#     3.  Subject Descriptor      ->  indicador\n",
        "#     4.  Units                   ->  unidades\n",
        "#     5.  2021                    ->  2021\n",
        "df_deu = df_deu.set_axis(['codigo_pais',\n",
        "                      'pais',\n",
        "                      'indicador',\n",
        "                      'unidades',\n",
        "                      '2021'], axis=1)"
      ],
      "metadata": {
        "id": "nKM_T4AAZ561"
      },
      "execution_count": null,
      "outputs": []
    },
    {
      "cell_type": "code",
      "source": [
        "# Volvemos a comprobar el DataFrame df_deu (columnas)\n",
        "for column in df_deu:\n",
        "  print(column)"
      ],
      "metadata": {
        "colab": {
          "base_uri": "https://localhost:8080/"
        },
        "id": "kCnvq3Neanqs",
        "outputId": "7d8a19d8-a770-4843-8f16-34582bc7bd32"
      },
      "execution_count": null,
      "outputs": [
        {
          "output_type": "stream",
          "name": "stdout",
          "text": [
            "codigo_pais\n",
            "pais\n",
            "indicador\n",
            "unidades\n",
            "2021\n"
          ]
        }
      ]
    },
    {
      "cell_type": "markdown",
      "source": [
        "***Transformación de datos - Paises -***"
      ],
      "metadata": {
        "id": "x4u23PyoinXP"
      }
    },
    {
      "cell_type": "code",
      "source": [
        "# Comprobamos el DataFrame df_pai. Todas las columnas son necesarias\n",
        "df_pai.info"
      ],
      "metadata": {
        "colab": {
          "base_uri": "https://localhost:8080/"
        },
        "id": "lEcrc3KlyUxt",
        "outputId": "9a877a0f-5a63-46f8-9c65-0af9e234dcb5"
      },
      "execution_count": 20,
      "outputs": [
        {
          "output_type": "execute_result",
          "data": {
            "text/plain": [
              "<bound method DataFrame.info of     Country Code                      Region          IncomeGroup  \\\n",
              "0            ABW   Latin America & Caribbean          High income   \n",
              "1            AFG                  South Asia           Low income   \n",
              "2            AGO          Sub-Saharan Africa  Lower middle income   \n",
              "3            ALB       Europe & Central Asia  Upper middle income   \n",
              "4            AND       Europe & Central Asia          High income   \n",
              "..           ...                         ...                  ...   \n",
              "258          XKX       Europe & Central Asia  Upper middle income   \n",
              "259          YEM  Middle East & North Africa           Low income   \n",
              "260          ZAF          Sub-Saharan Africa  Upper middle income   \n",
              "261          ZMB          Sub-Saharan Africa  Lower middle income   \n",
              "262          ZWE          Sub-Saharan Africa  Lower middle income   \n",
              "\n",
              "                                          SpecialNotes     TableName  \n",
              "0                                                  NaN         Aruba  \n",
              "1                                                  NaN   Afghanistan  \n",
              "2                                                  NaN        Angola  \n",
              "3                                                  NaN       Albania  \n",
              "4                                                  NaN       Andorra  \n",
              "..                                                 ...           ...  \n",
              "258                                                NaN        Kosovo  \n",
              "259                                                NaN   Yemen, Rep.  \n",
              "260  Fiscal year end: March 31; reporting period fo...  South Africa  \n",
              "261  National accounts data were rebased to reflect...        Zambia  \n",
              "262                                                NaN      Zimbabwe  \n",
              "\n",
              "[263 rows x 5 columns]>"
            ]
          },
          "metadata": {},
          "execution_count": 20
        }
      ]
    },
    {
      "cell_type": "markdown",
      "source": [
        "***Nueva extracción de datos - Paises -***  \n",
        "\n",
        "***Como podemos observar este fichero de metadatos dispone de 262 países y muchos NaN***, por lo tanto, buscamos otro, el cual nos proporcione los datos que necesitamos (193 paises reconocidos por la ONU en 2021). No obstante, conservaremos el resto de datos de este dataset, haciendo un join con el nuevo (de 193 filas).\n",
        "\n",
        "Data source: World countries  \n",
        "URL : https://stefangabos.github.io/world_countries/  \n",
        "Autor : Stefan Gabos   \n",
        "Fuente : Stefan Gabos  \n",
        "Fichero : countries.csv  "
      ],
      "metadata": {
        "id": "IgRC9XvtFXpU"
      }
    },
    {
      "cell_type": "code",
      "source": [
        "# En primer lugar hacemos una copia del df_pai en df_pai_ext\n",
        "df_pai_ext = df_pai.copy()\n",
        "df_pai_ext.info"
      ],
      "metadata": {
        "colab": {
          "base_uri": "https://localhost:8080/"
        },
        "id": "J26p5z-EMpYf",
        "outputId": "bbc40b72-ab4b-41b3-fd67-1f21ae867e90"
      },
      "execution_count": 21,
      "outputs": [
        {
          "output_type": "execute_result",
          "data": {
            "text/plain": [
              "<bound method DataFrame.info of     Country Code                      Region          IncomeGroup  \\\n",
              "0            ABW   Latin America & Caribbean          High income   \n",
              "1            AFG                  South Asia           Low income   \n",
              "2            AGO          Sub-Saharan Africa  Lower middle income   \n",
              "3            ALB       Europe & Central Asia  Upper middle income   \n",
              "4            AND       Europe & Central Asia          High income   \n",
              "..           ...                         ...                  ...   \n",
              "258          XKX       Europe & Central Asia  Upper middle income   \n",
              "259          YEM  Middle East & North Africa           Low income   \n",
              "260          ZAF          Sub-Saharan Africa  Upper middle income   \n",
              "261          ZMB          Sub-Saharan Africa  Lower middle income   \n",
              "262          ZWE          Sub-Saharan Africa  Lower middle income   \n",
              "\n",
              "                                          SpecialNotes     TableName  \n",
              "0                                                  NaN         Aruba  \n",
              "1                                                  NaN   Afghanistan  \n",
              "2                                                  NaN        Angola  \n",
              "3                                                  NaN       Albania  \n",
              "4                                                  NaN       Andorra  \n",
              "..                                                 ...           ...  \n",
              "258                                                NaN        Kosovo  \n",
              "259                                                NaN   Yemen, Rep.  \n",
              "260  Fiscal year end: March 31; reporting period fo...  South Africa  \n",
              "261  National accounts data were rebased to reflect...        Zambia  \n",
              "262                                                NaN      Zimbabwe  \n",
              "\n",
              "[263 rows x 5 columns]>"
            ]
          },
          "metadata": {},
          "execution_count": 21
        }
      ]
    },
    {
      "cell_type": "code",
      "source": [
        "# Estandarizamos el código de población (iso3) a minúsculas\n",
        "df_pai_ext['Country Code'] = df_pai_ext['Country Code'].str.lower()\n",
        "df_pai_ext.info"
      ],
      "metadata": {
        "colab": {
          "base_uri": "https://localhost:8080/"
        },
        "id": "ND3dtMMeYaKt",
        "outputId": "5909cd4b-59da-4d0d-9f10-3ecf5a68fe24"
      },
      "execution_count": 22,
      "outputs": [
        {
          "output_type": "execute_result",
          "data": {
            "text/plain": [
              "<bound method DataFrame.info of     Country Code                      Region          IncomeGroup  \\\n",
              "0            abw   Latin America & Caribbean          High income   \n",
              "1            afg                  South Asia           Low income   \n",
              "2            ago          Sub-Saharan Africa  Lower middle income   \n",
              "3            alb       Europe & Central Asia  Upper middle income   \n",
              "4            and       Europe & Central Asia          High income   \n",
              "..           ...                         ...                  ...   \n",
              "258          xkx       Europe & Central Asia  Upper middle income   \n",
              "259          yem  Middle East & North Africa           Low income   \n",
              "260          zaf          Sub-Saharan Africa  Upper middle income   \n",
              "261          zmb          Sub-Saharan Africa  Lower middle income   \n",
              "262          zwe          Sub-Saharan Africa  Lower middle income   \n",
              "\n",
              "                                          SpecialNotes     TableName  \n",
              "0                                                  NaN         Aruba  \n",
              "1                                                  NaN   Afghanistan  \n",
              "2                                                  NaN        Angola  \n",
              "3                                                  NaN       Albania  \n",
              "4                                                  NaN       Andorra  \n",
              "..                                                 ...           ...  \n",
              "258                                                NaN        Kosovo  \n",
              "259                                                NaN   Yemen, Rep.  \n",
              "260  Fiscal year end: March 31; reporting period fo...  South Africa  \n",
              "261  National accounts data were rebased to reflect...        Zambia  \n",
              "262                                                NaN      Zimbabwe  \n",
              "\n",
              "[263 rows x 5 columns]>"
            ]
          },
          "metadata": {},
          "execution_count": 22
        }
      ]
    },
    {
      "cell_type": "markdown",
      "source": [
        "***Nueva extracción de datos - Paises -***"
      ],
      "metadata": {
        "id": "YKTYizy7jM72"
      }
    },
    {
      "cell_type": "code",
      "source": [
        "# Releer el conjunto de datos, pero lo llamaremos df_pai_princ\n",
        "df_pai_princ = pd.read_csv('/content/countries.csv')                # Paises"
      ],
      "metadata": {
        "id": "977wrIkeJh7J"
      },
      "execution_count": 24,
      "outputs": []
    },
    {
      "cell_type": "markdown",
      "source": [
        "***Nueva transformación de datos - Paises -***"
      ],
      "metadata": {
        "id": "ABheGuEpjc9U"
      }
    },
    {
      "cell_type": "code",
      "source": [
        "# Comprobamos el DataFrame df_pai. Todas las columnas son necesarias\n",
        "df_pai_princ.info"
      ],
      "metadata": {
        "colab": {
          "base_uri": "https://localhost:8080/"
        },
        "id": "iYOo9ks1J-0z",
        "outputId": "01ddfd0a-4819-454e-beca-8a15cd1c1e89"
      },
      "execution_count": 25,
      "outputs": [
        {
          "output_type": "execute_result",
          "data": {
            "text/plain": [
              "<bound method DataFrame.info of       id alpha2 alpha3        name\n",
              "0      4     af    afg  Afganistán\n",
              "1      8     al    alb     Albania\n",
              "2    276     de    deu    Alemania\n",
              "3     20     ad    and     Andorra\n",
              "4     24     ao    ago      Angola\n",
              "..   ...    ...    ...         ...\n",
              "188  704     vn    vnm     Vietnam\n",
              "189  887     ye    yem       Yemen\n",
              "190  262     dj    dji      Yibuti\n",
              "191  894     zm    zmb      Zambia\n",
              "192  716     zw    zwe    Zimbabue\n",
              "\n",
              "[193 rows x 4 columns]>"
            ]
          },
          "metadata": {},
          "execution_count": 25
        }
      ]
    },
    {
      "cell_type": "code",
      "source": [
        "# Volvemos a comprobar el DataFrame df_pai_princ (columnas)\n",
        "for column in df_pai_princ:\n",
        "  print(column)"
      ],
      "metadata": {
        "colab": {
          "base_uri": "https://localhost:8080/"
        },
        "id": "x4grBXrObM-I",
        "outputId": "cb0f31fe-f50c-43fc-e58d-b15827b1c13f"
      },
      "execution_count": 26,
      "outputs": [
        {
          "output_type": "stream",
          "name": "stdout",
          "text": [
            "id\n",
            "alpha2\n",
            "alpha3\n",
            "name\n"
          ]
        }
      ]
    },
    {
      "cell_type": "code",
      "source": [
        "# Limpiamos columnas que no necesitamos \n",
        "df_pai_princ = df_pai_princ.drop(['id','alpha2'], axis=1)"
      ],
      "metadata": {
        "id": "vPQDVbqxKfGC"
      },
      "execution_count": 27,
      "outputs": []
    },
    {
      "cell_type": "code",
      "source": [
        "# Volvemos a comprobar el DataFrame df_pai_princ (columnas)\n",
        "for column in df_pai_princ:\n",
        "  print(column)"
      ],
      "metadata": {
        "colab": {
          "base_uri": "https://localhost:8080/"
        },
        "id": "Pa0t5J4fLNw-",
        "outputId": "cc6ca2e1-01ac-486d-c436-3842081a3cfd"
      },
      "execution_count": 28,
      "outputs": [
        {
          "output_type": "stream",
          "name": "stdout",
          "text": [
            "alpha3\n",
            "name\n"
          ]
        }
      ]
    },
    {
      "cell_type": "code",
      "source": [
        "# Renombramos columnas para hacer más manejable el df\n",
        "#     1.  alpha3                  ->  codigo_pais\n",
        "#     2.  name                    ->  pais\n",
        "df_pai_princ = df_pai_princ.set_axis(['codigo_pais',\n",
        "                      'pais'], axis=1)"
      ],
      "metadata": {
        "id": "3cobSHAiKx9-"
      },
      "execution_count": 29,
      "outputs": []
    },
    {
      "cell_type": "code",
      "source": [
        "# Volvemos a comprobar el DataFrame df_pai_princ (columnas)\n",
        "for column in df_pai_princ:\n",
        "  print(column)"
      ],
      "metadata": {
        "colab": {
          "base_uri": "https://localhost:8080/"
        },
        "id": "nTleBQLjLU7k",
        "outputId": "858d56df-7975-4db5-f1b9-c21203b90618"
      },
      "execution_count": 30,
      "outputs": [
        {
          "output_type": "stream",
          "name": "stdout",
          "text": [
            "codigo_pais\n",
            "pais\n"
          ]
        }
      ]
    },
    {
      "cell_type": "code",
      "source": [
        "# Comprobamos el DataFrame df_pai_princ. Todas las columnas son necesarias\n",
        "df_pai_princ.info"
      ],
      "metadata": {
        "colab": {
          "base_uri": "https://localhost:8080/"
        },
        "id": "x7gRbpvtLakw",
        "outputId": "633f1598-a2c4-4f2f-9356-8f58c448aea8"
      },
      "execution_count": 31,
      "outputs": [
        {
          "output_type": "execute_result",
          "data": {
            "text/plain": [
              "<bound method DataFrame.info of     codigo_pais        pais\n",
              "0           afg  Afganistán\n",
              "1           alb     Albania\n",
              "2           deu    Alemania\n",
              "3           and     Andorra\n",
              "4           ago      Angola\n",
              "..          ...         ...\n",
              "188         vnm     Vietnam\n",
              "189         yem       Yemen\n",
              "190         dji      Yibuti\n",
              "191         zmb      Zambia\n",
              "192         zwe    Zimbabue\n",
              "\n",
              "[193 rows x 2 columns]>"
            ]
          },
          "metadata": {},
          "execution_count": 31
        }
      ]
    },
    {
      "cell_type": "code",
      "source": [
        "# Ahora hacemos un inner join entre el DataFrame con 193 filas y el que tiene más, \n",
        "# el resultado será extender (columnas) el df más restrictivo (filas)\n",
        "df_pai = pd.merge(df_pai_princ, df_pai_ext, how='inner', left_on='codigo_pais', right_on='Country Code')\n",
        "df_pai.info"
      ],
      "metadata": {
        "colab": {
          "base_uri": "https://localhost:8080/"
        },
        "id": "u4Be96CYWgwZ",
        "outputId": "7b805186-f75f-4ef4-bf48-04f8e8668b76"
      },
      "execution_count": 32,
      "outputs": [
        {
          "output_type": "execute_result",
          "data": {
            "text/plain": [
              "<bound method DataFrame.info of     codigo_pais        pais Country Code                      Region  \\\n",
              "0           afg  Afganistán          afg                  South Asia   \n",
              "1           alb     Albania          alb       Europe & Central Asia   \n",
              "2           deu    Alemania          deu       Europe & Central Asia   \n",
              "3           and     Andorra          and       Europe & Central Asia   \n",
              "4           ago      Angola          ago          Sub-Saharan Africa   \n",
              "..          ...         ...          ...                         ...   \n",
              "188         vnm     Vietnam          vnm         East Asia & Pacific   \n",
              "189         yem       Yemen          yem  Middle East & North Africa   \n",
              "190         dji      Yibuti          dji  Middle East & North Africa   \n",
              "191         zmb      Zambia          zmb          Sub-Saharan Africa   \n",
              "192         zwe    Zimbabue          zwe          Sub-Saharan Africa   \n",
              "\n",
              "             IncomeGroup                                       SpecialNotes  \\\n",
              "0             Low income                                                NaN   \n",
              "1    Upper middle income                                                NaN   \n",
              "2            High income                                                NaN   \n",
              "3            High income                                                NaN   \n",
              "4    Lower middle income                                                NaN   \n",
              "..                   ...                                                ...   \n",
              "188  Lower middle income                                                NaN   \n",
              "189           Low income                                                NaN   \n",
              "190  Lower middle income                                                NaN   \n",
              "191  Lower middle income  National accounts data were rebased to reflect...   \n",
              "192  Lower middle income                                                NaN   \n",
              "\n",
              "       TableName  \n",
              "0    Afghanistan  \n",
              "1        Albania  \n",
              "2        Germany  \n",
              "3        Andorra  \n",
              "4         Angola  \n",
              "..           ...  \n",
              "188      Vietnam  \n",
              "189  Yemen, Rep.  \n",
              "190     Djibouti  \n",
              "191       Zambia  \n",
              "192     Zimbabwe  \n",
              "\n",
              "[193 rows x 7 columns]>"
            ]
          },
          "metadata": {},
          "execution_count": 32
        }
      ]
    },
    {
      "cell_type": "code",
      "source": [
        "# Limpiamos columnas que no necesitamos \n",
        "df_pai = df_pai.drop(['Country Code', 'SpecialNotes', 'TableName'], axis=1)"
      ],
      "metadata": {
        "id": "TFSVrF65bhhT"
      },
      "execution_count": 33,
      "outputs": []
    },
    {
      "cell_type": "code",
      "source": [
        "# Volvemos a comprobar el DataFrame df_pai (columnas)\n",
        "for column in df_pai:\n",
        "  print(column)"
      ],
      "metadata": {
        "colab": {
          "base_uri": "https://localhost:8080/"
        },
        "id": "5VVkulIfbs3v",
        "outputId": "f1ca05da-8ecc-4bdb-cb5c-6fdb64a9f3a3"
      },
      "execution_count": 34,
      "outputs": [
        {
          "output_type": "stream",
          "name": "stdout",
          "text": [
            "codigo_pais\n",
            "pais\n",
            "Region\n",
            "IncomeGroup\n"
          ]
        }
      ]
    },
    {
      "cell_type": "code",
      "source": [
        "# Renombramos columnas para hacer más manejable el df\n",
        "#     1.  codigo_pais             ->  codigo_pais\n",
        "#     2.  pais                    ->  pais\n",
        "#     3.  Region                  ->  region\n",
        "#     4.  IncomeGroup             ->  grupo_ingresos\n",
        "df_pai = df_pai.set_axis(['codigo_pais',\n",
        "                      'pais',\n",
        "                      'region',\n",
        "                      'grupo_ingresos'], axis=1)"
      ],
      "metadata": {
        "id": "LvbZ4jxRcAjL"
      },
      "execution_count": 35,
      "outputs": []
    },
    {
      "cell_type": "code",
      "source": [
        "# Volvemos a comprobar el DataFrame df_pai (columnas)\n",
        "for column in df_pai:\n",
        "  print(column)"
      ],
      "metadata": {
        "colab": {
          "base_uri": "https://localhost:8080/"
        },
        "id": "dTnOpyftdAs8",
        "outputId": "119346e2-47ea-4c5f-e15b-4ccf4a3c3e37"
      },
      "execution_count": 36,
      "outputs": [
        {
          "output_type": "stream",
          "name": "stdout",
          "text": [
            "codigo_pais\n",
            "pais\n",
            "region\n",
            "grupo_ingresos\n"
          ]
        }
      ]
    },
    {
      "cell_type": "markdown",
      "source": [
        "***Transformación de datos - Indicadores -***"
      ],
      "metadata": {
        "id": "v9dT5zaRj5iZ"
      }
    },
    {
      "cell_type": "code",
      "source": [
        "# Comprobamos el DataFrame df_ind\n",
        "df_ind.info"
      ],
      "metadata": {
        "colab": {
          "base_uri": "https://localhost:8080/"
        },
        "id": "TycBwbJPyhJf",
        "outputId": "48017f3e-a414-4626-e2c4-d82adf43de54"
      },
      "execution_count": null,
      "outputs": [
        {
          "output_type": "execute_result",
          "data": {
            "text/plain": [
              "<bound method DataFrame.info of          INDICATOR_CODE                                     INDICATOR_NAME  \\\n",
              "0           SP.POP.GROW                       Population growth (annual %)   \n",
              "1           SP.POP.TOTL                                  Population, total   \n",
              "2           EN.POP.DNST  Population density (people per sq. km of land ...   \n",
              "3     SP.POP.TOTL.FE.IN                                 Population, female   \n",
              "4     SP.POP.TOTL.MA.IN                                   Population, male   \n",
              "...                 ...                                                ...   \n",
              "1211     DT.DOD.DSTC.CD  External debt stocks, short-term (DOD, current...   \n",
              "1212     DT.DOD.DPPG.CD  External debt stocks, public and publicly guar...   \n",
              "1213     DT.DOD.DPNG.CD  External debt stocks, private nonguaranteed (P...   \n",
              "1214     DT.DOD.DLXF.CD  External debt stocks, long-term (DOD, current ...   \n",
              "1215     DT.DOD.DIMF.CD               Use of IMF credit (DOD, current US$)   \n",
              "\n",
              "                                            SOURCE_NOTE  \\\n",
              "0     Annual population growth rate for year t is th...   \n",
              "1     Total population is based on the de facto defi...   \n",
              "2     Population density is midyear population divid...   \n",
              "3     Female population is based on the de facto def...   \n",
              "4     Male population is based on the de facto defin...   \n",
              "...                                                 ...   \n",
              "1211  Short-term external debt is defined as debt th...   \n",
              "1212  Public and publicly guaranteed debt comprises ...   \n",
              "1213  Private nonguaranteed external debt comprises ...   \n",
              "1214  Long-term debt is debt that has an original or...   \n",
              "1215  Use of IMF Credit: Data related to the operati...   \n",
              "\n",
              "                                    SOURCE_ORGANIZATION  \n",
              "0     Derived from total population. Population sour...  \n",
              "1     (1) United Nations Population Division. World ...  \n",
              "2     Food and Agriculture Organization and World Ba...  \n",
              "3     World Bank staff estimates using the World Ban...  \n",
              "4     World Bank staff estimates using the World Ban...  \n",
              "...                                                 ...  \n",
              "1211         World Bank, International Debt Statistics.  \n",
              "1212         World Bank, International Debt Statistics.  \n",
              "1213         World Bank, International Debt Statistics.  \n",
              "1214         World Bank, International Debt Statistics.  \n",
              "1215         World Bank, International Debt Statistics.  \n",
              "\n",
              "[1216 rows x 4 columns]>"
            ]
          },
          "metadata": {},
          "execution_count": 32
        }
      ]
    },
    {
      "cell_type": "code",
      "source": [
        "# Redefinimos la lectura para capturar solamente las columnas que nos interesa de l DataFrame df_ind\n",
        "# Consideramos solo el indicador y el descriptivo\n",
        "df_ind = pd.read_excel('/content/PopulationDataWorldBank.xlsx','Metadata Indicators').loc[:, ('INDICATOR_CODE', 'INDICATOR_NAME')]\n",
        "df_ind.info"
      ],
      "metadata": {
        "colab": {
          "base_uri": "https://localhost:8080/"
        },
        "id": "xwESFxZ6z0Lh",
        "outputId": "ee5b2fdc-0947-4932-b7f6-6454bcec11b2"
      },
      "execution_count": null,
      "outputs": [
        {
          "output_type": "execute_result",
          "data": {
            "text/plain": [
              "<bound method DataFrame.info of          INDICATOR_CODE                                     INDICATOR_NAME\n",
              "0           SP.POP.GROW                       Population growth (annual %)\n",
              "1           SP.POP.TOTL                                  Population, total\n",
              "2           EN.POP.DNST  Population density (people per sq. km of land ...\n",
              "3     SP.POP.TOTL.FE.IN                                 Population, female\n",
              "4     SP.POP.TOTL.MA.IN                                   Population, male\n",
              "...                 ...                                                ...\n",
              "1211     DT.DOD.DSTC.CD  External debt stocks, short-term (DOD, current...\n",
              "1212     DT.DOD.DPPG.CD  External debt stocks, public and publicly guar...\n",
              "1213     DT.DOD.DPNG.CD  External debt stocks, private nonguaranteed (P...\n",
              "1214     DT.DOD.DLXF.CD  External debt stocks, long-term (DOD, current ...\n",
              "1215     DT.DOD.DIMF.CD               Use of IMF credit (DOD, current US$)\n",
              "\n",
              "[1216 rows x 2 columns]>"
            ]
          },
          "metadata": {},
          "execution_count": 35
        }
      ]
    },
    {
      "cell_type": "code",
      "source": [
        "# Volvemos a comprobar el DataFrame df_ind (columnas)\n",
        "for column in df_ind:\n",
        "  print(column)"
      ],
      "metadata": {
        "id": "vA6qcx6TvcCH",
        "colab": {
          "base_uri": "https://localhost:8080/"
        },
        "outputId": "e4512327-93cb-4bb7-eefa-e3733fa926a9"
      },
      "execution_count": null,
      "outputs": [
        {
          "output_type": "stream",
          "name": "stdout",
          "text": [
            "INDICATOR_CODE\n",
            "INDICATOR_NAME\n"
          ]
        }
      ]
    },
    {
      "cell_type": "code",
      "source": [
        "# Renombramos columnas para hacer más manejable el df\n",
        "#     1.  INDICATOR_CODE          ->  codigo_indicador\n",
        "#     2.  INDICATOR_NAME          ->  indicador\n",
        "df_ind = df_ind.set_axis(['codigo_indicador',\n",
        "                      'indicador'], axis=1)"
      ],
      "metadata": {
        "id": "2vTP3H94dRmd"
      },
      "execution_count": null,
      "outputs": []
    },
    {
      "cell_type": "code",
      "source": [
        "# Volvemos a comprobar el DataFrame df_ind (columnas)\n",
        "for column in df_ind:\n",
        "  print(column)"
      ],
      "metadata": {
        "colab": {
          "base_uri": "https://localhost:8080/"
        },
        "id": "UddocO4gdvOC",
        "outputId": "4ba581fd-c4ea-4411-dd99-9f89c97745d2"
      },
      "execution_count": null,
      "outputs": [
        {
          "output_type": "stream",
          "name": "stdout",
          "text": [
            "codigo_indicador\n",
            "indicador\n"
          ]
        }
      ]
    }
  ]
}